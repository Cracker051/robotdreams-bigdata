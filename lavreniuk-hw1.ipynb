{
 "cells": [
  {
   "cell_type": "raw",
   "metadata": {},
   "source": [
    "📌 Завдання\n",
    "\n",
    "✅ Завдання 1: Розгортання інфраструктури\n",
    "\n",
    "1. Створити EMR кластер з підтримкою Apache Spark.\n",
    "2. Підключити кластер до S3 для імпорту та збереження даних.\n",
    "\n",
    "✅ Завдання 2: Імпорт, уніфікація та об’єднання\n",
    "\n",
    "1. Імпортувати дані жовтих та зелених поїздок:\n",
    "  * Зчитати ys3://robot-dreams-source-data/home-work-1/nyc_taxi/ у Spark.\n",
    "2. Уніфікувати схеми:\n",
    "  * Переконатись, що всі колонки мають однакові назви та типи даних.\n",
    "  * Додати колонку taxi_type з відповідними значеннями: yellow або green.\n",
    "3. Об’єднати дані в один датафрейм raw_trips_df.\n",
    "4. Виконати фільтрацію аномальних записів:\n",
    "  * Вилучити поїздки з відстанню < 0.1 км, тарифом < $2, тривалістю < 1 хв.\n",
    "5. Додати наступні колонки:\n",
    "  * pickup_hour — годину початку поїздки.\n",
    "  * pickup_day_of_week — день тижня.\n",
    "  * duration_min — тривалість поїздки в хвилинах.\n",
    "6. Виконати JOIN з taxi_zone_lookup.csv, додавши поля pickup_zone, dropoff_zone.\n",
    "\n",
    "✅ Завдання 3: Створення та агрегація фінального датафрейму zone_summary\n",
    "\n",
    " 1. Створити датафрейм zone_summary, що містить наступні колонки:\n",
    "\n",
    "  * pickup_zone — зона посадки\n",
    "  * total_trips — загальна кількість поїздок\n",
    "  * avg_trip_distance — середня відстань поїздки\n",
    "  * avg_total_amount — середній тариф поїздки\n",
    "  * avg_tip_amount — середня сума чайових\n",
    "  * yellow_share — частка жовтих поїздок у зоні\n",
    "  * green_share — частка зелених поїздок у зоні\n",
    "  * max_trip_distance — максимальна відстань поїздки\n",
    "  * min_tip_amount — мінімальна сума чайових\n",
    "\n",
    " 2. Зберегти агрегаційні результати:\n",
    "\n",
    "  * Записати весь результат в один файл: Файл zone_summary.parquet для подальшого використання.\n",
    "  * Розмістити цей файл у S3 в папку /yourbucket/results/zone_statistic/{date}/zone_statistic.parquet.\n",
    "\n",
    "✅ Завдання 4: Агрегація по днях тижня та зонах\n",
    "\n",
    "1. Підрахувати кількість поїздок за певний день тижня (наприклад, понеділок — Sunday, etc.).\n",
    "2. Розрахувати частку поїздок з тарифами більше $30 за кожною зоною (high_fare_share).\n",
    "3. Зберегти файл в у S3: /your-bucket/results/zone_days_statstic/{date}/zone_days_statstic.parquet."
   ]
  },
  {
   "cell_type": "code",
   "execution_count": 1,
   "metadata": {
    "execution": {
     "iopub.execute_input": "2025-07-15T19:28:44.335010Z",
     "iopub.status.busy": "2025-07-15T19:28:44.334734Z",
     "iopub.status.idle": "2025-07-15T19:28:55.440373Z",
     "shell.execute_reply": "2025-07-15T19:28:55.439558Z",
     "shell.execute_reply.started": "2025-07-15T19:28:44.334984Z"
    },
    "executionRoleArn": "arn:aws:iam::554739427960:role/service-role/AmazonEMRStudio_RuntimeRole_1751874382874",
    "tags": []
   },
   "outputs": [
    {
     "data": {
      "application/vnd.jupyter.widget-view+json": {
       "model_id": "ea906f006da747549da3974f862e3218",
       "version_major": 2,
       "version_minor": 0
      },
      "text/plain": [
       "VBox()"
      ]
     },
     "metadata": {},
     "output_type": "display_data"
    },
    {
     "name": "stdout",
     "output_type": "stream",
     "text": [
      "Starting Spark application\n"
     ]
    },
    {
     "data": {
      "text/html": [
       "<table>\n",
       "    <tr><th>ID</th><th>Kind</th><th>State</th><th>Spark UI</th><th>Driver log</th><th>User</th><th>Current session?</th></tr><tr><td>1</td><td>pyspark</td><td>idle</td><td><a target=\"_blank\" href=\"https://spark-live-ui.emr-serverless.amazonaws.com\" class=\"emr-proxy-link\" emr-runtime=\"emr-serverless\" emr-resource=\"00fu2dpkfnv4q91e\" application-id=\"00ftvtjijdnsdp1d\">Link</a></td><td></td><td>None</td><td>✔</td></tr></table>"
      ],
      "text/plain": [
       "<IPython.core.display.HTML object>"
      ]
     },
     "metadata": {},
     "output_type": "display_data"
    },
    {
     "data": {
      "application/vnd.jupyter.widget-view+json": {
       "model_id": "",
       "version_major": 2,
       "version_minor": 0
      },
      "text/plain": [
       "FloatProgress(value=0.0, bar_style='info', description='Progress:', layout=Layout(height='25px', width='50%'),…"
      ]
     },
     "metadata": {},
     "output_type": "display_data"
    },
    {
     "name": "stdout",
     "output_type": "stream",
     "text": [
      "SparkSession available as 'spark'.\n"
     ]
    },
    {
     "data": {
      "application/vnd.jupyter.widget-view+json": {
       "model_id": "",
       "version_major": 2,
       "version_minor": 0
      },
      "text/plain": [
       "FloatProgress(value=0.0, bar_style='info', description='Progress:', layout=Layout(height='25px', width='50%'),…"
      ]
     },
     "metadata": {},
     "output_type": "display_data"
    }
   ],
   "source": [
    "sc = spark.sparkContext"
   ]
  },
  {
   "cell_type": "code",
   "execution_count": 2,
   "metadata": {
    "execution": {
     "iopub.execute_input": "2025-07-15T19:28:56.313844Z",
     "iopub.status.busy": "2025-07-15T19:28:56.313577Z",
     "iopub.status.idle": "2025-07-15T19:28:57.429362Z",
     "shell.execute_reply": "2025-07-15T19:28:57.428943Z",
     "shell.execute_reply.started": "2025-07-15T19:28:56.313825Z"
    },
    "executionRoleArn": "arn:aws:iam::554739427960:role/service-role/AmazonEMRStudio_RuntimeRole_1751874382874",
    "tags": []
   },
   "outputs": [
    {
     "data": {
      "application/vnd.jupyter.widget-view+json": {
       "model_id": "790ae160529a49d3bf5df037dae16c5e",
       "version_major": 2,
       "version_minor": 0
      },
      "text/plain": [
       "VBox()"
      ]
     },
     "metadata": {},
     "output_type": "display_data"
    },
    {
     "data": {
      "application/vnd.jupyter.widget-view+json": {
       "model_id": "",
       "version_major": 2,
       "version_minor": 0
      },
      "text/plain": [
       "FloatProgress(value=0.0, bar_style='info', description='Progress:', layout=Layout(height='25px', width='50%'),…"
      ]
     },
     "metadata": {},
     "output_type": "display_data"
    },
    {
     "name": "stdout",
     "output_type": "stream",
     "text": [
      "'3.4.1-amzn-2'"
     ]
    }
   ],
   "source": [
    "spark.version"
   ]
  },
  {
   "cell_type": "code",
   "execution_count": 3,
   "metadata": {
    "execution": {
     "iopub.execute_input": "2025-07-15T19:28:58.203912Z",
     "iopub.status.busy": "2025-07-15T19:28:58.203644Z",
     "iopub.status.idle": "2025-07-15T19:28:58.322932Z",
     "shell.execute_reply": "2025-07-15T19:28:58.322542Z",
     "shell.execute_reply.started": "2025-07-15T19:28:58.203893Z"
    },
    "executionRoleArn": "arn:aws:iam::554739427960:role/service-role/AmazonEMRStudio_RuntimeRole_1751874382874",
    "tags": []
   },
   "outputs": [
    {
     "data": {
      "application/vnd.jupyter.widget-view+json": {
       "model_id": "76d8489cbd61473888a22f381317941d",
       "version_major": 2,
       "version_minor": 0
      },
      "text/plain": [
       "VBox()"
      ]
     },
     "metadata": {},
     "output_type": "display_data"
    },
    {
     "data": {
      "application/vnd.jupyter.widget-view+json": {
       "model_id": "",
       "version_major": 2,
       "version_minor": 0
      },
      "text/plain": [
       "FloatProgress(value=0.0, bar_style='info', description='Progress:', layout=Layout(height='25px', width='50%'),…"
      ]
     },
     "metadata": {},
     "output_type": "display_data"
    }
   ],
   "source": [
    "from enum import Enum\n",
    "\n",
    "\n",
    "class TaxiColors(str, Enum):\n",
    "    GREEN = \"green\"\n",
    "    YELLOW = \"yellow\""
   ]
  },
  {
   "cell_type": "code",
   "execution_count": 4,
   "metadata": {
    "execution": {
     "iopub.execute_input": "2025-07-15T19:28:59.380226Z",
     "iopub.status.busy": "2025-07-15T19:28:59.379958Z",
     "iopub.status.idle": "2025-07-15T19:28:59.497633Z",
     "shell.execute_reply": "2025-07-15T19:28:59.497110Z",
     "shell.execute_reply.started": "2025-07-15T19:28:59.380206Z"
    },
    "executionRoleArn": "arn:aws:iam::554739427960:role/service-role/AmazonEMRStudio_RuntimeRole_1751874382874",
    "tags": []
   },
   "outputs": [
    {
     "data": {
      "application/vnd.jupyter.widget-view+json": {
       "model_id": "fb50423584a9487297f5ca6137f87b85",
       "version_major": 2,
       "version_minor": 0
      },
      "text/plain": [
       "VBox()"
      ]
     },
     "metadata": {},
     "output_type": "display_data"
    },
    {
     "data": {
      "application/vnd.jupyter.widget-view+json": {
       "model_id": "",
       "version_major": 2,
       "version_minor": 0
      },
      "text/plain": [
       "FloatProgress(value=0.0, bar_style='info', description='Progress:', layout=Layout(height='25px', width='50%'),…"
      ]
     },
     "metadata": {},
     "output_type": "display_data"
    }
   ],
   "source": [
    "import os\n",
    "\n",
    "TAXI_DIR_PATH = \"s3://robot-dreams-source-data/home-work-1/nyc_taxi/\"\n",
    "YELLOW_TAXI_DIR_PATH = os.path.join(TAXI_DIR_PATH, TaxiColors.YELLOW)\n",
    "GREEN_TAXI_DIR_PATH = os.path.join(TAXI_DIR_PATH, TaxiColors.GREEN)"
   ]
  },
  {
   "cell_type": "code",
   "execution_count": 5,
   "metadata": {
    "execution": {
     "iopub.execute_input": "2025-07-15T19:29:00.247282Z",
     "iopub.status.busy": "2025-07-15T19:29:00.247024Z",
     "iopub.status.idle": "2025-07-15T19:29:05.725070Z",
     "shell.execute_reply": "2025-07-15T19:29:05.724474Z",
     "shell.execute_reply.started": "2025-07-15T19:29:00.247264Z"
    },
    "executionRoleArn": "arn:aws:iam::554739427960:role/service-role/AmazonEMRStudio_RuntimeRole_1751874382874",
    "tags": []
   },
   "outputs": [
    {
     "data": {
      "application/vnd.jupyter.widget-view+json": {
       "model_id": "532f737331c641b4a5bad3656008806c",
       "version_major": 2,
       "version_minor": 0
      },
      "text/plain": [
       "VBox()"
      ]
     },
     "metadata": {},
     "output_type": "display_data"
    },
    {
     "data": {
      "application/vnd.jupyter.widget-view+json": {
       "model_id": "",
       "version_major": 2,
       "version_minor": 0
      },
      "text/plain": [
       "FloatProgress(value=0.0, bar_style='info', description='Progress:', layout=Layout(height='25px', width='50%'),…"
      ]
     },
     "metadata": {},
     "output_type": "display_data"
    }
   ],
   "source": [
    "# Use just for schema reading\n",
    "\n",
    "df_yellow_limited = (spark.read.options(\n",
    "    mergeSchema=\"false\",\n",
    "    recursiveFileLookup=\"true\",\n",
    ").parquet(YELLOW_TAXI_DIR_PATH).limit(1))\n",
    "\n",
    "df_green_limited = (spark.read.options(\n",
    "    mergeSchema=\"false\",\n",
    "    recursiveFileLookup=\"true\",\n",
    ").parquet(GREEN_TAXI_DIR_PATH).limit(1))"
   ]
  },
  {
   "cell_type": "code",
   "execution_count": 6,
   "metadata": {
    "execution": {
     "iopub.execute_input": "2025-07-15T19:29:05.726496Z",
     "iopub.status.busy": "2025-07-15T19:29:05.726120Z",
     "iopub.status.idle": "2025-07-15T19:29:05.849748Z",
     "shell.execute_reply": "2025-07-15T19:29:05.849363Z",
     "shell.execute_reply.started": "2025-07-15T19:29:05.726479Z"
    },
    "executionRoleArn": "arn:aws:iam::554739427960:role/service-role/AmazonEMRStudio_RuntimeRole_1751874382874",
    "tags": []
   },
   "outputs": [
    {
     "data": {
      "application/vnd.jupyter.widget-view+json": {
       "model_id": "5cd6146b14f2481b9d1d4b818fba4dc7",
       "version_major": 2,
       "version_minor": 0
      },
      "text/plain": [
       "VBox()"
      ]
     },
     "metadata": {},
     "output_type": "display_data"
    },
    {
     "data": {
      "application/vnd.jupyter.widget-view+json": {
       "model_id": "",
       "version_major": 2,
       "version_minor": 0
      },
      "text/plain": [
       "FloatProgress(value=0.0, bar_style='info', description='Progress:', layout=Layout(height='25px', width='50%'),…"
      ]
     },
     "metadata": {},
     "output_type": "display_data"
    },
    {
     "name": "stdout",
     "output_type": "stream",
     "text": [
      "Yellow: StructField('DOLocationID', LongType(), True)\t\tGreen: StructField('DOLocationID', LongType(), True)\n",
      "Yellow: StructField('PULocationID', LongType(), True)\t\tGreen: StructField('PULocationID', LongType(), True)\n",
      "Yellow: StructField('RatecodeID', LongType(), True)\t\tGreen: StructField('RatecodeID', LongType(), True)\n",
      "Yellow: StructField('VendorID', LongType(), True)\t\tGreen: StructField('VendorID', LongType(), True)\n",
      "Yellow: StructField('airport_fee', IntegerType(), True)\t\tGreen: StructField('congestion_surcharge', IntegerType(), True)\n",
      "Yellow: StructField('congestion_surcharge', DoubleType(), True)\t\tGreen: StructField('ehail_fee', IntegerType(), True)\n",
      "Yellow: StructField('extra', DoubleType(), True)\t\tGreen: StructField('extra', DoubleType(), True)\n",
      "Yellow: StructField('fare_amount', DoubleType(), True)\t\tGreen: StructField('fare_amount', DoubleType(), True)\n",
      "Yellow: StructField('improvement_surcharge', DoubleType(), True)\t\tGreen: StructField('improvement_surcharge', DoubleType(), True)\n",
      "Yellow: StructField('mta_tax', DoubleType(), True)\t\tGreen: StructField('lpep_dropoff_datetime', TimestampNTZType(), True)\n",
      "Yellow: StructField('passenger_count', LongType(), True)\t\tGreen: StructField('lpep_pickup_datetime', TimestampNTZType(), True)\n",
      "Yellow: StructField('payment_type', LongType(), True)\t\tGreen: StructField('mta_tax', DoubleType(), True)\n",
      "Yellow: StructField('store_and_fwd_flag', StringType(), True)\t\tGreen: StructField('passenger_count', LongType(), True)\n",
      "Yellow: StructField('tip_amount', DoubleType(), True)\t\tGreen: StructField('payment_type', LongType(), True)\n",
      "Yellow: StructField('tolls_amount', DoubleType(), True)\t\tGreen: StructField('store_and_fwd_flag', StringType(), True)\n",
      "Yellow: StructField('total_amount', DoubleType(), True)\t\tGreen: StructField('tip_amount', DoubleType(), True)\n",
      "Yellow: StructField('tpep_dropoff_datetime', TimestampNTZType(), True)\t\tGreen: StructField('tolls_amount', DoubleType(), True)\n",
      "Yellow: StructField('tpep_pickup_datetime', TimestampNTZType(), True)\t\tGreen: StructField('total_amount', DoubleType(), True)\n",
      "Yellow: StructField('trip_distance', DoubleType(), True)\t\tGreen: StructField('trip_distance', DoubleType(), True)\n",
      "Yellow: None\t\tGreen: StructField('trip_type', DoubleType(), True)"
     ]
    }
   ],
   "source": [
    "# Print schema of both dfs\n",
    "from itertools import zip_longest\n",
    "\n",
    "\n",
    "def get_sorted_schema(schema):\n",
    "    return sorted(schema, key=lambda x: x.name)\n",
    "\n",
    "\n",
    "for c_yellow, c_green in zip_longest(\n",
    "        get_sorted_schema(df_yellow_limited.schema),\n",
    "        get_sorted_schema(df_green_limited.schema)):\n",
    "    print(f\"Yellow: {c_yellow}\\t\\tGreen: {c_green}\")"
   ]
  },
  {
   "cell_type": "code",
   "execution_count": 7,
   "metadata": {
    "execution": {
     "iopub.execute_input": "2025-07-15T19:29:05.850527Z",
     "iopub.status.busy": "2025-07-15T19:29:05.850387Z",
     "iopub.status.idle": "2025-07-15T19:29:05.972290Z",
     "shell.execute_reply": "2025-07-15T19:29:05.971923Z",
     "shell.execute_reply.started": "2025-07-15T19:29:05.850511Z"
    },
    "executionRoleArn": "arn:aws:iam::554739427960:role/service-role/AmazonEMRStudio_RuntimeRole_1751874382874",
    "tags": []
   },
   "outputs": [
    {
     "data": {
      "application/vnd.jupyter.widget-view+json": {
       "model_id": "16b2b041301c4933a81db0ae81b0289f",
       "version_major": 2,
       "version_minor": 0
      },
      "text/plain": [
       "VBox()"
      ]
     },
     "metadata": {},
     "output_type": "display_data"
    },
    {
     "data": {
      "application/vnd.jupyter.widget-view+json": {
       "model_id": "",
       "version_major": 2,
       "version_minor": 0
      },
      "text/plain": [
       "FloatProgress(value=0.0, bar_style='info', description='Progress:', layout=Layout(height='25px', width='50%'),…"
      ]
     },
     "metadata": {},
     "output_type": "display_data"
    },
    {
     "name": "stdout",
     "output_type": "stream",
     "text": [
      "StructField('lpep_dropoff_datetime', TimestampNTZType(), True)\n",
      "StructField('tpep_dropoff_datetime', TimestampNTZType(), True)\n",
      "StructField('lpep_pickup_datetime', TimestampNTZType(), True)\n",
      "StructField('congestion_surcharge', DoubleType(), True)\n",
      "StructField('ehail_fee', IntegerType(), True)\n",
      "StructField('airport_fee', IntegerType(), True)\n",
      "StructField('trip_type', DoubleType(), True)\n",
      "StructField('tpep_pickup_datetime', TimestampNTZType(), True)\n",
      "StructField('congestion_surcharge', IntegerType(), True)"
     ]
    }
   ],
   "source": [
    "# Get differences in schema\n",
    "\n",
    "for diff in set(df_green_limited.schema) ^ set(df_yellow_limited.schema):\n",
    "    print(diff)"
   ]
  },
  {
   "cell_type": "code",
   "execution_count": 9,
   "metadata": {
    "execution": {
     "iopub.execute_input": "2025-07-15T19:29:22.633977Z",
     "iopub.status.busy": "2025-07-15T19:29:22.633655Z",
     "iopub.status.idle": "2025-07-15T19:29:24.034538Z",
     "shell.execute_reply": "2025-07-15T19:29:24.034053Z",
     "shell.execute_reply.started": "2025-07-15T19:29:22.633958Z"
    },
    "executionRoleArn": "arn:aws:iam::554739427960:role/service-role/AmazonEMRStudio_RuntimeRole_1751874382874",
    "tags": []
   },
   "outputs": [
    {
     "data": {
      "application/vnd.jupyter.widget-view+json": {
       "model_id": "f3f4eb5285c34c399117bce13b8707a0",
       "version_major": 2,
       "version_minor": 0
      },
      "text/plain": [
       "VBox()"
      ]
     },
     "metadata": {},
     "output_type": "display_data"
    },
    {
     "data": {
      "application/vnd.jupyter.widget-view+json": {
       "model_id": "",
       "version_major": 2,
       "version_minor": 0
      },
      "text/plain": [
       "FloatProgress(value=0.0, bar_style='info', description='Progress:', layout=Layout(height='25px', width='50%'),…"
      ]
     },
     "metadata": {},
     "output_type": "display_data"
    }
   ],
   "source": [
    "# Creating schemas and read whole dataframes\n",
    "\n",
    "from pyspark.sql.types import StructType, StructField, StringType, DoubleType, LongType, TimestampNTZType, IntegerType\n",
    "from pyspark.sql.functions import col\n",
    "\n",
    "common_schema = StructType([\n",
    "    StructField('VendorID', LongType(), True),\n",
    "\n",
    "    #     StructField('tpep_pickup_datetime', TimestampNTZType(), True), # available only in yellow\n",
    "    #     StructField('tpep_dropoff_datetime', TimestampNTZType(), True), # available only in yellow\n",
    "\n",
    "    #     StructField('lpep_pickup_datetime', TimestampNTZType(), True), # available only in green\n",
    "    #     StructField('tpep_dropoff_datetime', TimestampNTZType(), True), # available only in green\n",
    "\n",
    "    #     StructField('passenger_count', DoubleType(), True), # available type in green\n",
    "    #     StructField('passenger_count', LongType(), True), # available type in yellow\n",
    "\n",
    "    #     StructField('RatecodeID', LongType(), True),  # available type in green\n",
    "    #     StructField('RatecodeID', DoubleType(), True),  # available type in green\n",
    "    \n",
    "    #     StructField('payment_type', LongType(), True),  # changed because of error\n",
    "    #     StructField('payment_type', DoubleType(), True),  # available type in green\n",
    "    \n",
    "    StructField('PULocationID', LongType(), True), # green\n",
    "    StructField('trip_distance', DoubleType(), True),\n",
    "    StructField('store_and_fwd_flag', StringType(), True),\n",
    "    StructField('DOLocationID', LongType(), True),\n",
    "    StructField('fare_amount', DoubleType(), True),\n",
    "    StructField('extra', DoubleType(), True),\n",
    "    StructField('mta_tax', DoubleType(), True),\n",
    "    StructField('tip_amount', DoubleType(), True),\n",
    "    StructField('tolls_amount', DoubleType(), True),\n",
    "    StructField('improvement_surcharge', DoubleType(), True),\n",
    "    StructField('total_amount', DoubleType(), True),\n",
    "    StructField('congestion_surcharge', DoubleType(), True),  # Use Double here\n",
    "    StructField(\n",
    "        'trip_type', DoubleType(), True\n",
    "    )  # available only in green, but use it in both, yellow will be null-valued\n",
    "\n",
    "    #     StructField('airport_fee', IntegerType(), True), # yellow\n",
    "    #     StructField('ehail_fee', IntegerType(), True), # green\n",
    "])\n",
    "\n",
    "yellow_schema = StructType([\n",
    "    StructField('RatecodeID', LongType(), True),\n",
    "    StructField('payment_type', LongType(), True),\n",
    "    StructField('passenger_count', LongType(), True),\n",
    "    StructField('tpep_pickup_datetime', TimestampNTZType(), True),\n",
    "    StructField('tpep_dropoff_datetime', TimestampNTZType(), True),\n",
    "    StructField('airport_fee', IntegerType(), True), *common_schema\n",
    "])\n",
    "\n",
    "green_schema = StructType([\n",
    "    StructField('RatecodeID', DoubleType(), True),\n",
    "    StructField('payment_type', DoubleType(), True),\n",
    "    StructField('passenger_count', DoubleType(), True),\n",
    "    StructField('lpep_pickup_datetime', TimestampNTZType(), True),\n",
    "    StructField('lpep_dropoff_datetime', TimestampNTZType(), True),\n",
    "    StructField('ehail_fee', IntegerType(), True), *common_schema\n",
    "])\n",
    "\n",
    "\n",
    "df_yellow = (\n",
    "    spark.read.options(\n",
    "        mergeSchema=\"false\",\n",
    "        recursiveFileLookup=\"true\",\n",
    "    ).schema(yellow_schema)\n",
    "    .parquet(\n",
    "        *(os.path.join(TAXI_DIR_PATH, f\"yellow/{year}\")\n",
    "        for year in range(2014, 2023) if year not in (2019, 2021)),\n",
    "        os.path.join(TAXI_DIR_PATH, \"yellow/2023/yellow_tripdata_2023-01.parquet\")\n",
    "    )\n",
    "    .withColumnRenamed(\"tpep_pickup_datetime\", \"pickup_datetime\")\n",
    "    .withColumnRenamed(\"tpep_dropoff_datetime\", \"dropoff_datetime\")\n",
    "    .withColumnRenamed(\"airport_fee\", \"fee\")\n",
    ")\n",
    "\n",
    "df_green = (\n",
    "    spark.read.options(\n",
    "        mergeSchema=\"false\",\n",
    "        recursiveFileLookup=\"true\",\n",
    "    ).schema(green_schema)\n",
    "     .parquet(\n",
    "        *(os.path.join(TAXI_DIR_PATH, f\"green/{year}\")\n",
    "        for year in range(2014, 2023)),\n",
    "        os.path.join(TAXI_DIR_PATH, \"green/2023/green_tripdata_2023-01.parquet\")\n",
    "    )\n",
    "    .withColumnRenamed(\"lpep_pickup_datetime\", \"pickup_datetime\")\n",
    "    .withColumnRenamed(\"lpep_dropoff_datetime\",\"dropoff_datetime\")\n",
    "    .withColumnRenamed(\"ehail_fee\", \"fee\")\n",
    "    .withColumn(\"passenger_count\",col(\"passenger_count\").cast(LongType()))\n",
    "    .withColumn(\"RatecodeID\",col(\"RatecodeID\").cast(LongType()))\n",
    "    .withColumn(\"payment_type\",col(\"payment_type\").cast(LongType()))\n",
    "    # Parsing these columns to Long, not Double cause this data doesnt need decimal places.    \n",
    ")"
   ]
  },
  {
   "cell_type": "code",
   "execution_count": 10,
   "metadata": {
    "execution": {
     "iopub.execute_input": "2025-07-15T19:29:26.681144Z",
     "iopub.status.busy": "2025-07-15T19:29:26.680866Z",
     "iopub.status.idle": "2025-07-15T19:29:27.613123Z",
     "shell.execute_reply": "2025-07-15T19:29:27.612619Z",
     "shell.execute_reply.started": "2025-07-15T19:29:26.681126Z"
    },
    "executionRoleArn": "arn:aws:iam::554739427960:role/service-role/AmazonEMRStudio_RuntimeRole_1751874382874",
    "tags": []
   },
   "outputs": [
    {
     "data": {
      "application/vnd.jupyter.widget-view+json": {
       "model_id": "845dcd9c7bee4c9ebc03a9c52926259b",
       "version_major": 2,
       "version_minor": 0
      },
      "text/plain": [
       "VBox()"
      ]
     },
     "metadata": {},
     "output_type": "display_data"
    },
    {
     "data": {
      "application/vnd.jupyter.widget-view+json": {
       "model_id": "",
       "version_major": 2,
       "version_minor": 0
      },
      "text/plain": [
       "FloatProgress(value=0.0, bar_style='info', description='Progress:', layout=Layout(height='25px', width='50%'),…"
      ]
     },
     "metadata": {},
     "output_type": "display_data"
    }
   ],
   "source": [
    "# Code smell because of 2023 different schema\n",
    "\n",
    "df_yellow_2023 = (\n",
    "    spark.read.options(\n",
    "        mergeSchema=\"false\",\n",
    "        recursiveFileLookup=\"true\",\n",
    "    ).schema(StructType([\n",
    "         *(field \n",
    "          for field in yellow_schema\n",
    "          if field.name not in (\"PULocationID\", \"DOLocationID\")\n",
    "        ),\n",
    "        StructField('PULocationID', IntegerType(), True),\n",
    "        StructField('DOLocationID', IntegerType(), True),\n",
    "\n",
    "    ]))\n",
    "    .parquet(os.path.join(TAXI_DIR_PATH, \"yellow/2023/yellow_tripdata_2023-0[2-9].parquet\"))\n",
    "    .withColumnRenamed(\"tpep_pickup_datetime\", \"pickup_datetime\")\n",
    "    .withColumnRenamed(\"tpep_dropoff_datetime\", \"dropoff_datetime\")\n",
    "    .withColumnRenamed(\"airport_fee\", \"fee\")\n",
    "    .withColumn(\"PULocationID\", col(\"PULocationID\").cast(LongType()))\n",
    "    .withColumn(\"DOLocationID\", col(\"PULocationID\").cast(LongType()))\n",
    ")\n",
    "\n",
    "df_green_2023 = (\n",
    "    spark.read.options(\n",
    "        mergeSchema=\"false\",\n",
    "        recursiveFileLookup=\"true\",\n",
    "    ).schema(StructType([\n",
    "        *(field \n",
    "          for field in green_schema\n",
    "          if field.name not in (\"PULocationID\", \"DOLocationID\")\n",
    "        ), \n",
    "        StructField(\"PULocationID\", IntegerType(), True),\n",
    "        StructField('DOLocationID', IntegerType(), True)\n",
    "    ]))\n",
    "    .parquet(os.path.join(TAXI_DIR_PATH, \"green/2023/green_tripdata_2023-0[2-9].parquet\"))\n",
    "    .withColumnRenamed(\"lpep_pickup_datetime\", \"pickup_datetime\")\n",
    "    .withColumnRenamed(\"lpep_dropoff_datetime\",\"dropoff_datetime\")\n",
    "    .withColumnRenamed(\"ehail_fee\", \"fee\")\n",
    "    .withColumn(\"passenger_count\", col(\"passenger_count\").cast(LongType()))\n",
    "    .withColumn(\"RatecodeID\", col(\"RatecodeID\").cast(LongType()))\n",
    "    .withColumn(\"payment_type\", col(\"payment_type\").cast(LongType()))\n",
    "    .withColumn(\"PULocationID\", col(\"PULocationID\").cast(LongType()))\n",
    "    .withColumn(\"DOLocationID\", col(\"PULocationID\").cast(LongType()))\n",
    "    # Parsing these columns to Long, not Double cause this data doesnt need decimal places.    \n",
    ")\n",
    "\n",
    "df_yellow = df_yellow.unionByName(df_yellow_2023)\n",
    "df_green = df_green.unionByName(df_green_2023)"
   ]
  },
  {
   "cell_type": "code",
   "execution_count": 11,
   "metadata": {
    "execution": {
     "iopub.execute_input": "2025-07-15T19:29:31.583240Z",
     "iopub.status.busy": "2025-07-15T19:29:31.582966Z",
     "iopub.status.idle": "2025-07-15T19:29:31.710157Z",
     "shell.execute_reply": "2025-07-15T19:29:31.709768Z",
     "shell.execute_reply.started": "2025-07-15T19:29:31.583221Z"
    },
    "executionRoleArn": "arn:aws:iam::554739427960:role/service-role/AmazonEMRStudio_RuntimeRole_1751874382874",
    "tags": []
   },
   "outputs": [
    {
     "data": {
      "application/vnd.jupyter.widget-view+json": {
       "model_id": "4530de0bcf0d4bdb8c5ad8079f020593",
       "version_major": 2,
       "version_minor": 0
      },
      "text/plain": [
       "VBox()"
      ]
     },
     "metadata": {},
     "output_type": "display_data"
    },
    {
     "data": {
      "application/vnd.jupyter.widget-view+json": {
       "model_id": "",
       "version_major": 2,
       "version_minor": 0
      },
      "text/plain": [
       "FloatProgress(value=0.0, bar_style='info', description='Progress:', layout=Layout(height='25px', width='50%'),…"
      ]
     },
     "metadata": {},
     "output_type": "display_data"
    }
   ],
   "source": [
    "from pyspark.sql.functions import lit\n",
    "\n",
    "\n",
    "df_green = df_green.withColumn(\"taxi_type\", lit(TaxiColors.GREEN))\n",
    "df_yellow = df_yellow.withColumn(\"taxi_type\", lit(TaxiColors.YELLOW))"
   ]
  },
  {
   "cell_type": "code",
   "execution_count": 12,
   "metadata": {
    "execution": {
     "iopub.execute_input": "2025-07-15T19:29:33.712981Z",
     "iopub.status.busy": "2025-07-15T19:29:33.712630Z",
     "iopub.status.idle": "2025-07-15T19:29:39.188850Z",
     "shell.execute_reply": "2025-07-15T19:29:39.188239Z",
     "shell.execute_reply.started": "2025-07-15T19:29:33.712960Z"
    },
    "executionRoleArn": "arn:aws:iam::554739427960:role/service-role/AmazonEMRStudio_RuntimeRole_1751874382874",
    "tags": []
   },
   "outputs": [
    {
     "data": {
      "application/vnd.jupyter.widget-view+json": {
       "model_id": "1172bf9b1dff4d7e9006961b891b6891",
       "version_major": 2,
       "version_minor": 0
      },
      "text/plain": [
       "VBox()"
      ]
     },
     "metadata": {},
     "output_type": "display_data"
    },
    {
     "data": {
      "application/vnd.jupyter.widget-view+json": {
       "model_id": "",
       "version_major": 2,
       "version_minor": 0
      },
      "text/plain": [
       "FloatProgress(value=0.0, bar_style='info', description='Progress:', layout=Layout(height='25px', width='50%'),…"
      ]
     },
     "metadata": {},
     "output_type": "display_data"
    },
    {
     "name": "stdout",
     "output_type": "stream",
     "text": [
      "+---------------+----------+------------+---------+\n",
      "|passenger_count|RatecodeID|payment_type|taxi_type|\n",
      "+---------------+----------+------------+---------+\n",
      "|              6|         1|           1|   yellow|\n",
      "|              5|         1|           1|   yellow|\n",
      "|              5|         1|           1|   yellow|\n",
      "|              5|         1|           2|   yellow|\n",
      "|              2|         1|           2|   yellow|\n",
      "+---------------+----------+------------+---------+\n",
      "only showing top 5 rows"
     ]
    }
   ],
   "source": [
    "df_yellow.select(\"passenger_count\", \"RatecodeID\", \"payment_type\", \"taxi_type\").show(5)"
   ]
  },
  {
   "cell_type": "code",
   "execution_count": 13,
   "metadata": {
    "execution": {
     "iopub.execute_input": "2025-07-15T19:29:54.438261Z",
     "iopub.status.busy": "2025-07-15T19:29:54.437992Z",
     "iopub.status.idle": "2025-07-15T19:29:59.927985Z",
     "shell.execute_reply": "2025-07-15T19:29:59.927456Z",
     "shell.execute_reply.started": "2025-07-15T19:29:54.438241Z"
    },
    "executionRoleArn": "arn:aws:iam::554739427960:role/service-role/AmazonEMRStudio_RuntimeRole_1751874382874",
    "tags": []
   },
   "outputs": [
    {
     "data": {
      "application/vnd.jupyter.widget-view+json": {
       "model_id": "c35147381c194743abee476c20e4418a",
       "version_major": 2,
       "version_minor": 0
      },
      "text/plain": [
       "VBox()"
      ]
     },
     "metadata": {},
     "output_type": "display_data"
    },
    {
     "data": {
      "application/vnd.jupyter.widget-view+json": {
       "model_id": "",
       "version_major": 2,
       "version_minor": 0
      },
      "text/plain": [
       "FloatProgress(value=0.0, bar_style='info', description='Progress:', layout=Layout(height='25px', width='50%'),…"
      ]
     },
     "metadata": {},
     "output_type": "display_data"
    },
    {
     "name": "stdout",
     "output_type": "stream",
     "text": [
      "True 827697864"
     ]
    }
   ],
   "source": [
    "# Use unioning by name, I dont sure col positions are equal\n",
    "\n",
    "raw_trips_df = df_yellow.unionByName(df_green)\n",
    "print(df_green.count() + df_yellow.count() == raw_trips_df.count(), raw_trips_df.count())"
   ]
  },
  {
   "cell_type": "code",
   "execution_count": 14,
   "metadata": {
    "execution": {
     "iopub.execute_input": "2025-07-15T19:30:02.889575Z",
     "iopub.status.busy": "2025-07-15T19:30:02.889260Z",
     "iopub.status.idle": "2025-07-15T19:30:05.328695Z",
     "shell.execute_reply": "2025-07-15T19:30:05.328273Z",
     "shell.execute_reply.started": "2025-07-15T19:30:02.889557Z"
    },
    "executionRoleArn": "arn:aws:iam::554739427960:role/service-role/AmazonEMRStudio_RuntimeRole_1751874382874",
    "tags": []
   },
   "outputs": [
    {
     "data": {
      "application/vnd.jupyter.widget-view+json": {
       "model_id": "3a000449150740dc91838273d5be6048",
       "version_major": 2,
       "version_minor": 0
      },
      "text/plain": [
       "VBox()"
      ]
     },
     "metadata": {},
     "output_type": "display_data"
    },
    {
     "data": {
      "application/vnd.jupyter.widget-view+json": {
       "model_id": "",
       "version_major": 2,
       "version_minor": 0
      },
      "text/plain": [
       "FloatProgress(value=0.0, bar_style='info', description='Progress:', layout=Layout(height='25px', width='50%'),…"
      ]
     },
     "metadata": {},
     "output_type": "display_data"
    },
    {
     "name": "stdout",
     "output_type": "stream",
     "text": [
      "+-------------------+-------------------+\n",
      "|    pickup_datetime|   dropoff_datetime|\n",
      "+-------------------+-------------------+\n",
      "|2014-01-01 00:02:00|2014-01-01 00:04:00|\n",
      "|2014-01-01 00:06:00|2014-01-01 00:09:00|\n",
      "|2014-01-01 00:10:00|2014-01-01 00:13:00|\n",
      "|2014-01-01 00:54:00|2014-01-01 00:55:00|\n",
      "|2014-01-01 00:29:18|2014-01-01 00:35:13|\n",
      "+-------------------+-------------------+\n",
      "only showing top 5 rows"
     ]
    }
   ],
   "source": [
    "raw_trips_df.select(\"pickup_datetime\", \"dropoff_datetime\").show(5)"
   ]
  },
  {
   "cell_type": "code",
   "execution_count": 15,
   "metadata": {
    "execution": {
     "iopub.execute_input": "2025-07-15T19:30:06.385671Z",
     "iopub.status.busy": "2025-07-15T19:30:06.385354Z",
     "iopub.status.idle": "2025-07-15T19:31:06.593633Z",
     "shell.execute_reply": "2025-07-15T19:31:06.593096Z",
     "shell.execute_reply.started": "2025-07-15T19:30:06.385652Z"
    },
    "executionRoleArn": "arn:aws:iam::554739427960:role/service-role/AmazonEMRStudio_RuntimeRole_1751874382874",
    "tags": []
   },
   "outputs": [
    {
     "data": {
      "application/vnd.jupyter.widget-view+json": {
       "model_id": "db7e41ae8b8441a38fc8981ee176a047",
       "version_major": 2,
       "version_minor": 0
      },
      "text/plain": [
       "VBox()"
      ]
     },
     "metadata": {},
     "output_type": "display_data"
    },
    {
     "data": {
      "application/vnd.jupyter.widget-view+json": {
       "model_id": "",
       "version_major": 2,
       "version_minor": 0
      },
      "text/plain": [
       "FloatProgress(value=0.0, bar_style='info', description='Progress:', layout=Layout(height='25px', width='50%'),…"
      ]
     },
     "metadata": {},
     "output_type": "display_data"
    },
    {
     "name": "stdout",
     "output_type": "stream",
     "text": [
      "816187143"
     ]
    }
   ],
   "source": [
    "# Вилучити поїздки з відстанню < 0.1 км, тарифом < $2, тривалістю < 1 хв.\n",
    "\n",
    "from pyspark.sql.functions import unix_timestamp, dayofweek, date_trunc, hour\n",
    "from pyspark.sql.functions import round as sp_round\n",
    "\n",
    "raw_trips_df_filtered = raw_trips_df.withColumns({\n",
    "    \"pickup_hour\": hour(\"pickup_datetime\"),\n",
    "    \"pickup_day_of_week\": dayofweek(col(\"pickup_datetime\")),\n",
    "    \"duration_min\": sp_round(\n",
    "        (unix_timestamp(col(\"dropoff_datetime\")) - unix_timestamp(col(\"pickup_datetime\"))) / 60,\n",
    "        4\n",
    "    ) # long casting doesnt work with not-tz\n",
    "}).filter(\n",
    "    (col(\"trip_distance\") >= 0.1) &\n",
    "    (col(\"total_amount\") >= 2) &\n",
    "    (col(\"duration_min\") >= 1 )\n",
    ")\n",
    "\n",
    "raw_trips_df_filtered.count()"
   ]
  },
  {
   "cell_type": "code",
   "execution_count": 16,
   "metadata": {
    "execution": {
     "iopub.execute_input": "2025-07-15T19:31:06.595082Z",
     "iopub.status.busy": "2025-07-15T19:31:06.594587Z",
     "iopub.status.idle": "2025-07-15T19:31:07.482883Z",
     "shell.execute_reply": "2025-07-15T19:31:07.482367Z",
     "shell.execute_reply.started": "2025-07-15T19:31:06.595055Z"
    },
    "executionRoleArn": "arn:aws:iam::554739427960:role/service-role/AmazonEMRStudio_RuntimeRole_1751874382874",
    "tags": []
   },
   "outputs": [
    {
     "data": {
      "application/vnd.jupyter.widget-view+json": {
       "model_id": "dde94bd6c59b4fb0a558db93c69ed9b2",
       "version_major": 2,
       "version_minor": 0
      },
      "text/plain": [
       "VBox()"
      ]
     },
     "metadata": {},
     "output_type": "display_data"
    },
    {
     "data": {
      "application/vnd.jupyter.widget-view+json": {
       "model_id": "",
       "version_major": 2,
       "version_minor": 0
      },
      "text/plain": [
       "FloatProgress(value=0.0, bar_style='info', description='Progress:', layout=Layout(height='25px', width='50%'),…"
      ]
     },
     "metadata": {},
     "output_type": "display_data"
    },
    {
     "name": "stdout",
     "output_type": "stream",
     "text": [
      "+----------+-------------+--------------------+------------+\n",
      "|LocationID|      Borough|                Zone|service_zone|\n",
      "+----------+-------------+--------------------+------------+\n",
      "|         1|          EWR|      Newark Airport|         EWR|\n",
      "|         2|       Queens|         Jamaica Bay|   Boro Zone|\n",
      "|         3|        Bronx|Allerton/Pelham G...|   Boro Zone|\n",
      "|         4|    Manhattan|       Alphabet City| Yellow Zone|\n",
      "|         5|Staten Island|       Arden Heights|   Boro Zone|\n",
      "+----------+-------------+--------------------+------------+\n",
      "only showing top 5 rows"
     ]
    }
   ],
   "source": [
    "TAXI_ZONE_LOOKUP_URL = os.path.join(TAXI_DIR_PATH, \"taxi_zone_lookup.csv\")\n",
    "\n",
    "taxi_zone_df = spark.read.csv(TAXI_ZONE_LOOKUP_URL, header=True)\n",
    "taxi_zone_df.show(5)"
   ]
  },
  {
   "cell_type": "code",
   "execution_count": 17,
   "metadata": {
    "execution": {
     "iopub.execute_input": "2025-07-15T19:31:07.483826Z",
     "iopub.status.busy": "2025-07-15T19:31:07.483637Z",
     "iopub.status.idle": "2025-07-15T19:31:10.937836Z",
     "shell.execute_reply": "2025-07-15T19:31:10.937269Z",
     "shell.execute_reply.started": "2025-07-15T19:31:07.483811Z"
    },
    "executionRoleArn": "arn:aws:iam::554739427960:role/service-role/AmazonEMRStudio_RuntimeRole_1751874382874",
    "tags": []
   },
   "outputs": [
    {
     "data": {
      "application/vnd.jupyter.widget-view+json": {
       "model_id": "a0335fe9e26a42bb94f621d101db1ee4",
       "version_major": 2,
       "version_minor": 0
      },
      "text/plain": [
       "VBox()"
      ]
     },
     "metadata": {},
     "output_type": "display_data"
    },
    {
     "data": {
      "application/vnd.jupyter.widget-view+json": {
       "model_id": "",
       "version_major": 2,
       "version_minor": 0
      },
      "text/plain": [
       "FloatProgress(value=0.0, bar_style='info', description='Progress:', layout=Layout(height='25px', width='50%'),…"
      ]
     },
     "metadata": {},
     "output_type": "display_data"
    },
    {
     "name": "stdout",
     "output_type": "stream",
     "text": [
      "+------------+------------+----------+------------+---------------+-------------------+-------------------+----+--------+-------------+------------------+-----------+-----+-------+----------+------------+---------------------+------------+--------------------+---------+---------+-----------+------------------+------------+--------------------+--------------+\n",
      "|DOLocationID|PULocationID|RatecodeID|payment_type|passenger_count|    pickup_datetime|   dropoff_datetime| fee|VendorID|trip_distance|store_and_fwd_flag|fare_amount|extra|mta_tax|tip_amount|tolls_amount|improvement_surcharge|total_amount|congestion_surcharge|trip_type|taxi_type|pickup_hour|pickup_day_of_week|duration_min|         pickup_zone|  dropoff_zone|\n",
      "+------------+------------+----------+------------+---------------+-------------------+-------------------+----+--------+-------------+------------------+-----------+-----+-------+----------+------------+---------------------+------------+--------------------+---------+---------+-----------+------------------+------------+--------------------+--------------+\n",
      "|         262|         229|         1|           2|              2|2014-01-01 00:29:18|2014-01-01 00:35:13|null|       1|          1.8|                 N|        7.5|  0.5|    0.5|       0.0|         0.0|                  0.0|         8.5|                null|     null|   yellow|          0|                 4|      5.9167|Sutton Place/Turt...|Yorkville East|\n",
      "|           7|         140|         1|           2|              3|2014-01-01 00:36:33|2014-01-01 00:55:19|null|       1|          4.8|                 N|       17.5|  0.5|    0.5|       0.0|         0.0|                  0.0|        18.5|                null|     null|   yellow|          0|                 4|     18.7667|     Lenox Hill East|       Astoria|\n",
      "|         226|          82|         1|           2|              2|2014-01-01 00:20:43|2014-01-01 00:31:07|null|       1|          2.0|                 N|        9.5|  0.5|    0.5|       0.0|         0.0|                  0.0|        10.5|                null|     null|   yellow|          0|                 4|        10.4|            Elmhurst|     Sunnyside|\n",
      "|         170|         162|         1|           2|              1|2014-01-01 00:48:52|2014-01-01 00:56:14|null|       1|          1.1|                 N|        6.5|  0.5|    0.5|       0.0|         0.0|                  0.0|         7.5|                null|     null|   yellow|          0|                 4|      7.3667|        Midtown East|   Murray Hill|\n",
      "|          79|          90|         1|           1|              1|2014-01-01 00:45:29|2014-01-01 00:55:33|null|       1|          1.6|                 N|        8.5|  0.5|    0.5|       1.0|         0.0|                  0.0|        10.5|                null|     null|   yellow|          0|                 4|     10.0667|            Flatiron|  East Village|\n",
      "+------------+------------+----------+------------+---------------+-------------------+-------------------+----+--------+-------------+------------------+-----------+-----+-------+----------+------------+---------------------+------------+--------------------+---------+---------+-----------+------------------+------------+--------------------+--------------+\n",
      "only showing top 5 rows"
     ]
    }
   ],
   "source": [
    "# Виконати JOIN з taxi_zone_lookup.csv, додавши поля pickup_zone, dropoff_zone.\n",
    "from pyspark.sql.functions import broadcast\n",
    "\n",
    "trips_df_joined = raw_trips_df_filtered.join(\n",
    "        broadcast(\n",
    "            taxi_zone_df.select(\n",
    "                col(\"Zone\").alias(\"pickup_zone\"),\n",
    "                col(\"LocationID\").alias(\"PULocationID\"),\n",
    "            )\n",
    "        ),\n",
    "        how=\"left\",\n",
    "        on=\"PULocationID\"\n",
    "    ).join(\n",
    "        broadcast(\n",
    "            taxi_zone_df.select(\n",
    "                col(\"Zone\").alias(\"dropoff_zone\"),\n",
    "                col(\"LocationID\").alias(\"DOLocationID\"),\n",
    "            )\n",
    "        ),\n",
    "        how=\"left\",\n",
    "        on=\"DOLocationID\" \n",
    "    )\n",
    "\n",
    "trips_df_joined.show(5)"
   ]
  },
  {
   "cell_type": "code",
   "execution_count": 27,
   "metadata": {
    "execution": {
     "iopub.execute_input": "2025-07-15T19:53:27.268659Z",
     "iopub.status.busy": "2025-07-15T19:53:27.268375Z",
     "iopub.status.idle": "2025-07-15T19:55:03.743608Z",
     "shell.execute_reply": "2025-07-15T19:55:03.743065Z",
     "shell.execute_reply.started": "2025-07-15T19:53:27.268641Z"
    },
    "executionRoleArn": "arn:aws:iam::554739427960:role/service-role/AmazonEMRStudio_RuntimeRole_1751874382874",
    "tags": []
   },
   "outputs": [
    {
     "data": {
      "application/vnd.jupyter.widget-view+json": {
       "model_id": "15c6aa1c7acb4d24b9f047420ff9ffb5",
       "version_major": 2,
       "version_minor": 0
      },
      "text/plain": [
       "VBox()"
      ]
     },
     "metadata": {},
     "output_type": "display_data"
    },
    {
     "data": {
      "application/vnd.jupyter.widget-view+json": {
       "model_id": "",
       "version_major": 2,
       "version_minor": 0
      },
      "text/plain": [
       "FloatProgress(value=0.0, bar_style='info', description='Progress:', layout=Layout(height='25px', width='50%'),…"
      ]
     },
     "metadata": {},
     "output_type": "display_data"
    },
    {
     "name": "stdout",
     "output_type": "stream",
     "text": [
      "+--------------------+-----------+------------------+------------------+------------------+------------------+------------------+-----------------+--------------+\n",
      "|         pickup_zone|total_trips| avg_trip_distance|  avg_total_amount|    avg_tip_amount|      yellow_share|       green_share|max_trip_distance|min_tip_amount|\n",
      "+--------------------+-----------+------------------+------------------+------------------+------------------+------------------+-----------------+--------------+\n",
      "|         Westerleigh|       1254| 8.929792663476873| 39.18330143540669|2.5147448165869215|  48.5645933014354| 51.43540669856459|            124.4|           0.0|\n",
      "|Charleston/Totten...|       1747|28.510601030337728| 89.57432741843154|2.3209616485403552| 87.06353749284487|12.936462507155122|            103.0|           0.0|\n",
      "|      Pelham Parkway|      97611|16.476772802245677|18.982729405497654|0.5824950056858343|10.123858991302209| 89.87614100869779|        221944.04|           0.0|\n",
      "|           Rego Park|     702740|  4.95728148390585|16.124224734614625| 0.799293878248004| 9.993454193585109| 90.00654580641489|        185845.97|           0.0|\n",
      "|   Kew Gardens Hills|      62402|17.999130636838544|22.449676773180634|1.0353341239062848|29.736226402999904|  70.2637735970001|        215534.25|           0.0|\n",
      "+--------------------+-----------+------------------+------------------+------------------+------------------+------------------+-----------------+--------------+\n",
      "only showing top 5 rows"
     ]
    }
   ],
   "source": [
    "from pyspark.sql.functions import count, avg\n",
    "from pyspark.sql.functions import max as sp_max, min as sp_min, sum as sp_sum\n",
    "\n",
    "zone_summary = (\n",
    "    trips_df_joined.groupBy(\"pickup_zone\").agg(\n",
    "        count(\"*\").alias(\"total_trips\"),\n",
    "        avg(\"trip_distance\").alias(\"avg_trip_distance\"),\n",
    "        avg(\"total_amount\").alias(\"avg_total_amount\"),\n",
    "        avg(\"tip_amount\").alias(\"avg_tip_amount\"),\n",
    "        (avg((col(\"taxi_type\") == \"yellow\").cast(\"int\")) * 100).alias(\"yellow_share\"),\n",
    "        (avg((col(\"taxi_type\") == \"green\").cast(\"int\")) * 100).alias(\"green_share\"),\n",
    "        sp_max(\"trip_distance\").alias(\"max_trip_distance\"),\n",
    "        sp_min(\"tip_amount\").alias(\"min_tip_amount\")\n",
    "    )\n",
    ")\n",
    "\n",
    "zone_summary.show(5)"
   ]
  },
  {
   "cell_type": "code",
   "execution_count": 33,
   "metadata": {
    "execution": {
     "iopub.execute_input": "2025-07-15T20:11:29.149798Z",
     "iopub.status.busy": "2025-07-15T20:11:29.148518Z",
     "iopub.status.idle": "2025-07-15T20:13:05.607305Z",
     "shell.execute_reply": "2025-07-15T20:13:05.606821Z",
     "shell.execute_reply.started": "2025-07-15T20:11:29.149763Z"
    },
    "executionRoleArn": "arn:aws:iam::554739427960:role/service-role/AmazonEMRStudio_RuntimeRole_1751874382874",
    "tags": []
   },
   "outputs": [
    {
     "data": {
      "application/vnd.jupyter.widget-view+json": {
       "model_id": "f4f9cb3207714b73ad91b8f79668afb5",
       "version_major": 2,
       "version_minor": 0
      },
      "text/plain": [
       "VBox()"
      ]
     },
     "metadata": {},
     "output_type": "display_data"
    },
    {
     "data": {
      "application/vnd.jupyter.widget-view+json": {
       "model_id": "",
       "version_major": 2,
       "version_minor": 0
      },
      "text/plain": [
       "FloatProgress(value=0.0, bar_style='info', description='Progress:', layout=Layout(height='25px', width='50%'),…"
      ]
     },
     "metadata": {},
     "output_type": "display_data"
    }
   ],
   "source": [
    "from datetime import date\n",
    "\n",
    "RESULT_URL = \"s3://lavreniuk-emr-storage/results/\"\n",
    "ZONE_URL = os.path.join(RESULT_URL, f\"zone_statistic/{date.today()}/zone_statistic.parquet\")\n",
    "zone_summary.coalesce(1).write.mode(\"overwrite\").parquet(ZONE_URL) # doint coalesce to get 1 file\n",
    "# We can`t directly pass a name of .parquet files, pyspark does it by itself"
   ]
  },
  {
   "cell_type": "code",
   "execution_count": 29,
   "metadata": {
    "execution": {
     "iopub.execute_input": "2025-07-15T19:57:39.261068Z",
     "iopub.status.busy": "2025-07-15T19:57:39.260783Z",
     "iopub.status.idle": "2025-07-15T19:59:13.726004Z",
     "shell.execute_reply": "2025-07-15T19:59:13.725509Z",
     "shell.execute_reply.started": "2025-07-15T19:57:39.261047Z"
    },
    "executionRoleArn": "arn:aws:iam::554739427960:role/service-role/AmazonEMRStudio_RuntimeRole_1751874382874",
    "tags": []
   },
   "outputs": [
    {
     "data": {
      "application/vnd.jupyter.widget-view+json": {
       "model_id": "c72c0565e093446ebacaf5089df1c768",
       "version_major": 2,
       "version_minor": 0
      },
      "text/plain": [
       "VBox()"
      ]
     },
     "metadata": {},
     "output_type": "display_data"
    },
    {
     "data": {
      "application/vnd.jupyter.widget-view+json": {
       "model_id": "",
       "version_major": 2,
       "version_minor": 0
      },
      "text/plain": [
       "FloatProgress(value=0.0, bar_style='info', description='Progress:', layout=Layout(height='25px', width='50%'),…"
      ]
     },
     "metadata": {},
     "output_type": "display_data"
    },
    {
     "name": "stdout",
     "output_type": "stream",
     "text": [
      "+------------------+-------------------+-----------+------------------+\n",
      "|pickup_day_of_week|        pickup_zone|total_trips|   high_fare_share|\n",
      "+------------------+-------------------+-----------+------------------+\n",
      "|         Wednesday|  Crotona Park East|       8260|  10.0363196125908|\n",
      "|           Tuesday|  Crotona Park East|       7819|11.395319094513365|\n",
      "|            Sunday|         Bath Beach|       1871|31.694281133083912|\n",
      "|          Thursday|Morningside Heights|    1087313| 4.044925426257205|\n",
      "|          Thursday|         Highbridge|      23351| 10.87747848057899|\n",
      "+------------------+-------------------+-----------+------------------+\n",
      "only showing top 5 rows"
     ]
    }
   ],
   "source": [
    "from pyspark.sql.functions import when, col\n",
    "\n",
    "zone_days_statstic_df = (\n",
    "    trips_df_joined.groupBy(\"pickup_day_of_week\", \"pickup_zone\").agg(\n",
    "        count(\"*\").alias(\"total_trips\"),\n",
    "        (avg((col(\"fare_amount\") > 30).cast(\"int\")) * 100).alias(\"high_fare_share\"),\n",
    "    ).withColumn(\n",
    "        \"pickup_day_of_week\", \n",
    "        (when(col(\"pickup_day_of_week\") == 1, \"Sunday\")\n",
    "            .when(col(\"pickup_day_of_week\") == 2, \"Monday\")\n",
    "            .when(col(\"pickup_day_of_week\") == 3, \"Tuesday\")\n",
    "            .when(col(\"pickup_day_of_week\") == 4, \"Wednesday\")\n",
    "            .when(col(\"pickup_day_of_week\") == 5, \"Thursday\")\n",
    "            .when(col(\"pickup_day_of_week\") == 6, \"Friday\")\n",
    "            .when(col(\"pickup_day_of_week\") == 7, \"Saturday\")\n",
    "        )\n",
    "    )\n",
    ")\n",
    "\n",
    "zone_days_statstic_df.show(5)"
   ]
  },
  {
   "cell_type": "code",
   "execution_count": 34,
   "metadata": {
    "execution": {
     "iopub.execute_input": "2025-07-15T20:14:17.911734Z",
     "iopub.status.busy": "2025-07-15T20:14:17.911129Z",
     "iopub.status.idle": "2025-07-15T20:15:54.403690Z",
     "shell.execute_reply": "2025-07-15T20:15:54.403295Z",
     "shell.execute_reply.started": "2025-07-15T20:14:17.911711Z"
    },
    "executionRoleArn": "arn:aws:iam::554739427960:role/service-role/AmazonEMRStudio_RuntimeRole_1751874382874",
    "tags": []
   },
   "outputs": [
    {
     "data": {
      "application/vnd.jupyter.widget-view+json": {
       "model_id": "1c47f97481404856bc1abbca322e847d",
       "version_major": 2,
       "version_minor": 0
      },
      "text/plain": [
       "VBox()"
      ]
     },
     "metadata": {},
     "output_type": "display_data"
    },
    {
     "data": {
      "application/vnd.jupyter.widget-view+json": {
       "model_id": "",
       "version_major": 2,
       "version_minor": 0
      },
      "text/plain": [
       "FloatProgress(value=0.0, bar_style='info', description='Progress:', layout=Layout(height='25px', width='50%'),…"
      ]
     },
     "metadata": {},
     "output_type": "display_data"
    }
   ],
   "source": [
    "ZONE_DAYS_URL = os.path.join(RESULT_URL, f\"zone_days_statstic/{date.today()}/zone_days_statstic.parquet\")\n",
    "\n",
    "zone_days_statstic_df.coalesce(1).write.mode(\"overwrite\").parquet(ZONE_DAYS_URL)"
   ]
  },
  {
   "cell_type": "code",
   "execution_count": 35,
   "metadata": {
    "execution": {
     "iopub.execute_input": "2025-07-15T20:16:53.587454Z",
     "iopub.status.busy": "2025-07-15T20:16:53.587181Z",
     "iopub.status.idle": "2025-07-15T20:16:54.448740Z",
     "shell.execute_reply": "2025-07-15T20:16:54.448109Z",
     "shell.execute_reply.started": "2025-07-15T20:16:53.587434Z"
    },
    "executionRoleArn": "arn:aws:iam::554739427960:role/service-role/AmazonEMRStudio_RuntimeRole_1751874382874",
    "tags": []
   },
   "outputs": [
    {
     "data": {
      "application/vnd.jupyter.widget-view+json": {
       "model_id": "b362b79f273c43bda9a08605b4bf5aaf",
       "version_major": 2,
       "version_minor": 0
      },
      "text/plain": [
       "VBox()"
      ]
     },
     "metadata": {},
     "output_type": "display_data"
    },
    {
     "data": {
      "application/vnd.jupyter.widget-view+json": {
       "model_id": "",
       "version_major": 2,
       "version_minor": 0
      },
      "text/plain": [
       "FloatProgress(value=0.0, bar_style='info', description='Progress:', layout=Layout(height='25px', width='50%'),…"
      ]
     },
     "metadata": {},
     "output_type": "display_data"
    },
    {
     "name": "stdout",
     "output_type": "stream",
     "text": [
      "+--------------------+-----------+------------------+------------------+------------------+------------------+------------------+-----------------+--------------+\n",
      "|         pickup_zone|total_trips| avg_trip_distance|  avg_total_amount|    avg_tip_amount|      yellow_share|       green_share|max_trip_distance|min_tip_amount|\n",
      "+--------------------+-----------+------------------+------------------+------------------+------------------+------------------+-----------------+--------------+\n",
      "|         Westerleigh|       1254| 8.929792663476873| 39.18330143540669| 2.514744816586922|  48.5645933014354| 51.43540669856459|            124.4|           0.0|\n",
      "|Charleston/Totten...|       1747| 28.51060103033772| 89.57432741843157|2.3209616485403552| 87.06353749284487|12.936462507155122|            103.0|           0.0|\n",
      "|      Pelham Parkway|      97611|16.476772802245684| 18.98272940549765|0.5824950056858342|10.123858991302209| 89.87614100869779|        221944.04|           0.0|\n",
      "|           Rego Park|     702740|  4.95728148390585|16.124224734614625|0.7992938782480039| 9.993454193585109| 90.00654580641489|        185845.97|           0.0|\n",
      "|   Kew Gardens Hills|      62402| 17.99913063683854|22.449676773180638|1.0353341239062848|29.736226402999904|  70.2637735970001|        215534.25|           0.0|\n",
      "+--------------------+-----------+------------------+------------------+------------------+------------------+------------------+-----------------+--------------+"
     ]
    }
   ],
   "source": [
    "test_df_zone = spark.read.options(\n",
    "    mergeSchema=\"false\",\n",
    "    recursiveFileLookup=\"true\",\n",
    ").parquet(ZONE_URL).limit(5)\n",
    "\n",
    "test_df_zone.show(5)"
   ]
  },
  {
   "cell_type": "code",
   "execution_count": 36,
   "metadata": {
    "execution": {
     "iopub.execute_input": "2025-07-15T20:17:13.417482Z",
     "iopub.status.busy": "2025-07-15T20:17:13.417148Z",
     "iopub.status.idle": "2025-07-15T20:17:14.300281Z",
     "shell.execute_reply": "2025-07-15T20:17:14.299756Z",
     "shell.execute_reply.started": "2025-07-15T20:17:13.417462Z"
    },
    "executionRoleArn": "arn:aws:iam::554739427960:role/service-role/AmazonEMRStudio_RuntimeRole_1751874382874",
    "tags": []
   },
   "outputs": [
    {
     "data": {
      "application/vnd.jupyter.widget-view+json": {
       "model_id": "3aeb5f0cb65246168d975906d067304f",
       "version_major": 2,
       "version_minor": 0
      },
      "text/plain": [
       "VBox()"
      ]
     },
     "metadata": {},
     "output_type": "display_data"
    },
    {
     "data": {
      "application/vnd.jupyter.widget-view+json": {
       "model_id": "",
       "version_major": 2,
       "version_minor": 0
      },
      "text/plain": [
       "FloatProgress(value=0.0, bar_style='info', description='Progress:', layout=Layout(height='25px', width='50%'),…"
      ]
     },
     "metadata": {},
     "output_type": "display_data"
    },
    {
     "name": "stdout",
     "output_type": "stream",
     "text": [
      "+------------------+-------------------+-----------+------------------+\n",
      "|pickup_day_of_week|        pickup_zone|total_trips|   high_fare_share|\n",
      "+------------------+-------------------+-----------+------------------+\n",
      "|         Wednesday|  Crotona Park East|       8260|  10.0363196125908|\n",
      "|           Tuesday|  Crotona Park East|       7819|11.395319094513365|\n",
      "|            Sunday|         Bath Beach|       1871|31.694281133083912|\n",
      "|          Thursday|Morningside Heights|    1087313| 4.044925426257205|\n",
      "|          Thursday|         Highbridge|      23351| 10.87747848057899|\n",
      "+------------------+-------------------+-----------+------------------+"
     ]
    }
   ],
   "source": [
    "test_df_zone_days = spark.read.options(\n",
    "    mergeSchema=\"false\",\n",
    "    recursiveFileLookup=\"true\",\n",
    ").parquet(ZONE_DAYS_URL).limit(5)\n",
    "\n",
    "test_df_zone_days.show(5)"
   ]
  }
 ],
 "metadata": {
  "kernelspec": {
   "display_name": "PySpark",
   "language": "python",
   "name": "spark_magic_pyspark"
  },
  "language_info": {
   "codemirror_mode": {
    "name": "python",
    "version": 3
   },
   "file_extension": ".py",
   "mimetype": "text/x-python",
   "name": "pyspark",
   "pygments_lexer": "python3"
  }
 },
 "nbformat": 4,
 "nbformat_minor": 4
}
