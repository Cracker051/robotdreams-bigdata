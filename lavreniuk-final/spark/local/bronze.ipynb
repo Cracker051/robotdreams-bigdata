{
 "cells": [
  {
   "cell_type": "code",
   "execution_count": 1,
   "id": "fa0f0e55",
   "metadata": {},
   "outputs": [],
   "source": [
    "import os\n",
    "\n",
    "os.chdir(\"../../\")\n"
   ]
  },
  {
   "cell_type": "code",
   "execution_count": null,
   "id": "0c10991e",
   "metadata": {},
   "outputs": [
    {
     "name": "stderr",
     "output_type": "stream",
     "text": [
      "WARNING: Using incubator modules: jdk.incubator.vector\n",
      "Using Spark's default log4j profile: org/apache/spark/log4j2-defaults.properties\n",
      "25/09/27 16:27:45 WARN Utils: Your hostname, Air-M4.local, resolves to a loopback address: 127.0.0.1; using 192.168.0.65 instead (on interface en0)\n",
      "25/09/27 16:27:45 WARN Utils: Set SPARK_LOCAL_IP if you need to bind to another address\n",
      "Using Spark's default log4j profile: org/apache/spark/log4j2-defaults.properties\n",
      "Setting default log level to \"WARN\".\n",
      "To adjust logging level use sc.setLogLevel(newLevel). For SparkR, use setLogLevel(newLevel).\n",
      "25/09/27 16:27:46 WARN NativeCodeLoader: Unable to load native-hadoop library for your platform... using builtin-java classes where applicable\n"
     ]
    }
   ],
   "source": [
    "from pyspark.sql import SparkSession\n",
    "\n",
    "\n",
    "spark = (\n",
    "    SparkSession.builder\n",
    "    .appName(\"bronze-preparation\")\n",
    "    .getOrCreate()\n",
    ")\n"
   ]
  },
  {
   "cell_type": "code",
   "execution_count": 3,
   "id": "9d1ab2d6",
   "metadata": {},
   "outputs": [],
   "source": [
    "import os\n",
    "\n",
    "FILES_PATH = f\"{os.path.abspath('.')}/data/raw\"\n",
    "\n",
    "ARREST_PATH = os.path.join(FILES_PATH, \"arrests\")\n",
    "CRIME_PATH = os.path.join(FILES_PATH, \"crimes\")\n",
    "CODE_PATH = os.path.join(FILES_PATH, \"iucr\")"
   ]
  },
  {
   "cell_type": "code",
   "execution_count": 4,
   "id": "075b51a3",
   "metadata": {},
   "outputs": [],
   "source": [
    "def listdir_abs(dir_path: str) -> list[str]:\n",
    "    return [os.path.join(dir_path, filename) for filename in os.listdir(dir_path)]"
   ]
  },
  {
   "cell_type": "code",
   "execution_count": 8,
   "id": "ff5f4fd7",
   "metadata": {},
   "outputs": [],
   "source": [
    "crimes_df = spark.read.options(header=\"true\", inferSchema=\"true\").csv(path=listdir_abs(CRIME_PATH))\n",
    "arrest_df = spark.read.options(header=\"true\").csv(path=listdir_abs(ARREST_PATH))\n",
    "code_df = spark.read.options(header=\"true\").csv(path=listdir_abs(CODE_PATH))"
   ]
  },
  {
   "cell_type": "code",
   "execution_count": 9,
   "id": "d92d6187",
   "metadata": {},
   "outputs": [
    {
     "data": {
      "text/plain": [
       "Row(IUCR='110', PRIMARY DESCRIPTION='HOMICIDE', SECONDARY DESCRIPTION='FIRST DEGREE MURDER', INDEX CODE='I', ACTIVE='true')"
      ]
     },
     "execution_count": 9,
     "metadata": {},
     "output_type": "execute_result"
    }
   ],
   "source": [
    "code_df.head()"
   ]
  },
  {
   "cell_type": "code",
   "execution_count": 10,
   "id": "52279b1a",
   "metadata": {},
   "outputs": [
    {
     "name": "stdout",
     "output_type": "stream",
     "text": [
      "+----+--------------------+---------------------+----------+------+\n",
      "|IUCR| PRIMARY DESCRIPTION|SECONDARY DESCRIPTION|INDEX CODE|ACTIVE|\n",
      "+----+--------------------+---------------------+----------+------+\n",
      "| 110|            HOMICIDE|  FIRST DEGREE MURDER|         I|  true|\n",
      "| 130|            HOMICIDE| SECOND DEGREE MURDER|         I|  true|\n",
      "| 141|            HOMICIDE| INVOLUNTARY MANSL...|         N|  true|\n",
      "| 142|            HOMICIDE|    RECKLESS HOMICIDE|         N|  true|\n",
      "| 261|CRIMINAL SEXUAL A...| AGGRAVATED - HANDGUN|         I|  true|\n",
      "+----+--------------------+---------------------+----------+------+\n",
      "only showing top 5 rows\n"
     ]
    }
   ],
   "source": [
    "code_df.show(5)"
   ]
  },
  {
   "cell_type": "code",
   "execution_count": 11,
   "id": "315a93b2",
   "metadata": {},
   "outputs": [],
   "source": [
    "from pyspark.sql.functions import current_timestamp, input_file_name\n",
    "\n",
    "timestamp_column = {\n",
    "    \"load_timestamp\": current_timestamp(),\n",
    "}\n",
    "\n",
    "file_name_column = {\n",
    "    \"source_file\": input_file_name(),\n",
    "}\n",
    "\n",
    "\n",
    "\n",
    "crimes_bronze_df = crimes_df.withColumns({**timestamp_column, **file_name_column})\n",
    "arrest_bronze_df = arrest_df.withColumns({**timestamp_column, **file_name_column})\n",
    "code_bronze_df = code_df.withColumns(timestamp_column)"
   ]
  },
  {
   "cell_type": "code",
   "execution_count": 17,
   "id": "c300c0d5",
   "metadata": {},
   "outputs": [
    {
     "name": "stderr",
     "output_type": "stream",
     "text": [
      "25/09/27 16:52:00 WARN SparkStringUtils: Truncated the string representation of a plan since it was too large. This behavior can be adjusted by setting 'spark.sql.debug.maxToStringFields'.\n",
      "                                                                                \r"
     ]
    }
   ],
   "source": [
    "crimes_bronze_df.repartition(\"source_file\").write.format(\"parquet\").mode(\"append\").save(\"./data/bronze/crimes\")\n",
    "arrest_bronze_df.repartition(\"source_file\").write.format(\"parquet\").mode(\"append\").save(\"./data/bronze/arrests\")\n",
    "code_bronze_df.write.format(\"parquet\").mode(\"overwrite\").save(\"./data/bronze/iucr\")\n"
   ]
  }
 ],
 "metadata": {
  "kernelspec": {
   "display_name": ".venv",
   "language": "python",
   "name": "python3"
  },
  "language_info": {
   "codemirror_mode": {
    "name": "ipython",
    "version": 3
   },
   "file_extension": ".py",
   "mimetype": "text/x-python",
   "name": "python",
   "nbconvert_exporter": "python",
   "pygments_lexer": "ipython3",
   "version": "3.11.13"
  }
 },
 "nbformat": 4,
 "nbformat_minor": 5
}
