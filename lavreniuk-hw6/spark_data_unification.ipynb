{
 "cells": [
  {
   "cell_type": "code",
   "execution_count": 1,
   "id": "e739478b",
   "metadata": {},
   "outputs": [
    {
     "name": "stdout",
     "output_type": "stream",
     "text": [
      "25/09/19 23:45:13 WARN Utils: Your hostname, Air-M4.local resolves to a loopback address: 127.0.0.1; using 172.20.10.2 instead (on interface en0)\n",
      "25/09/19 23:45:13 WARN Utils: Set SPARK_LOCAL_IP if you need to bind to another address\n"
     ]
    },
    {
     "name": "stderr",
     "output_type": "stream",
     "text": [
      "Setting default log level to \"WARN\".\n",
      "To adjust logging level use sc.setLogLevel(newLevel). For SparkR, use setLogLevel(newLevel).\n"
     ]
    },
    {
     "name": "stdout",
     "output_type": "stream",
     "text": [
      "25/09/19 23:45:13 WARN NativeCodeLoader: Unable to load native-hadoop library for your platform... using builtin-java classes where applicable\n",
      "25/09/19 23:45:13 WARN Utils: Service 'SparkUI' could not bind on port 4040. Attempting port 4041.\n"
     ]
    }
   ],
   "source": [
    "from pyspark.sql import SparkSession\n",
    "\n",
    "\n",
    "spark = SparkSession.builder.appName(\"data-unification\").getOrCreate()\n"
   ]
  },
  {
   "cell_type": "code",
   "execution_count": 3,
   "id": "9be20114",
   "metadata": {},
   "outputs": [],
   "source": [
    "import os\n",
    "\n",
    "RAW_FILES_PATH = \"./raw_data/\"\n",
    "\n",
    "GREEN_TAXI_DIR_PATH = os.path.join(RAW_FILES_PATH, \"green_taxi\")\n",
    "YELLOW_TAXI_DIR_PATH = os.path.join(RAW_FILES_PATH, \"yellow_taxi\")"
   ]
  },
  {
   "cell_type": "code",
   "execution_count": 4,
   "id": "c20e1626",
   "metadata": {},
   "outputs": [
    {
     "name": "stdout",
     "output_type": "stream",
     "text": [
      "./raw_data/yellow_taxi/2021/yellow_tripdata_2021-05\n"
     ]
    },
    {
     "name": "stderr",
     "output_type": "stream",
     "text": [
      "                                                                                \r"
     ]
    },
    {
     "name": "stdout",
     "output_type": "stream",
     "text": [
      "./raw_data/yellow_taxi/2021/yellow_tripdata_2021-04\n"
     ]
    },
    {
     "name": "stderr",
     "output_type": "stream",
     "text": [
      "                                                                                \r"
     ]
    },
    {
     "name": "stdout",
     "output_type": "stream",
     "text": [
      "./raw_data/yellow_taxi/2021/yellow_tripdata_2021-06\n"
     ]
    },
    {
     "name": "stderr",
     "output_type": "stream",
     "text": [
      "                                                                                \r"
     ]
    },
    {
     "name": "stdout",
     "output_type": "stream",
     "text": [
      "./raw_data/yellow_taxi/2021/yellow_tripdata_2021-07\n"
     ]
    },
    {
     "name": "stderr",
     "output_type": "stream",
     "text": [
      "                                                                                \r"
     ]
    },
    {
     "name": "stdout",
     "output_type": "stream",
     "text": [
      "./raw_data/yellow_taxi/2021/yellow_tripdata_2021-02\n"
     ]
    },
    {
     "name": "stderr",
     "output_type": "stream",
     "text": [
      "                                                                                \r"
     ]
    },
    {
     "name": "stdout",
     "output_type": "stream",
     "text": [
      "./raw_data/yellow_taxi/2021/yellow_tripdata_2021-12\n"
     ]
    },
    {
     "name": "stderr",
     "output_type": "stream",
     "text": [
      "                                                                                \r"
     ]
    },
    {
     "name": "stdout",
     "output_type": "stream",
     "text": [
      "./raw_data/yellow_taxi/2021/yellow_tripdata_2021-03\n"
     ]
    },
    {
     "name": "stderr",
     "output_type": "stream",
     "text": [
      "                                                                                \r"
     ]
    },
    {
     "name": "stdout",
     "output_type": "stream",
     "text": [
      "./raw_data/yellow_taxi/2021/yellow_tripdata_2021-08\n"
     ]
    },
    {
     "name": "stderr",
     "output_type": "stream",
     "text": [
      "                                                                                \r"
     ]
    },
    {
     "name": "stdout",
     "output_type": "stream",
     "text": [
      "./raw_data/yellow_taxi/2021/yellow_tripdata_2021-01\n"
     ]
    },
    {
     "name": "stderr",
     "output_type": "stream",
     "text": [
      "                                                                                \r"
     ]
    },
    {
     "name": "stdout",
     "output_type": "stream",
     "text": [
      "./raw_data/yellow_taxi/2021/yellow_tripdata_2021-11\n"
     ]
    },
    {
     "name": "stderr",
     "output_type": "stream",
     "text": [
      "                                                                                \r"
     ]
    },
    {
     "name": "stdout",
     "output_type": "stream",
     "text": [
      "./raw_data/yellow_taxi/2021/yellow_tripdata_2021-10\n"
     ]
    },
    {
     "name": "stderr",
     "output_type": "stream",
     "text": [
      "                                                                                \r"
     ]
    },
    {
     "name": "stdout",
     "output_type": "stream",
     "text": [
      "./raw_data/yellow_taxi/2021/yellow_tripdata_2021-09\n"
     ]
    },
    {
     "name": "stderr",
     "output_type": "stream",
     "text": [
      "                                                                                \r"
     ]
    },
    {
     "name": "stdout",
     "output_type": "stream",
     "text": [
      "./raw_data/yellow_taxi/2020/yellow_tripdata_2020-03\n"
     ]
    },
    {
     "name": "stderr",
     "output_type": "stream",
     "text": [
      "                                                                                \r"
     ]
    },
    {
     "name": "stdout",
     "output_type": "stream",
     "text": [
      "./raw_data/yellow_taxi/2020/yellow_tripdata_2020-12\n"
     ]
    },
    {
     "name": "stderr",
     "output_type": "stream",
     "text": [
      "                                                                                \r"
     ]
    },
    {
     "name": "stdout",
     "output_type": "stream",
     "text": [
      "./raw_data/yellow_taxi/2020/yellow_tripdata_2020-02\n"
     ]
    },
    {
     "name": "stderr",
     "output_type": "stream",
     "text": [
      "                                                                                \r"
     ]
    },
    {
     "name": "stdout",
     "output_type": "stream",
     "text": [
      "./raw_data/yellow_taxi/2020/yellow_tripdata_2020-10\n"
     ]
    },
    {
     "name": "stderr",
     "output_type": "stream",
     "text": [
      "                                                                                \r"
     ]
    },
    {
     "name": "stdout",
     "output_type": "stream",
     "text": [
      "./raw_data/yellow_taxi/2020/yellow_tripdata_2020-09\n"
     ]
    },
    {
     "name": "stderr",
     "output_type": "stream",
     "text": [
      "                                                                                \r"
     ]
    },
    {
     "name": "stdout",
     "output_type": "stream",
     "text": [
      "./raw_data/yellow_taxi/2020/yellow_tripdata_2020-08\n"
     ]
    },
    {
     "name": "stderr",
     "output_type": "stream",
     "text": [
      "                                                                                \r"
     ]
    },
    {
     "name": "stdout",
     "output_type": "stream",
     "text": [
      "./raw_data/yellow_taxi/2020/yellow_tripdata_2020-11\n"
     ]
    },
    {
     "name": "stderr",
     "output_type": "stream",
     "text": [
      "                                                                                \r"
     ]
    },
    {
     "name": "stdout",
     "output_type": "stream",
     "text": [
      "./raw_data/yellow_taxi/2020/yellow_tripdata_2020-01\n"
     ]
    },
    {
     "name": "stderr",
     "output_type": "stream",
     "text": [
      "                                                                                \r"
     ]
    },
    {
     "name": "stdout",
     "output_type": "stream",
     "text": [
      "./raw_data/yellow_taxi/2020/yellow_tripdata_2020-04\n",
      "./raw_data/yellow_taxi/2020/yellow_tripdata_2020-05\n",
      "./raw_data/yellow_taxi/2020/yellow_tripdata_2020-07\n"
     ]
    },
    {
     "name": "stderr",
     "output_type": "stream",
     "text": [
      "                                                                                \r"
     ]
    },
    {
     "name": "stdout",
     "output_type": "stream",
     "text": [
      "./raw_data/yellow_taxi/2020/yellow_tripdata_2020-06\n"
     ]
    }
   ],
   "source": [
    "import os\n",
    "from pyspark.sql.functions import col\n",
    "\n",
    "\n",
    "for year in os.listdir(YELLOW_TAXI_DIR_PATH):\n",
    "    common_path = os.path.join(YELLOW_TAXI_DIR_PATH, year)\n",
    "    if not os.path.isdir(common_path):\n",
    "        continue\n",
    "    for parquet_file in os.listdir(common_path):\n",
    "        file_name = os.path.join(common_path, parquet_file)\n",
    "        name, ext = file_name.rsplit(\".\", 1)\n",
    "        print(name)\n",
    "        if ext != \"parquet\":\n",
    "            continue\n",
    "        \n",
    "        temp_df = (\n",
    "            spark.read\n",
    "            .options(\n",
    "                mergeSchema=\"true\",\n",
    "                recursiveFileLookup=\"false\",\n",
    "            )\n",
    "            .parquet(file_name)\n",
    "        )\n",
    "        temp_df = (\n",
    "            temp_df.withColumn(\"VendorID\", col(\"VendorID\").cast(\"long\"))\n",
    "            .withColumn(\"PULocationID\", col(\"PULocationID\").cast(\"long\"))\n",
    "            .withColumn(\"trip_distance\", col(\"trip_distance\").cast(\"double\"))\n",
    "            .withColumn(\"store_and_fwd_flag\", col(\"store_and_fwd_flag\").cast(\"string\"))\n",
    "            .withColumn(\"DOLocationID\", col(\"DOLocationID\").cast(\"long\"))\n",
    "            .withColumn(\"fare_amount\", col(\"fare_amount\").cast(\"double\"))\n",
    "            .withColumn(\"extra\", col(\"extra\").cast(\"double\"))\n",
    "            .withColumn(\"mta_tax\", col(\"mta_tax\").cast(\"double\"))\n",
    "            .withColumn(\"tip_amount\", col(\"tip_amount\").cast(\"double\"))\n",
    "            .withColumn(\"tolls_amount\", col(\"tolls_amount\").cast(\"double\"))\n",
    "            .withColumn(\"improvement_surcharge\", col(\"improvement_surcharge\").cast(\"double\"))\n",
    "            .withColumn(\"total_amount\", col(\"total_amount\").cast(\"double\"))\n",
    "            .withColumn(\"congestion_surcharge\", col(\"congestion_surcharge\").cast(\"double\"))\n",
    "            .withColumn(\"RatecodeID\", col(\"RatecodeID\").cast(\"long\"))\n",
    "            .withColumn(\"payment_type\", col(\"payment_type\").cast(\"long\"))\n",
    "            .withColumn(\"passenger_count\", col(\"passenger_count\").cast(\"double\"))\n",
    "            .withColumn(\"tpep_pickup_datetime\", col(\"tpep_pickup_datetime\").cast(\"timestamp\"))\n",
    "            .withColumn(\"tpep_dropoff_datetime\", col(\"tpep_dropoff_datetime\").cast(\"timestamp\"))\n",
    "            .withColumn(\"airport_fee\", col(\"airport_fee\").cast(\"double\"))\n",
    "        )\n",
    "\n",
    "        temp_df.coalesce(1).write.mode(\"overwrite\").parquet(f\"./unified_data/yellow_taxi/{year}/{name}\")\n",
    "\n"
   ]
  },
  {
   "cell_type": "code",
   "execution_count": 5,
   "id": "058d966f",
   "metadata": {},
   "outputs": [
    {
     "name": "stdout",
     "output_type": "stream",
     "text": [
      "./raw_data/green_taxi/2022/green_tripdata_2022-09\n",
      "./raw_data/green_taxi/2022/green_tripdata_2022-10\n",
      "./raw_data/green_taxi/2022/green_tripdata_2022-11\n",
      "./raw_data/green_taxi/2022/green_tripdata_2022-01\n",
      "./raw_data/green_taxi/2022/green_tripdata_2022-08\n",
      "./raw_data/green_taxi/2022/green_tripdata_2022-03\n",
      "./raw_data/green_taxi/2022/green_tripdata_2022-12\n",
      "./raw_data/green_taxi/2022/green_tripdata_2022-02\n",
      "./raw_data/green_taxi/2022/green_tripdata_2022-07\n",
      "./raw_data/green_taxi/2022/green_tripdata_2022-06\n",
      "./raw_data/green_taxi/2022/green_tripdata_2022-04\n",
      "./raw_data/green_taxi/2022/green_tripdata_2022-05\n",
      "./raw_data/green_taxi/2023/green_tripdata_2023-06\n",
      "./raw_data/green_taxi/2023/green_tripdata_2023-07\n",
      "./raw_data/green_taxi/2023/green_tripdata_2023-05\n",
      "./raw_data/green_taxi/2023/green_tripdata_2023-04\n",
      "./raw_data/green_taxi/2023/green_tripdata_2023-01\n",
      "./raw_data/green_taxi/2023/green_tripdata_2023-08\n",
      "./raw_data/green_taxi/2023/green_tripdata_2023-09\n",
      "./raw_data/green_taxi/2023/green_tripdata_2023-02\n",
      "./raw_data/green_taxi/2023/green_tripdata_2023-03\n"
     ]
    }
   ],
   "source": [
    "\n",
    "for year in os.listdir(GREEN_TAXI_DIR_PATH):\n",
    "    common_path = os.path.join(GREEN_TAXI_DIR_PATH, year)\n",
    "    if not os.path.isdir(common_path):\n",
    "        continue\n",
    "    for parquet_file in os.listdir(common_path):\n",
    "        file_name = os.path.join(common_path, parquet_file)\n",
    "        name, ext = file_name.rsplit(\".\", 1)\n",
    "        print(name)\n",
    "        if ext != \"parquet\":\n",
    "            continue\n",
    "        \n",
    "        temp_df = (\n",
    "            spark.read\n",
    "            .options(\n",
    "                mergeSchema=\"true\",\n",
    "                recursiveFileLookup=\"false\",\n",
    "            )\n",
    "            .parquet(file_name)\n",
    "        )\n",
    "        temp_df = (\n",
    "            temp_df.withColumn(\"VendorID\", col(\"VendorID\").cast(\"long\"))\n",
    "            .withColumn(\"PULocationID\", col(\"PULocationID\").cast(\"long\"))\n",
    "            .withColumn(\"trip_distance\", col(\"trip_distance\").cast(\"double\"))\n",
    "            .withColumn(\"store_and_fwd_flag\", col(\"store_and_fwd_flag\").cast(\"string\"))\n",
    "            .withColumn(\"DOLocationID\", col(\"DOLocationID\").cast(\"long\"))\n",
    "            .withColumn(\"fare_amount\", col(\"fare_amount\").cast(\"double\"))\n",
    "            .withColumn(\"extra\", col(\"extra\").cast(\"double\"))\n",
    "            .withColumn(\"mta_tax\", col(\"mta_tax\").cast(\"double\"))\n",
    "            .withColumn(\"tip_amount\", col(\"tip_amount\").cast(\"double\"))\n",
    "            .withColumn(\"tolls_amount\", col(\"tolls_amount\").cast(\"double\"))\n",
    "            .withColumn(\"improvement_surcharge\", col(\"improvement_surcharge\").cast(\"double\"))\n",
    "            .withColumn(\"total_amount\", col(\"total_amount\").cast(\"double\"))\n",
    "            .withColumn(\"congestion_surcharge\", col(\"congestion_surcharge\").cast(\"double\"))\n",
    "            .withColumn(\"RatecodeID\", col(\"RatecodeID\").cast(\"long\"))\n",
    "            .withColumn(\"payment_type\", col(\"payment_type\").cast(\"long\"))\n",
    "            .withColumn(\"passenger_count\", col(\"passenger_count\").cast(\"double\"))\n",
    "            .withColumn(\"lpep_pickup_datetime\", col(\"lpep_pickup_datetime\").cast(\"timestamp\"))\n",
    "            .withColumn(\"lpep_dropoff_datetime\", col(\"lpep_dropoff_datetime\").cast(\"timestamp\"))\n",
    "            .withColumn(\"ehail_fee\", col(\"ehail_fee\").cast(\"double\"))\n",
    "        )\n",
    "\n",
    "        temp_df.coalesce(1).write.mode(\"overwrite\").parquet(f\"./unified_data/green_taxi/{year}/{name}\")\n"
   ]
  }
 ],
 "metadata": {
  "kernelspec": {
   "display_name": ".venv",
   "language": "python",
   "name": "python3"
  },
  "language_info": {
   "codemirror_mode": {
    "name": "ipython",
    "version": 3
   },
   "file_extension": ".py",
   "mimetype": "text/x-python",
   "name": "python",
   "nbconvert_exporter": "python",
   "pygments_lexer": "ipython3",
   "version": "3.10.13"
  }
 },
 "nbformat": 4,
 "nbformat_minor": 5
}
