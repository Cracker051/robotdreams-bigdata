{
 "cells": [
  {
   "cell_type": "markdown",
   "id": "33953eda",
   "metadata": {},
   "source": [
    "📌 Логіка обробки у Spark job\n",
    "\n",
    "Spark job виконує наступні кроки:\n",
    "\n",
    "✅ 1. Фільтрація та очищення даних.\n",
    "\n",
    "* Видалення поїздок з нульовою або від’ємною відстанню (trip_distance <= 0).\n",
    "* Відсіювання аномальних поїздок з тарифом ≤ 0 або > 500.\n",
    "* Відсіювання записів з некоректною кількістю пасажирів (0 або більше 6).\n",
    "\n",
    "✅ 2. Стандартизація колонок та форматів\n",
    "\n",
    "* Уніфікація назв колонок до snake_case.\n",
    "* Конвертація дат у формат timestamp.\n",
    "* Обчислення додаткових полів:\n",
    "  * Тривалість поїздки у хвилинах (trip_duration_minutes).\n",
    "  * Година доби початку поїздки (pickup_hour).\n",
    "\n",
    "✅ 3. Збагачення географічними ознаками\n",
    "\n",
    "* Об’єднання з довідником зон за PULocationID та DOLocationID:\n",
    "  * Отримання назв районів (наприклад, pickup_borough, dropoff_borough).\n",
    "\n",
    "✅ 4. Запис результатів у PostgreSQL\n",
    "\n",
    "* Основний датафрейм записується у таблицю yellow_taxi_stage, green_taxi_stage, taxi_lookup_zone_stage\n",
    "* Формат завантаження: overwrite, залежно від налаштувань."
   ]
  },
  {
   "cell_type": "code",
   "execution_count": 5,
   "id": "cf5eb93b",
   "metadata": {},
   "outputs": [
    {
     "name": "stdout",
     "output_type": "stream",
     "text": [
      "25/09/19 23:30:58 WARN Utils: Your hostname, Air-M4.local resolves to a loopback address: 127.0.0.1; using 172.20.10.2 instead (on interface en0)\n",
      "25/09/19 23:30:58 WARN Utils: Set SPARK_LOCAL_IP if you need to bind to another address\n",
      "25/09/19 23:30:58 WARN NativeCodeLoader: Unable to load native-hadoop library for your platform... using builtin-java classes where applicable\n"
     ]
    },
    {
     "name": "stderr",
     "output_type": "stream",
     "text": [
      "Setting default log level to \"WARN\".\n",
      "To adjust logging level use sc.setLogLevel(newLevel). For SparkR, use setLogLevel(newLevel).\n"
     ]
    }
   ],
   "source": [
    "from pyspark.sql import SparkSession\n",
    "\n",
    "\n",
    "spark = (\n",
    "    SparkSession.builder\n",
    "    .appName(\"lavreniuk-hw6\")\n",
    "    .config(\"spark.jars\", \"./artifacts/postgresql-42.7.7.jar\")\n",
    "    .getOrCreate()\n",
    ")\n"
   ]
  },
  {
   "cell_type": "code",
   "execution_count": 1,
   "id": "d80414e5",
   "metadata": {},
   "outputs": [],
   "source": [
    "import os\n",
    "\n",
    "FILES_PATH = \"./unified_data/\"\n",
    "\n",
    "GREEN_TAXI_DIR_PATH = os.path.join(FILES_PATH, \"green_taxi\")\n",
    "YELLOW_TAXI_DIR_PATH = os.path.join(FILES_PATH, \"yellow_taxi\")"
   ]
  },
  {
   "cell_type": "code",
   "execution_count": 16,
   "id": "38c9b43e",
   "metadata": {},
   "outputs": [],
   "source": [
    "from pyspark.sql.types import StructType, StructField, StringType, DoubleType, LongType, TimestampNTZType, IntegerType, TimestampType\n",
    "\n",
    "common_schema = StructType([\n",
    "    StructField(\"VendorID\", LongType(), True),\n",
    "    StructField(\"PULocationID\", LongType(), True), # green\n",
    "    StructField(\"trip_distance\", DoubleType(), True),\n",
    "    StructField(\"store_and_fwd_flag\", StringType(), True),\n",
    "    StructField(\"DOLocationID\", LongType(), True),\n",
    "    StructField(\"fare_amount\", DoubleType(), True),\n",
    "    StructField(\"extra\", DoubleType(), True),\n",
    "    StructField(\"mta_tax\", DoubleType(), True),\n",
    "    StructField(\"tip_amount\", DoubleType(), True),\n",
    "    StructField(\"tolls_amount\", DoubleType(), True),\n",
    "    StructField(\"improvement_surcharge\", DoubleType(), True),\n",
    "    StructField(\"total_amount\", DoubleType(), True),\n",
    "    StructField(\"congestion_surcharge\", DoubleType(), True),  # Use Double here\n",
    "])\n",
    "\n",
    "yellow_schema = StructType([\n",
    "    StructField(\"RatecodeID\", LongType(), True),\n",
    "    StructField(\"payment_type\", LongType(), True),\n",
    "    StructField(\"passenger_count\", DoubleType(), True),\n",
    "    StructField(\"tpep_pickup_datetime\", TimestampType(), True),\n",
    "    StructField(\"tpep_dropoff_datetime\", TimestampType(), True),\n",
    "    StructField(\"airport_fee\", DoubleType(), True),\n",
    "    StructField(\"trip_type\", DoubleType(), True),\n",
    "    *common_schema,\n",
    "])\n",
    "\n",
    "green_schema = StructType([\n",
    "    StructField(\"RatecodeID\", LongType(), True),\n",
    "    StructField(\"payment_type\", LongType(), True),\n",
    "    StructField(\"passenger_count\", DoubleType(), True),\n",
    "    StructField(\"lpep_pickup_datetime\", TimestampType(), True),\n",
    "    StructField(\"lpep_dropoff_datetime\", TimestampType(), True),\n",
    "    StructField(\"ehail_fee\", DoubleType(), True),\n",
    "    *common_schema,\n",
    "])\n"
   ]
  },
  {
   "cell_type": "code",
   "execution_count": 17,
   "id": "c7cb33a7",
   "metadata": {},
   "outputs": [],
   "source": [
    "green_df = (\n",
    "    spark.read.options(\n",
    "        mergeSchema=\"true\",\n",
    "        recursiveFileLookup=\"true\",\n",
    "    )\n",
    "    .schema(green_schema)\n",
    "    .parquet(GREEN_TAXI_DIR_PATH)\n",
    "    .withColumnRenamed(\"lpep_pickup_datetime\", \"pickup_datetime\")\n",
    "    .withColumnRenamed(\"lpep_dropoff_datetime\",\"dropoff_datetime\")\n",
    "    .withColumnRenamed(\"ehail_fee\", \"fee\")\n",
    ")\n",
    "\n",
    "yellow_df = (\n",
    "    spark.read.options(\n",
    "        mergeSchema=\"true\",\n",
    "        recursiveFileLookup=\"true\",\n",
    "    )\n",
    "    .schema(yellow_schema)\n",
    "    .parquet(YELLOW_TAXI_DIR_PATH)\n",
    "    .withColumnRenamed(\"tpep_pickup_datetime\", \"pickup_datetime\")\n",
    "    .withColumnRenamed(\"tpep_dropoff_datetime\",\"dropoff_datetime\")\n",
    ")"
   ]
  },
  {
   "cell_type": "code",
   "execution_count": 18,
   "id": "356be244",
   "metadata": {},
   "outputs": [
    {
     "name": "stdout",
     "output_type": "stream",
     "text": [
      "+----------+------------+---------------+-------------------+-------------------+-----------+---------+--------+------------+-------------+------------------+------------+-----------+-----+-------+----------+------------+---------------------+------------+--------------------+\n",
      "|RatecodeID|payment_type|passenger_count|    pickup_datetime|   dropoff_datetime|airport_fee|trip_type|VendorID|PULocationID|trip_distance|store_and_fwd_flag|DOLocationID|fare_amount|extra|mta_tax|tip_amount|tolls_amount|improvement_surcharge|total_amount|congestion_surcharge|\n",
      "+----------+------------+---------------+-------------------+-------------------+-----------+---------+--------+------------+-------------+------------------+------------+-----------+-----+-------+----------+------------+---------------------+------------+--------------------+\n",
      "|         1|           1|            1.0|2020-02-01 02:17:35|2020-02-01 02:30:32|       null|     null|       1|         145|          2.6|                 N|           7|       11.0|  0.5|    0.5|      2.45|         0.0|                  0.3|       14.75|                 0.0|\n",
      "|         1|           1|            1.0|2020-02-01 02:32:47|2020-02-01 03:05:36|       null|     null|       1|          45|          4.8|                 N|          61|       21.5|  3.0|    0.5|       6.3|         0.0|                  0.3|        31.6|                 2.5|\n",
      "|         1|           1|            1.0|2020-02-01 02:31:44|2020-02-01 02:43:28|       null|     null|       1|         186|          3.2|                 N|         140|       11.0|  3.0|    0.5|       1.0|         0.0|                  0.3|        15.8|                 2.5|\n",
      "|         1|           1|            1.0|2020-02-01 02:07:35|2020-02-01 02:31:39|       null|     null|       2|         144|         4.38|                 N|         140|       18.0|  0.5|    0.5|       3.0|         0.0|                  0.3|        24.8|                 2.5|\n",
      "|         1|           2|            1.0|2020-02-01 02:51:43|2020-02-01 03:01:29|       null|     null|       2|         238|         2.28|                 N|         152|        9.5|  0.5|    0.5|       0.0|         0.0|                  0.3|        10.8|                 0.0|\n",
      "+----------+------------+---------------+-------------------+-------------------+-----------+---------+--------+------------+-------------+------------------+------------+-----------+-----+-------+----------+------------+---------------------+------------+--------------------+\n",
      "only showing top 5 rows\n",
      "\n",
      "+----------+------------+---------------+-------------------+-------------------+----+--------+------------+-------------+------------------+------------+-----------+-----+-------+----------+------------+---------------------+------------+--------------------+\n",
      "|RatecodeID|payment_type|passenger_count|    pickup_datetime|   dropoff_datetime| fee|VendorID|PULocationID|trip_distance|store_and_fwd_flag|DOLocationID|fare_amount|extra|mta_tax|tip_amount|tolls_amount|improvement_surcharge|total_amount|congestion_surcharge|\n",
      "+----------+------------+---------------+-------------------+-------------------+----+--------+------------+-------------+------------------+------------+-----------+-----+-------+----------+------------+---------------------+------------+--------------------+\n",
      "|         1|           2|            1.0|2022-03-01 02:24:14|2022-03-01 02:34:04|null|       1|          74|          2.3|                 N|         151|        9.5|  0.5|    0.5|       0.0|         0.0|                  0.3|        10.8|                 0.0|\n",
      "|         1|           1|            1.0|2022-03-01 01:39:24|2022-03-01 01:47:03|null|       2|          75|         1.31|                 N|         151|        7.5|  0.5|    0.5|       1.0|         0.0|                  0.3|         9.8|                 0.0|\n",
      "|         1|           1|            1.0|2022-03-01 01:55:30|2022-03-01 02:09:32|null|       2|         166|         2.31|                 N|          42|       11.5|  0.5|    0.5|       0.0|         0.0|                  0.3|        12.8|                 0.0|\n",
      "|         1|           2|            1.0|2022-03-01 02:24:55|2022-03-01 02:33:06|null|       2|          82|         1.58|                 N|         173|        8.0|  0.5|    0.5|       0.0|         0.0|                  0.3|         9.3|                 0.0|\n",
      "|         1|           1|            1.0|2022-03-01 02:23:33|2022-03-01 02:30:08|null|       2|         127|         1.52|                 N|         243|        7.0|  0.5|    0.5|      2.08|         0.0|                  0.3|       10.38|                 0.0|\n",
      "+----------+------------+---------------+-------------------+-------------------+----+--------+------------+-------------+------------------+------------+-----------+-----+-------+----------+------------+---------------------+------------+--------------------+\n",
      "only showing top 5 rows\n",
      "\n"
     ]
    }
   ],
   "source": [
    "# * Видалення поїздок з нульовою або від’ємною відстанню (trip_distance <= 0).\n",
    "# * Відсіювання аномальних поїздок з тарифом ≤ 0 або > 500.\n",
    "# * Відсіювання записів з некоректною кількістю пасажирів (0 або більше 6).\n",
    "\n",
    "filter_query = \"\"\"\n",
    "    SELECT * FROM {df}\n",
    "    WHERE \n",
    "        trip_distance > 0\n",
    "        AND total_amount > 0\n",
    "        AND total_amount <= 500\n",
    "        AND passenger_count BETWEEN 0 AND 6;   \n",
    "\"\"\"\n",
    "yellow_filtered_df = spark.sql(filter_query, df=yellow_df)\n",
    "green_filtered_df = spark.sql(filter_query, df=green_df)\n",
    "\n",
    "yellow_filtered_df.show(5)\n",
    "green_filtered_df.show(5)"
   ]
  },
  {
   "cell_type": "code",
   "execution_count": 19,
   "id": "dc847002",
   "metadata": {},
   "outputs": [],
   "source": [
    "# * Уніфікація назв колонок до snake_case.\n",
    "# * Конвертація дат у формат timestamp. - Already done\n",
    "# * Обчислення додаткових полів:\n",
    "#   * Тривалість поїздки у хвилинах (trip_duration_minutes).\n",
    "#   * Година доби початку поїздки (pickup_hour).\n",
    "\n",
    "import re\n",
    "from pyspark.sql.functions import unix_timestamp, hour, col\n",
    "from pyspark.sql.functions import round as sp_round\n",
    "\n",
    "def to_snake_case(name: str) -> str:\n",
    "    name = re.sub(\"(.)([A-Z][a-z]+)\", r\"\\1_\\2\", name)\n",
    "    name = re.sub(\"([a-z0-9])([A-Z])\", r\"\\1_\\2\", name)\n",
    "    return name.lower()\n",
    "\n",
    "additional_columns = {\n",
    "    \"pickup_hour\": hour(\"pickup_datetime\"),\n",
    "    \"trip_duration_minutes\": sp_round(\n",
    "        (unix_timestamp(col(\"dropoff_datetime\")) - unix_timestamp(col(\"pickup_datetime\"))) / 60,\n",
    "        4\n",
    "    )\n",
    "}\n",
    "\n",
    "yellow_snaked_df = (\n",
    "    yellow_filtered_df.toDF(*[to_snake_case(c) for c in yellow_filtered_df.columns])\n",
    "    .withColumns(additional_columns)\n",
    ")\n",
    "\n",
    "green_snaked_df = (\n",
    "    green_filtered_df.toDF(*[to_snake_case(c) for c in green_filtered_df.columns])\n",
    "    .withColumns(additional_columns)\n",
    ")"
   ]
  },
  {
   "cell_type": "code",
   "execution_count": 8,
   "id": "c36694ad",
   "metadata": {},
   "outputs": [
    {
     "name": "stdout",
     "output_type": "stream",
     "text": [
      "+-----------+------------+---------------+-------------------+-------------------+-----------+---------+---------+--------------+-------------+------------------+--------------+-----------+-----+-------+----------+------------+---------------------+------------+--------------------+-----------+---------------------+\n",
      "|ratecode_id|payment_type|passenger_count|    pickup_datetime|   dropoff_datetime|airport_fee|trip_type|vendor_id|pu_location_id|trip_distance|store_and_fwd_flag|do_location_id|fare_amount|extra|mta_tax|tip_amount|tolls_amount|improvement_surcharge|total_amount|congestion_surcharge|pickup_hour|trip_duration_minutes|\n",
      "+-----------+------------+---------------+-------------------+-------------------+-----------+---------+---------+--------------+-------------+------------------+--------------+-----------+-----+-------+----------+------------+---------------------+------------+--------------------+-----------+---------------------+\n",
      "|          1|           1|              1|2020-01-31 22:17:35|2020-01-31 22:30:32|       NULL|     NULL|        1|           145|          2.6|                 N|             7|       11.0|  0.5|    0.5|      2.45|         0.0|                  0.3|       14.75|                 0.0|         22|                12.95|\n",
      "|          1|           1|              1|2020-01-31 22:32:47|2020-01-31 23:05:36|       NULL|     NULL|        1|            45|          4.8|                 N|            61|       21.5|  3.0|    0.5|       6.3|         0.0|                  0.3|        31.6|                 2.5|         22|              32.8167|\n",
      "|          1|           1|              1|2020-01-31 22:31:44|2020-01-31 22:43:28|       NULL|     NULL|        1|           186|          3.2|                 N|           140|       11.0|  3.0|    0.5|       1.0|         0.0|                  0.3|        15.8|                 2.5|         22|              11.7333|\n",
      "|          1|           1|              1|2020-01-31 22:07:35|2020-01-31 22:31:39|       NULL|     NULL|        2|           144|         4.38|                 N|           140|       18.0|  0.5|    0.5|       3.0|         0.0|                  0.3|        24.8|                 2.5|         22|              24.0667|\n",
      "|          1|           2|              1|2020-01-31 22:51:43|2020-01-31 23:01:29|       NULL|     NULL|        2|           238|         2.28|                 N|           152|        9.5|  0.5|    0.5|       0.0|         0.0|                  0.3|        10.8|                 0.0|         22|               9.7667|\n",
      "+-----------+------------+---------------+-------------------+-------------------+-----------+---------+---------+--------------+-------------+------------------+--------------+-----------+-----+-------+----------+------------+---------------------+------------+--------------------+-----------+---------------------+\n",
      "only showing top 5 rows\n",
      "+-----------+------------+---------------+-------------------+-------------------+----+---------+--------------+-------------+------------------+--------------+-----------+-----+-------+----------+------------+---------------------+------------+--------------------+-----------+---------------------+\n",
      "|ratecode_id|payment_type|passenger_count|    pickup_datetime|   dropoff_datetime| fee|vendor_id|pu_location_id|trip_distance|store_and_fwd_flag|do_location_id|fare_amount|extra|mta_tax|tip_amount|tolls_amount|improvement_surcharge|total_amount|congestion_surcharge|pickup_hour|trip_duration_minutes|\n",
      "+-----------+------------+---------------+-------------------+-------------------+----+---------+--------------+-------------+------------------+--------------+-----------+-----+-------+----------+------------+---------------------+------------+--------------------+-----------+---------------------+\n",
      "|          1|           2|            1.0|2022-03-01 00:24:14|2022-03-01 00:34:04|NULL|        1|            74|          2.3|                 N|           151|        9.5|  0.5|    0.5|       0.0|         0.0|                  0.3|        10.8|                 0.0|          0|               9.8333|\n",
      "|          1|           1|            1.0|2022-02-28 23:39:24|2022-02-28 23:47:03|NULL|        2|            75|         1.31|                 N|           151|        7.5|  0.5|    0.5|       1.0|         0.0|                  0.3|         9.8|                 0.0|         23|                 7.65|\n",
      "|          1|           1|            1.0|2022-02-28 23:55:30|2022-03-01 00:09:32|NULL|        2|           166|         2.31|                 N|            42|       11.5|  0.5|    0.5|       0.0|         0.0|                  0.3|        12.8|                 0.0|         23|              14.0333|\n",
      "|          1|           2|            1.0|2022-03-01 00:24:55|2022-03-01 00:33:06|NULL|        2|            82|         1.58|                 N|           173|        8.0|  0.5|    0.5|       0.0|         0.0|                  0.3|         9.3|                 0.0|          0|               8.1833|\n",
      "|          1|           1|            1.0|2022-03-01 00:23:33|2022-03-01 00:30:08|NULL|        2|           127|         1.52|                 N|           243|        7.0|  0.5|    0.5|      2.08|         0.0|                  0.3|       10.38|                 0.0|          0|               6.5833|\n",
      "+-----------+------------+---------------+-------------------+-------------------+----+---------+--------------+-------------+------------------+--------------+-----------+-----+-------+----------+------------+---------------------+------------+--------------------+-----------+---------------------+\n",
      "only showing top 5 rows\n"
     ]
    }
   ],
   "source": [
    "yellow_snaked_df.show(5)\n",
    "\n",
    "green_snaked_df.show(5)"
   ]
  },
  {
   "cell_type": "code",
   "execution_count": 9,
   "id": "1598d112",
   "metadata": {},
   "outputs": [
    {
     "name": "stdout",
     "output_type": "stream",
     "text": [
      "+----------+-------------+--------------------+------------+\n",
      "|LocationID|      Borough|                Zone|service_zone|\n",
      "+----------+-------------+--------------------+------------+\n",
      "|         1|          EWR|      Newark Airport|         EWR|\n",
      "|         2|       Queens|         Jamaica Bay|   Boro Zone|\n",
      "|         3|        Bronx|Allerton/Pelham G...|   Boro Zone|\n",
      "|         4|    Manhattan|       Alphabet City| Yellow Zone|\n",
      "|         5|Staten Island|       Arden Heights|   Boro Zone|\n",
      "+----------+-------------+--------------------+------------+\n",
      "only showing top 5 rows\n"
     ]
    }
   ],
   "source": [
    "# * Об’єднання з довідником зон за PULocationID та DOLocationID:\n",
    "# * Отримання назв районів (наприклад, pickup_borough, dropoff_borough).\n",
    "\n",
    "TAXI_ZONE_FILE_PATH = os.path.join(FILES_PATH, \"taxi_zone_lookup.csv\")\n",
    "taxi_zone_lookup_df = spark.read.options(header=\"true\").csv(TAXI_ZONE_FILE_PATH)\n",
    "taxi_zone_lookup_df.show(5)"
   ]
  },
  {
   "cell_type": "code",
   "execution_count": 10,
   "id": "571d9a8a",
   "metadata": {},
   "outputs": [
    {
     "name": "stdout",
     "output_type": "stream",
     "text": [
      "+--------------+--------------+-----------+------------+---------------+-------------------+-------------------+-----------+---------+---------+-------------+------------------+-----------+-----+-------+----------+------------+---------------------+------------+--------------------+-----------+---------------------+--------------+---------------+\n",
      "|do_location_id|pu_location_id|ratecode_id|payment_type|passenger_count|    pickup_datetime|   dropoff_datetime|airport_fee|trip_type|vendor_id|trip_distance|store_and_fwd_flag|fare_amount|extra|mta_tax|tip_amount|tolls_amount|improvement_surcharge|total_amount|congestion_surcharge|pickup_hour|trip_duration_minutes|pickup_borough|dropoff_borough|\n",
      "+--------------+--------------+-----------+------------+---------------+-------------------+-------------------+-----------+---------+---------+-------------+------------------+-----------+-----+-------+----------+------------+---------------------+------------+--------------------+-----------+---------------------+--------------+---------------+\n",
      "|             7|           145|          1|           1|              1|2020-01-31 22:17:35|2020-01-31 22:30:32|       NULL|     NULL|        1|          2.6|                 N|       11.0|  0.5|    0.5|      2.45|         0.0|                  0.3|       14.75|                 0.0|         22|                12.95|        Queens|         Queens|\n",
      "|            61|            45|          1|           1|              1|2020-01-31 22:32:47|2020-01-31 23:05:36|       NULL|     NULL|        1|          4.8|                 N|       21.5|  3.0|    0.5|       6.3|         0.0|                  0.3|        31.6|                 2.5|         22|              32.8167|     Manhattan|       Brooklyn|\n",
      "|           140|           186|          1|           1|              1|2020-01-31 22:31:44|2020-01-31 22:43:28|       NULL|     NULL|        1|          3.2|                 N|       11.0|  3.0|    0.5|       1.0|         0.0|                  0.3|        15.8|                 2.5|         22|              11.7333|     Manhattan|      Manhattan|\n",
      "|           140|           144|          1|           1|              1|2020-01-31 22:07:35|2020-01-31 22:31:39|       NULL|     NULL|        2|         4.38|                 N|       18.0|  0.5|    0.5|       3.0|         0.0|                  0.3|        24.8|                 2.5|         22|              24.0667|     Manhattan|      Manhattan|\n",
      "|           152|           238|          1|           2|              1|2020-01-31 22:51:43|2020-01-31 23:01:29|       NULL|     NULL|        2|         2.28|                 N|        9.5|  0.5|    0.5|       0.0|         0.0|                  0.3|        10.8|                 0.0|         22|               9.7667|     Manhattan|      Manhattan|\n",
      "+--------------+--------------+-----------+------------+---------------+-------------------+-------------------+-----------+---------+---------+-------------+------------------+-----------+-----+-------+----------+------------+---------------------+------------+--------------------+-----------+---------------------+--------------+---------------+\n",
      "only showing top 5 rows\n",
      "+--------------+--------------+-----------+------------+---------------+-------------------+-------------------+----+---------+-------------+------------------+-----------+-----+-------+----------+------------+---------------------+------------+--------------------+-----------+---------------------+--------------+---------------+\n",
      "|do_location_id|pu_location_id|ratecode_id|payment_type|passenger_count|    pickup_datetime|   dropoff_datetime| fee|vendor_id|trip_distance|store_and_fwd_flag|fare_amount|extra|mta_tax|tip_amount|tolls_amount|improvement_surcharge|total_amount|congestion_surcharge|pickup_hour|trip_duration_minutes|pickup_borough|dropoff_borough|\n",
      "+--------------+--------------+-----------+------------+---------------+-------------------+-------------------+----+---------+-------------+------------------+-----------+-----+-------+----------+------------+---------------------+------------+--------------------+-----------+---------------------+--------------+---------------+\n",
      "|           151|            74|          1|           2|            1.0|2022-03-01 00:24:14|2022-03-01 00:34:04|NULL|        1|          2.3|                 N|        9.5|  0.5|    0.5|       0.0|         0.0|                  0.3|        10.8|                 0.0|          0|               9.8333|     Manhattan|      Manhattan|\n",
      "|           151|            75|          1|           1|            1.0|2022-02-28 23:39:24|2022-02-28 23:47:03|NULL|        2|         1.31|                 N|        7.5|  0.5|    0.5|       1.0|         0.0|                  0.3|         9.8|                 0.0|         23|                 7.65|     Manhattan|      Manhattan|\n",
      "|            42|           166|          1|           1|            1.0|2022-02-28 23:55:30|2022-03-01 00:09:32|NULL|        2|         2.31|                 N|       11.5|  0.5|    0.5|       0.0|         0.0|                  0.3|        12.8|                 0.0|         23|              14.0333|     Manhattan|      Manhattan|\n",
      "|           173|            82|          1|           2|            1.0|2022-03-01 00:24:55|2022-03-01 00:33:06|NULL|        2|         1.58|                 N|        8.0|  0.5|    0.5|       0.0|         0.0|                  0.3|         9.3|                 0.0|          0|               8.1833|        Queens|         Queens|\n",
      "|           243|           127|          1|           1|            1.0|2022-03-01 00:23:33|2022-03-01 00:30:08|NULL|        2|         1.52|                 N|        7.0|  0.5|    0.5|      2.08|         0.0|                  0.3|       10.38|                 0.0|          0|               6.5833|     Manhattan|      Manhattan|\n",
      "+--------------+--------------+-----------+------------+---------------+-------------------+-------------------+----+---------+-------------+------------------+-----------+-----+-------+----------+------------+---------------------+------------+--------------------+-----------+---------------------+--------------+---------------+\n",
      "only showing top 5 rows\n"
     ]
    }
   ],
   "source": [
    "from pyspark.sql.functions import broadcast\n",
    "from pyspark.sql import DataFrame\n",
    "\n",
    "def join_zones(df: DataFrame, zone_df: DataFrame) -> DataFrame:\n",
    "    return (\n",
    "        df.join(\n",
    "            broadcast(\n",
    "                zone_df.select(\n",
    "                    col(\"Borough\").alias(\"pickup_borough\"),\n",
    "                    col(\"LocationID\").alias(\"pu_location_id\"),\n",
    "                )\n",
    "            ),\n",
    "            how=\"left\",\n",
    "            on=\"pu_location_id\"\n",
    "        ).join(\n",
    "            broadcast(\n",
    "                zone_df.select(\n",
    "                    col(\"Borough\").alias(\"dropoff_borough\"),\n",
    "                    col(\"LocationID\").alias(\"do_location_id\"),\n",
    "                )\n",
    "            ),\n",
    "            how=\"left\",\n",
    "            on=\"do_location_id\" \n",
    "        )\n",
    "    )\n",
    "\n",
    "yellow_taxi_stage_df = join_zones(yellow_snaked_df, taxi_zone_lookup_df)\n",
    "green_taxi_stage_df = join_zones(green_snaked_df, taxi_zone_lookup_df)\n",
    "    \n",
    "\n",
    "yellow_taxi_stage_df.show(5)\n",
    "green_taxi_stage_df.show(5)"
   ]
  },
  {
   "cell_type": "code",
   "execution_count": null,
   "id": "3884b58f",
   "metadata": {},
   "outputs": [
    {
     "name": "stderr",
     "output_type": "stream",
     "text": [
      "                                                                                \r"
     ]
    }
   ],
   "source": [
    "# * Основний датафрейм записується у таблицю yellow_taxi_stage, green_taxi_stage, taxi_lookup_zone_stage\n",
    "# * Формат завантаження: overwrite, залежно від налаштувань.\n",
    "\n",
    "DB_USER = \"airflow\"\n",
    "DB_PASSWORD = \"airflow\"\n",
    "JDBC_URL = \"jdbc:postgresql://localhost:8432/hw6\"\n",
    "\n",
    "def write_psql(\n",
    "        writeable_df: DataFrame,\n",
    "        *,\n",
    "        table: str,\n",
    "        connection_str: str,\n",
    "        username: str,\n",
    "        password: str,\n",
    "        mode: str = \"overwrite\"\n",
    ") -> None:\n",
    "    properties = {\"user\":username, \"password\":password, \"driver\": \"org.postgresql.Driver\"}\n",
    "    writeable_df.write.jdbc(url=connection_str, table=table, properties=properties, mode=mode)\n",
    "\n",
    "write_psql(yellow_taxi_stage_df.limit(20000), table=\"yellow_taxi_stage\", connection_str=JDBC_URL, username=DB_USER, password=DB_PASSWORD)\n",
    "write_psql(green_taxi_stage_df.limit(20000), table=\"green_taxi_stage\", connection_str=JDBC_URL, username=DB_USER, password=DB_PASSWORD)\n",
    "write_psql(taxi_zone_lookup_df.toDF(*[to_snake_case(c) for c in taxi_zone_lookup_df.columns]), table=\"taxi_lookup_zone_stage\", connection_str=JDBC_URL, username=DB_USER, password=DB_PASSWORD)\n",
    "\n"
   ]
  }
 ],
 "metadata": {
  "kernelspec": {
   "display_name": ".venv",
   "language": "python",
   "name": "python3"
  },
  "language_info": {
   "codemirror_mode": {
    "name": "ipython",
    "version": 3
   },
   "file_extension": ".py",
   "mimetype": "text/x-python",
   "name": "python",
   "nbconvert_exporter": "python",
   "pygments_lexer": "ipython3",
   "version": "3.10.13"
  }
 },
 "nbformat": 4,
 "nbformat_minor": 5
}
