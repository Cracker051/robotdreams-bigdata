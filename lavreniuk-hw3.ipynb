{
 "metadata": {
  "kernelspec": {
   "display_name": "Streamlit Notebook",
   "name": "streamlit"
  },
  "lastEditStatus": {
   "notebookId": "rbxvqdlqkqancpm4useo",
   "authorId": "8447716872278",
   "authorName": "DOCTORWALTER1",
   "authorEmail": "DOCTORWALTER1@GMAIL.COM",
   "sessionId": "c26f7354-f400-4b8c-99f6-36a7f77d643f",
   "lastEditTime": 1755343146692
  }
 },
 "nbformat_minor": 5,
 "nbformat": 4,
 "cells": [
  {
   "cell_type": "markdown",
   "id": "f3ae236e-15ef-4d1a-b43d-6c33595c54d2",
   "metadata": {
    "name": "cell5",
    "collapsed": false
   },
   "source": "📌 Датасети\n\nПрацюємо з файлами з бакету:\n\ns3://<your-bucket-name>/nyc-taxi/\n\n📌 Завдання\n\n✅ 1. External Stage\n\n* Створіть External Stage, який підключено до публічного бакету\n* Перевірте доступність файлів за допомогою LIST @stage_name\n\n✅ 2. Завантаження сирих даних\n\n* Створіть таблиці yellow_raw, green_raw, taxi_zone_lookup\n* Завантажте файли в таблиці за допомогою команди COPY INTO\n\n✅ 3. Збагачення даних\n\n* Створіть таблиці yellow_enriched та green_enriched\n* Реалізуйте JOIN з lookup таблицею\n* Pickup/Dropoff зони (zone_name)\n* Використовуйте LEFT JOIN для збереження всіх записів\n\n✅ 4. Трансформації\n\n* Фільтруйте записи:\n  * trip_distance > 0\n  * total_amount > 0\n  * passenger_count між 1 та 6\n* Додайте колонку trip_category:\n  * Short (до 2 км), Medium (2–10 км), Long (>10 км)\n* Додайте колонку pickup_hour: годину з pickup_datetime\n* Створіть агреговану таблицю з підрахунком по зонах\n\n✅ 5. Time Travel\n\n* Видаліть кілька записів зі збагаченої таблиці (наприклад, green_enriched)\n* За допомогою Time Travel:\n  * Перевірте стару версію таблиці (через AT або BEFORE)\n  * Відновіть видалені записи у нову таблицю або у ту ж (через INSERT SELECT)\n\n✅ 6. Streams\n\n* Створіть Stream на таблиці yellow_enriched\n* Додайте нові записи вручну або через COPY INTO\n* Перевірте, що Stream відображає INSERT/UPDATE зміни\n* Створіть цільову таблицю yellow_changes_log для зберігання змін\n\n✅ 7. Tasks (batch/streaming jobs)\n\n* Створіть Task, який щогодини:\n  * Зчитує зміни зі Stream\n  * Вставляє нові записи у yellow_changes_log\n* Використайте SCHEDULE = '1 HOUR' або WAREHOUSE = '...' для запуску\n* Зробіть окремий Task для агрегованої статистики:\n  * Середня відстань\n  * Середня ціна\n  * Кількість поїздок\n  * Зберігайте у таблицю zone_hourly_stats\n* Використайте SCHEDULE = '1 HOUR' або WAREHOUSE = '...' для запуску\n\n📍 8. Додаткове завдання (опціонально)\n\n* Об’єднайте yellow_enriched та green_enriched у таблицю all_trips\n* Створіть Stored Procedure:\n  * Перевірка на дублікати перед вставкою\n  * Запис результату в лог-таблицю\n* Налаштуйте Zero-Copy Cloning бази для створення середовища taxi_dev"
  },
  {
   "cell_type": "code",
   "id": "3775908f-ca36-4846-8f38-5adca39217f2",
   "metadata": {
    "language": "sql",
    "name": "cell1"
   },
   "source": "CREATE OR REPLACE STORAGE INTEGRATION lavreniuk_s3_integration\n  TYPE = EXTERNAL_STAGE\n  STORAGE_PROVIDER = 'S3'\n  ENABLED = TRUE\n  STORAGE_AWS_ROLE_ARN = 'arn:aws:iam::554739427960:role/lavreniuk-snowflake'\n  STORAGE_ALLOWED_LOCATIONS = ('*');",
   "execution_count": null,
   "outputs": []
  },
  {
   "cell_type": "code",
   "id": "8d50cbf4-0c8d-4950-86cb-114990437ac9",
   "metadata": {
    "language": "sql",
    "name": "cell2"
   },
   "source": "DESC INTEGRATION s3_integration;",
   "execution_count": null,
   "outputs": []
  },
  {
   "cell_type": "code",
   "id": "c695373e-ac74-4b62-a1f1-08206cbd5c81",
   "metadata": {
    "language": "sql",
    "name": "cell3"
   },
   "outputs": [],
   "source": "-- creating format\n\nCREATE OR REPLACE FILE FORMAT csv_format\n    TYPE = 'CSV'\n    COMPRESSION = 'AUTO'\n    FIELD_DELIMITER = ','\n    RECORD_DELIMITER = '\\n'\n    SKIP_HEADER = 1\n    TRIM_SPACE = TRUE,\n    FIELD_OPTIONALLY_ENCLOSED_BY='\"'\n    ERROR_ON_COLUMN_COUNT_MISMATCH = FALSE;\n\nCREATE OR REPLACE FILE FORMAT parquet_format\n    TYPE = 'PARQUET'\n    COMPRESSION = AUTO\n    USE_LOGICAL_TYPE = TRUE\n    TRIM_SPACE = TRUE;\n",
   "execution_count": null
  },
  {
   "cell_type": "code",
   "id": "f7fd235e-d879-40b6-9427-cab5d87ea390",
   "metadata": {
    "language": "sql",
    "name": "cell4"
   },
   "outputs": [],
   "source": " CREATE OR REPLACE STAGE lavreniuk_s3_stage\n    STORAGE_INTEGRATION = lavreniuk_s3_integration\n    URL = 's3://lavreniuk-hw3/nyc_taxi/'\n    FILE_FORMAT = csv_format;",
   "execution_count": null
  },
  {
   "cell_type": "code",
   "id": "ed01bc8e-5bc5-417c-aad1-00643e5da2c5",
   "metadata": {
    "language": "sql",
    "name": "cell6"
   },
   "outputs": [],
   "source": "LIST @lavreniuk_s3_stage;",
   "execution_count": null
  },
  {
   "cell_type": "code",
   "id": "095a3cd6-1a01-43ea-9869-d52d4682bed8",
   "metadata": {
    "language": "sql",
    "name": "cell7"
   },
   "outputs": [],
   "source": "-- Creating raw tables\n\nCREATE TABLE IF NOT EXISTS yellow_raw(\n    VendorID BIGINT,\n    passenger_count BIGINT,\n    trip_distance DOUBLE,\n    RatecodeID BIGINT,\n    store_and_fwd_flag VARCHAR,\n    PULocationID BIGINT,\n    DOLocationID BIGINT,\n    payment_type BIGINT,\n    fare_amount DOUBLE,\n    extra DOUBLE,\n    mta_tax DOUBLE,\n    tip_amount DOUBLE,\n    tolls_amount DOUBLE,\n    improvement_surcharge DOUBLE,\n    total_amount DOUBLE,\n    congestion_surcharge DOUBLE,\n    tpep_pickup_datetime TIMESTAMP_NTZ,\n    tpep_dropoff_datetime TIMESTAMP_NTZ,\n    Airport_fee DOUBLE\n);\n\nCREATE TABLE IF NOT EXISTS green_raw(\n    VendorID BIGINT,\n    passenger_count BIGINT,\n    trip_distance DOUBLE,\n    RatecodeID BIGINT,\n    store_and_fwd_flag VARCHAR,\n    PULocationID BIGINT,\n    DOLocationID BIGINT,\n    payment_type BIGINT,\n    fare_amount DOUBLE,\n    extra DOUBLE,\n    mta_tax DOUBLE,\n    tip_amount DOUBLE,\n    tolls_amount DOUBLE,\n    improvement_surcharge DOUBLE,\n    total_amount DOUBLE,\n    congestion_surcharge DOUBLE,\n    lpep_pickup_datetime TIMESTAMP_NTZ,\n    lpep_dropoff_datetime TIMESTAMP_NTZ\n);\n\nCREATE TABLE IF NOT EXISTS taxi_zone_lookup(\n    LocationID BIGINT,\n    Borough VARCHAR,\n    Zone VARCHAR,\n    service_zone VARCHAR\n);",
   "execution_count": null
  },
  {
   "cell_type": "code",
   "id": "d8aae1a4-512c-4e79-84a3-9285b55386d5",
   "metadata": {
    "language": "sql",
    "name": "cell8"
   },
   "outputs": [],
   "source": "-- seeding yellow\n\nCOPY INTO public.yellow_raw\n    FROM @lavreniuk_s3_stage/yellow\n    FILE_FORMAT = parquet_format\n    MATCH_BY_COLUMN_NAME = CASE_INSENSITIVE\n    ON_ERROR = 'CONTINUE';",
   "execution_count": null
  },
  {
   "cell_type": "code",
   "id": "84ece410-77d7-4d36-aac6-4928b202ea05",
   "metadata": {
    "language": "sql",
    "name": "cell9"
   },
   "outputs": [],
   "source": "-- seeding green\n\nCOPY INTO public.green_raw\n    FROM @lavreniuk_s3_stage/green\n    FILE_FORMAT = parquet_format\n    MATCH_BY_COLUMN_NAME = CASE_INSENSITIVE\n    ON_ERROR = 'CONTINUE';",
   "execution_count": null
  },
  {
   "cell_type": "code",
   "id": "001981b0-747c-448e-b3d3-ca321d783a1e",
   "metadata": {
    "language": "sql",
    "name": "cell11"
   },
   "outputs": [],
   "source": "-- seeding taxi_zone_lookup\n\nCOPY INTO public.taxi_zone_lookup\n    FROM @lavreniuk_s3_stage/taxi_zone_lookup.csv\n    FILE_FORMAT = csv_format\n    ON_ERROR = 'CONTINUE';",
   "execution_count": null
  },
  {
   "cell_type": "code",
   "id": "39152b96-2a84-4626-b6fc-cf0549de7c5f",
   "metadata": {
    "language": "sql",
    "name": "cell10"
   },
   "outputs": [],
   "source": "SELECT * FROM green_raw LIMIT 5;",
   "execution_count": null
  },
  {
   "cell_type": "code",
   "id": "1efc3649-42de-47d3-af07-8715941de4c2",
   "metadata": {
    "language": "sql",
    "name": "cell12",
    "codeCollapsed": false
   },
   "outputs": [],
   "source": "-- Створіть таблиці yellow_enriched та green_enriched\n-- * Реалізуйте JOIN з lookup таблицею\n-- * Pickup/Dropoff зони (zone_name)\n-- * Використовуйте LEFT JOIN для збереження всіх записів\n\nCREATE TABLE yellow_enriched AS \nSELECT\n    yr.*,\n    zl_pi.Zone as pickup_zone,\n    zl_do.Zone as dropoff_zone\nFROM yellow_raw yr\nLEFT JOIN taxi_zone_lookup zl_pi\n    ON yr.PULocationID = zl_pi.LocationID\nLEFT JOIN taxi_zone_lookup zl_do\n    ON yr.DOLocationID = zl_do.LocationID",
   "execution_count": null
  },
  {
   "cell_type": "code",
   "id": "ec7bb4b6-7f4d-4e42-bc62-1024359c401b",
   "metadata": {
    "language": "sql",
    "name": "cell13"
   },
   "outputs": [],
   "source": "CREATE TABLE green_enriched AS \nSELECT\n    gr.*,\n    zl_pi.Zone as pickup_zone,\n    zl_do.Zone as dropoff_zone\nFROM green_raw gr\nLEFT JOIN taxi_zone_lookup zl_pi\n    ON gr.PULocationID = zl_pi.LocationID\nLEFT JOIN taxi_zone_lookup zl_do\n    ON gr.DOLocationID = zl_do.LocationID",
   "execution_count": null
  },
  {
   "cell_type": "code",
   "id": "734f05aa-e3c5-4ab3-aa59-0ae121c28720",
   "metadata": {
    "language": "sql",
    "name": "cell14"
   },
   "outputs": [],
   "source": "SELECT TOP 5 * FROM green_enriched",
   "execution_count": null
  },
  {
   "cell_type": "code",
   "id": "c8aba6ee-ba67-47b9-b9a2-aca686160350",
   "metadata": {
    "language": "sql",
    "name": "cell15"
   },
   "outputs": [],
   "source": "SELECT TOP 5 * FROM yellow_enriched",
   "execution_count": null
  },
  {
   "cell_type": "code",
   "id": "3f0f7244-f981-4d15-8c0e-ad2677c151ce",
   "metadata": {
    "language": "sql",
    "name": "cell16"
   },
   "outputs": [],
   "source": "-- * Фільтруйте записи:\n--   * trip_distance > 0\n--   * total_amount > 0\n--   * passenger_count між 1 та 6\n-- * Додайте колонку trip_category:\n--   * Short (до 2 км), Medium (2–10 км), Long (>10 км)\n-- * Додайте колонку pickup_hour: годину з pickup_datetime\n-- * Створіть агреговану таблицю з підрахунком по зонах\n\nCREATE TABLE green_enriched_preprocessed AS\nSELECT\n    *,\n    CASE \n        WHEN trip_distance < 2 \n            THEN 'Short'\n        WHEN trip_distance >= 2 AND trip_distance <= 10\n            THEN 'Medium'\n        ELSE\n            'Long'\n    END as trip_category,\n    EXTRACT(HOUR from lpep_pickup_datetime) as pickup_hour\nFROM green_enriched\nWHERE\n    trip_distance > 0\n    AND total_amount > 0\n    AND passenger_count BETWEEN 1 AND 6;\n\nCREATE TABLE yellow_enriched_preprocessed AS\nSELECT\n    *,\n    CASE \n        WHEN trip_distance < 2 \n            THEN 'Short'\n        WHEN trip_distance >= 2 AND trip_distance <= 10\n            THEN 'Medium'\n        ELSE\n            'Long'\n    END as trip_category,\n    EXTRACT(HOUR from tpep_pickup_datetime) as pickup_hour\nFROM yellow_enriched\nWHERE\n    trip_distance > 0\n    AND total_amount > 0\n    AND passenger_count BETWEEN 1 AND 6;",
   "execution_count": null
  },
  {
   "cell_type": "code",
   "id": "bdfd55e5-a1ea-4fb0-96dd-873d3ccc3995",
   "metadata": {
    "language": "sql",
    "name": "cell17"
   },
   "outputs": [],
   "source": "SELECT TOP 5 * FROM green_enriched_preprocessed",
   "execution_count": null
  },
  {
   "cell_type": "code",
   "id": "dc1ba006-ba8c-4878-8b9e-8f92cf7fe0e6",
   "metadata": {
    "language": "sql",
    "name": "cell18",
    "codeCollapsed": false
   },
   "outputs": [],
   "source": "CREATE TABLE green_zone_aggregated AS\nSELECT\n    pickup_zone,\n    AVG(trip_distance) as avg_trip_distance,\n    AVG(total_amount) as avg_total_amount,\n    AVG(tip_amount) AS avg_tip_amount,\n    MAX(trip_distance) AS max_trip_distance,\n    MAX(tip_amount) AS max_tip_amount\nFROM green_enriched_preprocessed\nGROUP BY pickup_zone;\n\nCREATE TABLE yellow_zone_aggregated AS\nSELECT\n    pickup_zone,\n    AVG(trip_distance) as avg_trip_distance,\n    AVG(total_amount) as avg_total_amount,\n    AVG(tip_amount) AS avg_tip_amount,\n    MAX(trip_distance) AS max_trip_distance,\n    MAX(tip_amount) AS max_tip_amount\nFROM yellow_enriched_preprocessed\nGROUP BY pickup_zone;",
   "execution_count": null
  },
  {
   "cell_type": "code",
   "id": "9e9a76e2-ca95-4dbf-b953-a0c80525c77e",
   "metadata": {
    "language": "sql",
    "name": "cell19"
   },
   "outputs": [],
   "source": "SELECT TOP 5 * FROM green_zone_aggregated",
   "execution_count": null
  },
  {
   "cell_type": "code",
   "id": "da447768-e097-4610-bf32-ff6f6a48b18b",
   "metadata": {
    "language": "sql",
    "name": "cell20"
   },
   "outputs": [],
   "source": "-- * Видаліть кілька записів зі збагаченої таблиці (наприклад, green_enriched)\n-- * За допомогою Time Travel:\n--   * Перевірте стару версію таблиці (через AT або BEFORE)\n--   * Відновіть видалені записи у нову таблицю або у ту ж (через INSERT SELECT)\n\nSELECT COUNT(1) FROM green_enriched_preprocessed WHERE PULocationID = 226 AND DOLocationID = 82 AND pickup_hour = 0 AND trip_category = 'Short' -- random, not very big set for removing",
   "execution_count": null
  },
  {
   "cell_type": "code",
   "id": "246b3cb3-ba81-4313-96cc-535cef6f2f45",
   "metadata": {
    "language": "sql",
    "name": "cell21"
   },
   "outputs": [],
   "source": "DELETE FROM green_enriched_preprocessed WHERE PULocationID = 226 AND DOLocationID = 82 AND pickup_hour = 0 AND trip_category = 'Short'",
   "execution_count": null
  },
  {
   "cell_type": "code",
   "id": "7f52bbfc-3930-44d2-90f4-6a64431757d2",
   "metadata": {
    "language": "sql",
    "name": "cell22"
   },
   "outputs": [],
   "source": "SELECT COUNT(1) FROM green_enriched_preprocessed AT(OFFSET => -60*30);",
   "execution_count": null
  },
  {
   "cell_type": "code",
   "id": "7f505232-078a-47be-81e4-77e8cc10b4f5",
   "metadata": {
    "language": "sql",
    "name": "cell23"
   },
   "outputs": [],
   "source": "SELECT COUNT(1) FROM green_enriched_preprocessed;",
   "execution_count": null
  },
  {
   "cell_type": "code",
   "id": "d39d913d-57ab-4eb8-b48b-577b86b3b035",
   "metadata": {
    "language": "sql",
    "name": "cell24"
   },
   "outputs": [],
   "source": "-- Different count, so lets restore deleted data\nCREATE OR REPLACE TABLE green_enriched_preprocessed AS\n    SELECT * FROM green_enriched_preprocessed AT(OFFSET => -60*30);",
   "execution_count": null
  },
  {
   "cell_type": "code",
   "id": "87ef6b71-ac5e-4d01-af84-a3c41f9e9206",
   "metadata": {
    "language": "sql",
    "name": "cell25"
   },
   "outputs": [],
   "source": "SELECT COUNT(1) FROM green_enriched_preprocessed;",
   "execution_count": null
  },
  {
   "cell_type": "code",
   "id": "1ea4473f-845b-43e2-b182-19209b283d0c",
   "metadata": {
    "language": "sql",
    "name": "cell26"
   },
   "outputs": [],
   "source": "-- * Створіть Stream на таблиці yellow_enriched\n-- * Додайте нові записи вручну або через COPY INTO\n-- * Перевірте, що Stream відображає INSERT/UPDATE зміни\n-- * Створіть цільову таблицю yellow_changes_log для зберігання змін\n\nCREATE OR REPLACE STREAM yellow_changes_log \n    ON TABLE yellow_enriched;",
   "execution_count": null
  },
  {
   "cell_type": "code",
   "id": "3349bd3e-84bf-499e-a162-ddd7ad6c26d2",
   "metadata": {
    "language": "sql",
    "name": "cell27"
   },
   "outputs": [],
   "source": "DESCRIBE TABLE yellow_enriched;",
   "execution_count": null
  },
  {
   "cell_type": "code",
   "id": "7df27c36-30a7-446f-a148-3e7ec7eb0c74",
   "metadata": {
    "language": "sql",
    "name": "cell28"
   },
   "outputs": [],
   "source": "INSERT INTO yellow_enriched(VendorID) VALUES (11111), (22222);",
   "execution_count": null
  },
  {
   "cell_type": "code",
   "id": "007f53b1-cfb4-4d21-89d2-67fe17453dae",
   "metadata": {
    "language": "sql",
    "name": "cell30"
   },
   "outputs": [],
   "source": "UPDATE yellow_enriched SET VendorID = 55555 WHERE VendorID = 11111;",
   "execution_count": null
  },
  {
   "cell_type": "code",
   "id": "7581f556-f48a-4341-a1ff-3b6aaf2408cd",
   "metadata": {
    "language": "sql",
    "name": "cell29"
   },
   "outputs": [],
   "source": "SELECT * FROM yellow_changes_log; -- read it few times, to ensure the stream become empty",
   "execution_count": null
  },
  {
   "cell_type": "code",
   "id": "294573a4-78e6-4e58-aa4a-e40e8ee30b98",
   "metadata": {
    "language": "sql",
    "name": "cell31"
   },
   "outputs": [],
   "source": " -- (up) insert and update executed 2 times \n CREATE TABLE yellow_accumulate_log_table AS\n    SELECT * FROM yellow_changes_log; -- Створіть цільову таблицю для зберігання змін (назвав по іншому, бо зробив цей неймінг для стріму)\n",
   "execution_count": null
  },
  {
   "cell_type": "code",
   "id": "c45d6dbd-0819-4320-b751-7eb8063ea9ce",
   "metadata": {
    "language": "sql",
    "name": "cell33"
   },
   "outputs": [],
   "source": "SELECT * FROM yellow_accumulate_log_table;",
   "execution_count": null
  },
  {
   "cell_type": "code",
   "id": "e8fca956-d0a4-4196-b8b0-12c0b17c554c",
   "metadata": {
    "language": "sql",
    "name": "cell32"
   },
   "outputs": [],
   "source": "-- * Створіть Task, який щогодини:\n--   * Зчитує зміни зі Stream\n--   * Вставляє нові записи у yellow_changes_log\n-- * Використайте SCHEDULE = '1 HOUR' або WAREHOUSE = '...' для запуску\n-- * Зробіть окремий Task для агрегованої статистики:\n--   * Середня відстань\n--   * Середня ціна\n--   * Кількість поїздок\n--   * Зберігайте у таблицю zone_hourly_stats\n-- * Використайте SCHEDULE = '1 HOUR' або WAREHOUSE = '...' для запуску",
   "execution_count": null
  },
  {
   "cell_type": "code",
   "id": "b63bae39-c4c6-445f-8aa2-7270a897d3ce",
   "metadata": {
    "language": "sql",
    "name": "cell34"
   },
   "outputs": [],
   "source": "CREATE TASK history_stream_filling_task \n    SCHEDULE = '1 HOUR' AS\n        INSERT INTO yellow_accumulate_log_table\n            SELECT * FROM yellow_changes_log;",
   "execution_count": null
  },
  {
   "cell_type": "code",
   "id": "370fa056-5feb-40a8-be60-2b831ba82a8b",
   "metadata": {
    "language": "sql",
    "name": "cell35"
   },
   "outputs": [],
   "source": "CREATE TABLE zone_hourly_stats AS\nSELECT TOP 1\n    GETDATE() as ts,\n    pickup_hour,\n    COUNT(1) AS total_trips,\n    AVG(trip_distance) AS avg_tip_distance,\n    AVG(total_amount) AS avg_total_amount\nFROM yellow_enriched_preprocessed\nWHERE pickup_hour IS NOT NULL\nGROUP BY pickup_hour\n",
   "execution_count": null
  },
  {
   "cell_type": "code",
   "id": "0c9cf8fe-0021-4f29-ab19-f05fffea6ead",
   "metadata": {
    "language": "sql",
    "name": "cell37"
   },
   "outputs": [],
   "source": "TRUNCATE TABLE zone_hourly_stats; -- clear before task creation\nDESCRIBE TABLE zone_hourly_stats;",
   "execution_count": null
  },
  {
   "cell_type": "code",
   "id": "db1f9d57-8200-43a0-b3f5-0524fca1a528",
   "metadata": {
    "language": "sql",
    "name": "cell36"
   },
   "outputs": [],
   "source": "CREATE TASK zone_hourly_stats_task \n    SCHEDULE = '1 HOUR' AS\n    INSERT INTO zone_hourly_stats(ts, pickup_hour, total_trips, avg_tip_distance, avg_total_amount)\n        SELECT\n            GETDATE() as ts,\n            pickup_hour,\n            COUNT(1) AS total_trips,\n            AVG(trip_distance) AS avg_tip_distance,\n            AVG(total_amount) AS avg_total_amount\n        FROM yellow_enriched_preprocessed\n        WHERE pickup_hour IS NOT NULL\n        GROUP BY pickup_hour;",
   "execution_count": null
  },
  {
   "cell_type": "code",
   "id": "932e0df1-2de0-4fbe-9c9b-eefe2b4d2142",
   "metadata": {
    "language": "sql",
    "name": "cell38"
   },
   "outputs": [],
   "source": "EXECUTE TASK zone_hourly_stats_task; -- check if task work",
   "execution_count": null
  },
  {
   "cell_type": "code",
   "id": "96cf5012-98d4-4f37-a8b1-9062b1423559",
   "metadata": {
    "language": "sql",
    "name": "cell39"
   },
   "outputs": [],
   "source": "SELECT * FROM zone_hourly_stats;",
   "execution_count": null
  },
  {
   "cell_type": "code",
   "id": "e7cb9a01-f6af-4d08-b94f-1e4a8ad4b6f0",
   "metadata": {
    "language": "python",
    "name": "cell40"
   },
   "outputs": [],
   "source": "\n# * Об’єднайте yellow_enriched та green_enriched у таблицю all_trips\n# * Створіть Stored Procedure:\n#   * Перевірка на дублікати перед вставкою\n#   * Запис результату в лог-таблицю\n# * Налаштуйте Zero-Copy Cloning бази для створення середовища taxi_dev\nfrom snowflake.snowpark.context import get_active_session\n\nsession = get_active_session()\nyellow_enriched_columns = set(session.sql(\"SELECT TOP 1 * FROM yellow_enriched;\").columns)\ngreen_enriched_columns = set(session.sql(\"SELECT TOP 1 * FROM green_enriched;\").columns)\nprint(f\"Yellow: {yellow_enriched_columns}\")\nprint(f\"Green: {green_enriched_columns}\")\nprint(yellow_enriched_columns ^ green_enriched_columns)",
   "execution_count": null
  },
  {
   "cell_type": "code",
   "id": "a73cd9a4-25ac-436b-a4a1-85f9c46ee6bc",
   "metadata": {
    "language": "sql",
    "name": "cell41"
   },
   "outputs": [],
   "source": "CREATE TABLE all_trips AS (\nSELECT\n    PICKUP_ZONE,\n    PASSENGER_COUNT,\n    CONGESTION_SURCHARGE,\n    TOLLS_AMOUNT,\n    TIP_AMOUNT,\n    MTA_TAX,\n    AIRPORT_FEE,\n    TPEP_DROPOFF_DATETIME AS DROPOFF_DATETIME,\n    IMPROVEMENT_SURCHARGE,\n    DOLOCATIONID,\n    TPEP_PICKUP_DATETIME AS PICKUP_DATETIME, \n    VENDORID,\n    STORE_AND_FWD_FLAG,\n    EXTRA,\n    FARE_AMOUNT,\n    TOTAL_AMOUNT,\n    PAYMENT_TYPE,\n    TRIP_DISTANCE,\n    DROPOFF_ZONE,\n    RATECODEID,\n    PULOCATIONID,\n    'YELLOW' AS taxi_color\nFROM yellow_enriched\n    \nUNION ALL\n\nSELECT \n    PICKUP_ZONE,\n    PASSENGER_COUNT,\n    CONGESTION_SURCHARGE,\n    TOLLS_AMOUNT,\n    TIP_AMOUNT,\n    MTA_TAX,\n    NULL AS AIRPORT_FEE,\n    LPEP_DROPOFF_DATETIME AS DROPOFF_DATETIME,\n    IMPROVEMENT_SURCHARGE,\n    DOLOCATIONID,\n    LPEP_PICKUP_DATETIME AS PICKUP_DATETIME, \n    VENDORID,\n    STORE_AND_FWD_FLAG,\n    EXTRA,\n    FARE_AMOUNT,\n    TOTAL_AMOUNT,\n    PAYMENT_TYPE,\n    TRIP_DISTANCE,\n    DROPOFF_ZONE,\n    RATECODEID,\n    PULOCATIONID,\n    'GREEN' AS taxi_color\nFROM\n    green_enriched\n)",
   "execution_count": null
  },
  {
   "cell_type": "code",
   "id": "6624702b-f5c9-4070-aabc-0f752f54c03d",
   "metadata": {
    "language": "sql",
    "name": "cell42"
   },
   "outputs": [],
   "source": "DESCRIBE TABLE all_trips;",
   "execution_count": null
  },
  {
   "cell_type": "code",
   "id": "0a71ee89-eff8-4369-a7bf-ce2694869ea3",
   "metadata": {
    "language": "sql",
    "name": "cell43"
   },
   "outputs": [],
   "source": "CREATE OR REPLACE PROCEDURE unduplicated_insert_sp(\n      PICKUP_ZONE           VARCHAR,\n      PASSENGER_COUNT       NUMBER,\n      CONGESTION_SURCHARGE  FLOAT,\n      TOLLS_AMOUNT          FLOAT,\n      TIP_AMOUNT            FLOAT,\n      MTA_TAX               FLOAT,\n      AIRPORT_FEE           FLOAT,\n      DROPOFF_DATETIME      TIMESTAMP_NTZ,\n      IMPROVEMENT_SURCHARGE FLOAT,\n      DOLOCATIONID          NUMBER,\n      PICKUP_DATETIME       TIMESTAMP_NTZ,\n      VENDORID              NUMBER,\n      STORE_AND_FWD_FLAG    VARCHAR,\n      EXTRA                 FLOAT,\n      FARE_AMOUNT           FLOAT,\n      TOTAL_AMOUNT          FLOAT,\n      PAYMENT_TYPE          NUMBER,\n      TRIP_DISTANCE         FLOAT,\n      DROPOFF_ZONE          VARCHAR,\n      RATECODEID            NUMBER,\n      PULOCATIONID          NUMBER,\n      TAXI_COLOR            VARCHAR\n)\nRETURNS STRING\nLANGUAGE SQL\nAS\n$$\nDECLARE\n        DUPLICATE_EXCEPTION EXCEPTION (-20002, 'HERE IS DUPLICATE!.');\n        cnt NUMBER;\nBEGIN\n        SELECT COUNT(1) INTO :cnt\n        FROM all_trips t\n        WHERE t.PICKUP_ZONE           = :PICKUP_ZONE\n          AND t.PASSENGER_COUNT       = :PASSENGER_COUNT\n          AND t.CONGESTION_SURCHARGE  = :CONGESTION_SURCHARGE\n          AND t.TOLLS_AMOUNT          = :TOLLS_AMOUNT\n          AND t.TIP_AMOUNT            = :TIP_AMOUNT\n          AND t.MTA_TAX               = :MTA_TAX\n          AND t.AIRPORT_FEE           = :AIRPORT_FEE\n          AND t.DROPOFF_DATETIME      = :DROPOFF_DATETIME\n          AND t.IMPROVEMENT_SURCHARGE = :IMPROVEMENT_SURCHARGE\n          AND t.DOLOCATIONID          = :DOLOCATIONID\n          AND t.PICKUP_DATETIME       = :PICKUP_DATETIME\n          AND t.VENDORID              = :VENDORID\n          AND t.STORE_AND_FWD_FLAG    = :STORE_AND_FWD_FLAG\n          AND t.EXTRA                 = :EXTRA\n          AND t.FARE_AMOUNT           = :FARE_AMOUNT\n          AND t.TOTAL_AMOUNT          = :TOTAL_AMOUNT\n          AND t.PAYMENT_TYPE          = :PAYMENT_TYPE\n          AND t.TRIP_DISTANCE         = :TRIP_DISTANCE\n          AND t.DROPOFF_ZONE          = :DROPOFF_ZONE\n          AND t.RATECODEID            = :RATECODEID\n          AND t.PULOCATIONID          = :PULOCATIONID\n          AND t.TAXI_COLOR            = :TAXI_COLOR;\n    IF (cnt = 0)\n    THEN\n        INSERT INTO all_trips (\n            PICKUP_ZONE, PASSENGER_COUNT, CONGESTION_SURCHARGE, TOLLS_AMOUNT,\n            TIP_AMOUNT, MTA_TAX, AIRPORT_FEE, DROPOFF_DATETIME, IMPROVEMENT_SURCHARGE,\n            DOLOCATIONID, PICKUP_DATETIME, VENDORID, STORE_AND_FWD_FLAG, EXTRA,\n            FARE_AMOUNT, TOTAL_AMOUNT, PAYMENT_TYPE, TRIP_DISTANCE, DROPOFF_ZONE,\n            RATECODEID, PULOCATIONID, TAXI_COLOR\n        )\n        VALUES (\n            :PICKUP_ZONE, :PASSENGER_COUNT, :CONGESTION_SURCHARGE, :TOLLS_AMOUNT,\n            :TIP_AMOUNT, :MTA_TAX, :AIRPORT_FEE, :DROPOFF_DATETIME, :IMPROVEMENT_SURCHARGE,\n            :DOLOCATIONID, :PICKUP_DATETIME, :VENDORID, :STORE_AND_FWD_FLAG, :EXTRA,\n            :FARE_AMOUNT, :TOTAL_AMOUNT, :PAYMENT_TYPE, :TRIP_DISTANCE, :DROPOFF_ZONE,\n            :RATECODEID, :PULOCATIONID, :TAXI_COLOR\n        );\n    ELSE\n        RAISE DUPLICATE_EXCEPTION;\n    END IF;\n\n    RETURN 'INSERTED';\nEND;\n$$;",
   "execution_count": null
  },
  {
   "cell_type": "code",
   "id": "d960a3c3-4b89-4568-9f0e-bb9fce1c9677",
   "metadata": {
    "language": "sql",
    "name": "cell44"
   },
   "outputs": [],
   "source": "CALL unduplicated_insert_sp(\n    'Midtown',            -- PICKUP_ZONE\n    2,                    -- PASSENGER_COUNT\n    0.0,                  -- CONGESTION_SURCHARGE\n    5.0,                  -- TOLLS_AMOUNT\n    3.0,                  -- TIP_AMOUNT\n    0.5,                  -- MTA_TAX\n    1,                    -- AIRPORT_FEE\n    '2025-08-16 14:30:00',-- DROPOFF_DATETIME\n    0.3,                  -- IMPROVEMENT_SURCHARGE\n    234,                  -- DOLOCATIONID\n    '2025-08-16 14:00:00',-- PICKUP_DATETIME\n    1,                    -- VENDORID\n    'N',                  -- STORE_AND_FWD_FLAG\n    0.0,                  -- EXTRA\n    25.0,                 -- FARE_AMOUNT\n    33.8,                 -- TOTAL_AMOUNT\n    1,                    -- PAYMENT_TYPE\n    3.5,                  -- TRIP_DISTANCE\n    'Downtown',           -- DROPOFF_ZONE\n    1,                    -- RATECODEID\n    123,                  -- PULOCATIONID\n    'GREEN'               -- TAXI_COLOR\n);\n",
   "execution_count": null
  },
  {
   "cell_type": "code",
   "id": "dc72479b-6c2c-4f8b-abe9-9372156a1b92",
   "metadata": {
    "language": "sql",
    "name": "cell45"
   },
   "outputs": [],
   "source": "CALL unduplicated_insert_sp(\n    'Midtown',            -- PICKUP_ZONE\n    2,                    -- PASSENGER_COUNT\n    0.0,                  -- CONGESTION_SURCHARGE\n    5.0,                  -- TOLLS_AMOUNT\n    3.0,                  -- TIP_AMOUNT\n    0.5,                  -- MTA_TAX\n    1,                    -- AIRPORT_FEE\n    '2025-08-16 14:30:00',-- DROPOFF_DATETIME\n    0.3,                  -- IMPROVEMENT_SURCHARGE\n    234,                  -- DOLOCATIONID\n    '2025-08-16 14:00:00',-- PICKUP_DATETIME\n    1,                    -- VENDORID\n    'N',                  -- STORE_AND_FWD_FLAG\n    0.0,                  -- EXTRA\n    25.0,                 -- FARE_AMOUNT\n    33.8,                 -- TOTAL_AMOUNT\n    1,                    -- PAYMENT_TYPE\n    3.5,                  -- TRIP_DISTANCE\n    'Downtown',           -- DROPOFF_ZONE\n    1,                    -- RATECODEID\n    123,                  -- PULOCATIONID\n    'GREEN'               -- TAXI_COLOR\n);\n",
   "execution_count": null
  },
  {
   "cell_type": "code",
   "id": "54a8ee52-745f-49da-9f60-32feb39a96fe",
   "metadata": {
    "language": "sql",
    "name": "cell46"
   },
   "outputs": [],
   "source": "CREATE DATABASE LAVRENIUK_TAXI_DEV CLONE LAVRENIUK_HW3;\n",
   "execution_count": null
  }
 ]
}