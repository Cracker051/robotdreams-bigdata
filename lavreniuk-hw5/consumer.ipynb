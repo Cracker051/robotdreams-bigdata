{
 "cells": [
  {
   "cell_type": "code",
   "execution_count": 1,
   "id": "a1864588",
   "metadata": {},
   "outputs": [],
   "source": [
    "#  ЧАСТИНА 2: Обробка в Apache Spark (Structured Streaming)\n",
    "\n",
    "# ✅ 1. Зчитування з Kafka\n",
    "\n",
    "# * Використовуйте Spark Structured Streaming для підключення до локального Kafka сluster:\n",
    "#   * Читання з двох Kafka-топіків: transactions та user_activity.\n",
    "\n",
    "# ✅ 2. Обробка транзакцій\n",
    "# * Перетворіть дані з Kafka в DataFrame з колонками (transaction_id, user_id, amount, merchant, timestamp, is_fraud).\n",
    "# * Встановіть правильний тип поля timestamp з cast або to_timestamp.\n",
    "\n",
    "# ✅ 3. Аналіз user_activity\n",
    "\n",
    "# * Зчитуйте топік user_activity аналогічно.\n",
    "# * Проведіть базову класифікацію по event_type (click, add_to_cart, purchase) і побудуйте кількість подій по user_id у певний часовий період (10 хвилин).\n",
    "# * Використовуйте sliding window aggregation.\n",
    "\n",
    "# ✅ 4. Fraud Detection\n",
    "\n",
    "# * Визначіть просту бізнес-логіку шахрайства:\n",
    "# * транзакції понад $1000\n",
    "# * merchant = “Amazon”\n",
    "# * is_fraud == true\n",
    "# * Запишіть результати локально.\n",
    "\n",
    "# ✅ 5. Join потоків\n",
    "\n",
    "# * Реалізуйте join між transactions_df та user_activity_df по user_id (використовуйте результат 2 та 3 кроків)\n",
    "# * Застосуйте time-range join (joinExpr має враховувати timestamp ±5 хвилин).\n",
    "# * Не забувайте використати watermark-и на обох потоках.\n",
    "# * Запишіть результат локально.\n",
    "\n",
    "# ✅ 6. (Опційно) Дедуплікація подій\n",
    "\n",
    "# Для потоку user_activity використайте dropDuplicates([\"event_id\"]), щоб уникнути повторів."
   ]
  },
  {
   "cell_type": "code",
   "execution_count": 2,
   "id": "0ced1f6e",
   "metadata": {},
   "outputs": [],
   "source": [
    "from pyspark.sql import SparkSession\n",
    "\n",
    "\n",
    "KAFKA_BOOTSTRAP_SERVERS = \"127.0.0.1:9092\"\n",
    "TRANSACTION_TOPIC_NAME = \"transactions\"\n",
    "ACTIVITY_TOPIC_NAME = \"user-activity\"\n",
    "\n"
   ]
  },
  {
   "cell_type": "code",
   "execution_count": 3,
   "id": "11c264e0",
   "metadata": {},
   "outputs": [
    {
     "name": "stderr",
     "output_type": "stream",
     "text": [
      "WARNING: Using incubator modules: jdk.incubator.vector\n",
      "Using Spark's default log4j profile: org/apache/spark/log4j2-defaults.properties\n",
      "25/09/06 18:23:33 WARN Utils: Your hostname, Air-M4.local, resolves to a loopback address: 127.0.0.1; using 192.168.0.46 instead (on interface en0)\n",
      "25/09/06 18:23:33 WARN Utils: Set SPARK_LOCAL_IP if you need to bind to another address\n",
      "https://packages.confluent.io/maven/ added as a remote repository with the name: repo-1\n",
      ":: loading settings :: url = jar:file:/Users/tenpenny/Projects/rd/lavreniuk-hw5/.venv/lib/python3.11/site-packages/pyspark/jars/ivy-2.5.3.jar!/org/apache/ivy/core/settings/ivysettings.xml\n",
      "Ivy Default Cache set to: /Users/tenpenny/.ivy2.5.2/cache\n",
      "The jars for the packages stored in: /Users/tenpenny/.ivy2.5.2/jars\n",
      "org.apache.spark#spark-sql-kafka-0-10_2.13 added as a dependency\n",
      "org.apache.spark#spark-avro_2.13 added as a dependency\n",
      "io.confluent#kafka-schema-registry-client added as a dependency\n",
      "io.confluent#kafka-avro-serializer added as a dependency\n",
      ":: resolving dependencies :: org.apache.spark#spark-submit-parent-c24332cb-440c-4a04-836d-e04c697071fe;1.0\n",
      "\tconfs: [default]\n",
      "\tfound org.apache.spark#spark-sql-kafka-0-10_2.13;4.0.0 in central\n",
      "\tfound org.apache.spark#spark-token-provider-kafka-0-10_2.13;4.0.0 in central\n",
      "\tfound org.apache.kafka#kafka-clients;3.9.0 in central\n",
      "\tfound org.lz4#lz4-java;1.8.0 in central\n",
      "\tfound org.xerial.snappy#snappy-java;1.1.10.7 in central\n",
      "\tfound org.slf4j#slf4j-api;2.0.16 in central\n",
      "\tfound org.apache.hadoop#hadoop-client-runtime;3.4.1 in central\n",
      "\tfound org.apache.hadoop#hadoop-client-api;3.4.1 in central\n",
      "\tfound com.google.code.findbugs#jsr305;3.0.0 in central\n",
      "\tfound org.scala-lang.modules#scala-parallel-collections_2.13;1.2.0 in central\n",
      "\tfound org.apache.commons#commons-pool2;2.12.0 in central\n",
      "\tfound org.apache.spark#spark-avro_2.13;4.0.0 in central\n",
      "\tfound org.tukaani#xz;1.10 in central\n",
      "\tfound io.confluent#kafka-schema-registry-client;7.5.0 in repo-1\n",
      "\tfound org.yaml#snakeyaml;2.0 in central\n",
      "\tfound org.apache.avro#avro;1.11.0 in central\n",
      "\tfound com.fasterxml.jackson.core#jackson-core;2.14.2 in central\n",
      "\tfound com.fasterxml.jackson.core#jackson-databind;2.14.2 in central\n",
      "\tfound com.fasterxml.jackson.core#jackson-annotations;2.14.2 in central\n",
      "\tfound org.apache.commons#commons-compress;1.21 in central\n",
      "\tfound io.swagger.core.v3#swagger-annotations;2.1.10 in central\n",
      "\tfound com.google.guava#guava;32.0.1-jre in central\n",
      "\tfound com.google.guava#failureaccess;1.0.1 in central\n",
      "\tfound com.google.guava#listenablefuture;9999.0-empty-to-avoid-conflict-with-guava in central\n",
      "\tfound com.google.code.findbugs#jsr305;3.0.2 in central\n",
      "\tfound org.checkerframework#checker-qual;3.33.0 in central\n",
      "\tfound com.google.errorprone#error_prone_annotations;2.18.0 in central\n",
      "\tfound com.google.j2objc#j2objc-annotations;2.8 in central\n",
      "\tfound io.confluent#common-utils;7.5.0 in repo-1\n",
      "\tfound io.confluent#kafka-avro-serializer;7.4.1 in repo-1\n",
      "\tfound io.confluent#kafka-schema-serializer;7.4.1 in repo-1\n",
      "\tfound io.confluent#logredactor;1.0.12 in central\n",
      "\tfound com.google.re2j#re2j;1.6 in central\n",
      "\tfound io.confluent#logredactor-metrics;1.0.12 in central\n",
      "\tfound com.eclipsesource.minimal-json#minimal-json;0.9.5 in central\n",
      ":: resolution report :: resolve 303ms :: artifacts dl 6ms\n",
      "\t:: modules in use:\n",
      "\tcom.eclipsesource.minimal-json#minimal-json;0.9.5 from central in [default]\n",
      "\tcom.fasterxml.jackson.core#jackson-annotations;2.14.2 from central in [default]\n",
      "\tcom.fasterxml.jackson.core#jackson-core;2.14.2 from central in [default]\n",
      "\tcom.fasterxml.jackson.core#jackson-databind;2.14.2 from central in [default]\n",
      "\tcom.google.code.findbugs#jsr305;3.0.2 from central in [default]\n",
      "\tcom.google.errorprone#error_prone_annotations;2.18.0 from central in [default]\n",
      "\tcom.google.guava#failureaccess;1.0.1 from central in [default]\n",
      "\tcom.google.guava#guava;32.0.1-jre from central in [default]\n",
      "\tcom.google.guava#listenablefuture;9999.0-empty-to-avoid-conflict-with-guava from central in [default]\n",
      "\tcom.google.j2objc#j2objc-annotations;2.8 from central in [default]\n",
      "\tcom.google.re2j#re2j;1.6 from central in [default]\n",
      "\tio.confluent#common-utils;7.5.0 from repo-1 in [default]\n",
      "\tio.confluent#kafka-avro-serializer;7.4.1 from repo-1 in [default]\n",
      "\tio.confluent#kafka-schema-registry-client;7.5.0 from repo-1 in [default]\n",
      "\tio.confluent#kafka-schema-serializer;7.4.1 from repo-1 in [default]\n",
      "\tio.confluent#logredactor;1.0.12 from central in [default]\n",
      "\tio.confluent#logredactor-metrics;1.0.12 from central in [default]\n",
      "\tio.swagger.core.v3#swagger-annotations;2.1.10 from central in [default]\n",
      "\torg.apache.avro#avro;1.11.0 from central in [default]\n",
      "\torg.apache.commons#commons-compress;1.21 from central in [default]\n",
      "\torg.apache.commons#commons-pool2;2.12.0 from central in [default]\n",
      "\torg.apache.hadoop#hadoop-client-api;3.4.1 from central in [default]\n",
      "\torg.apache.hadoop#hadoop-client-runtime;3.4.1 from central in [default]\n",
      "\torg.apache.kafka#kafka-clients;3.9.0 from central in [default]\n",
      "\torg.apache.spark#spark-avro_2.13;4.0.0 from central in [default]\n",
      "\torg.apache.spark#spark-sql-kafka-0-10_2.13;4.0.0 from central in [default]\n",
      "\torg.apache.spark#spark-token-provider-kafka-0-10_2.13;4.0.0 from central in [default]\n",
      "\torg.checkerframework#checker-qual;3.33.0 from central in [default]\n",
      "\torg.lz4#lz4-java;1.8.0 from central in [default]\n",
      "\torg.scala-lang.modules#scala-parallel-collections_2.13;1.2.0 from central in [default]\n",
      "\torg.slf4j#slf4j-api;2.0.16 from central in [default]\n",
      "\torg.tukaani#xz;1.10 from central in [default]\n",
      "\torg.xerial.snappy#snappy-java;1.1.10.7 from central in [default]\n",
      "\torg.yaml#snakeyaml;2.0 from central in [default]\n",
      "\t:: evicted modules:\n",
      "\tcom.google.code.findbugs#jsr305;3.0.0 by [com.google.code.findbugs#jsr305;3.0.2] in [default]\n",
      "\torg.slf4j#slf4j-api;1.7.36 by [org.slf4j#slf4j-api;2.0.16] in [default]\n",
      "\tio.confluent#kafka-schema-registry-client;7.4.1 by [io.confluent#kafka-schema-registry-client;7.5.0] in [default]\n",
      "\tio.confluent#common-utils;7.4.1 by [io.confluent#common-utils;7.5.0] in [default]\n",
      "\tcom.google.guava#guava;30.1.1-jre by [com.google.guava#guava;32.0.1-jre] in [default]\n",
      "\t---------------------------------------------------------------------\n",
      "\t|                  |            modules            ||   artifacts   |\n",
      "\t|       conf       | number| search|dwnlded|evicted|| number|dwnlded|\n",
      "\t---------------------------------------------------------------------\n",
      "\t|      default     |   39  |   0   |   0   |   5   ||   34  |   0   |\n",
      "\t---------------------------------------------------------------------\n",
      ":: retrieving :: org.apache.spark#spark-submit-parent-c24332cb-440c-4a04-836d-e04c697071fe\n",
      "\tconfs: [default]\n",
      "\t0 artifacts copied, 34 already retrieved (0kB/5ms)\n",
      "25/09/06 18:23:34 WARN NativeCodeLoader: Unable to load native-hadoop library for your platform... using builtin-java classes where applicable\n",
      "Using Spark's default log4j profile: org/apache/spark/log4j2-defaults.properties\n",
      "Setting default log level to \"WARN\".\n",
      "To adjust logging level use sc.setLogLevel(newLevel). For SparkR, use setLogLevel(newLevel).\n"
     ]
    }
   ],
   "source": [
    "# * Використовуйте Spark Structured Streaming для підключення до локального Kafka сluster:\n",
    "#   * Читання з двох Kafka-топіків: transactions та user_activity.\n",
    "\n",
    "spark = SparkSession.builder \\\n",
    "    .appName(\"lavreniuk-hw5\") \\\n",
    "    .config(\"spark.jars.packages\", \",\".join((\n",
    "        \"org.apache.spark:spark-sql-kafka-0-10_2.13:4.0.0\",\n",
    "        \"org.apache.spark:spark-avro_2.13:4.0.0\",\n",
    "        \"io.confluent:kafka-schema-registry-client:7.5.0\",\n",
    "        \"io.confluent:kafka-avro-serializer:7.4.1\",\n",
    "    ))) \\\n",
    "    .config(\"spark.jars.repositories\", \"https://packages.confluent.io/maven/\") \\\n",
    "    .getOrCreate()\n",
    "\n",
    "# Because of Mac Silicon use additional config for package below\n",
    "\n",
    "spark.sparkContext.setLogLevel(\"WARN\")\n"
   ]
  },
  {
   "cell_type": "code",
   "execution_count": 4,
   "id": "50485177",
   "metadata": {},
   "outputs": [
    {
     "name": "stderr",
     "output_type": "stream",
     "text": [
      "25/09/06 18:23:51 WARN ResolveWriteToStream: spark.sql.adaptive.enabled is not supported in streaming DataFrames/Datasets and will be disabled.\n"
     ]
    }
   ],
   "source": [
    "# * Перетворіть дані з Kafka в DataFrame з колонками (transaction_id, user_id, amount, merchant, timestamp, is_fraud).\n",
    "# * Встановіть правильний тип поля timestamp з cast або to_timestamp.\n",
    "\n",
    "\n",
    "from pyspark.sql.functions import col, from_json\n",
    "from pyspark.sql.types import StructType, StructField, StringType, FloatType, BooleanType, TimestampType\n",
    "from pyspark.sql.avro.functions import from_avro\n",
    "\n",
    "# Виникає помилка з Avro через сумісність (пробував різні методи, додав скріншоти. Перейшов на json щоб уникнути проблеми. В такому випадку переведення у timestamp вручну не потрібне, оскільки є схема)\n",
    "transactions_schema = StructType([\n",
    "    StructField(\"transaction_id\", StringType()),\n",
    "    StructField(\"user_id\", StringType()),\n",
    "    StructField(\"amount\", FloatType()),\n",
    "    StructField(\"merchant\", StringType()),\n",
    "    StructField(\"currency\", StringType()),\n",
    "    StructField(\"timestamp\", TimestampType()),\n",
    "    StructField(\"is_fraud\", BooleanType())\n",
    "])\n",
    "\n",
    "df_transaction = spark.readStream \\\n",
    "    .format(\"kafka\") \\\n",
    "    .option(\"kafka.bootstrap.servers\", KAFKA_BOOTSTRAP_SERVERS) \\\n",
    "    .option(\"subscribe\", TRANSACTION_TOPIC_NAME) \\\n",
    "    .load()\n",
    "\n",
    "string_transaction_df = df_transaction.selectExpr(\"CAST(value AS STRING) as message\")\n",
    "\n",
    "parsed_transaction_df = string_transaction_df.select(from_json(col(\"message\"), transactions_schema).alias(\"data\")).select(\"data.*\")\n",
    "\n",
    "parquet_transaction = parsed_transaction_df.writeStream \\\n",
    "    .outputMode(\"append\") \\\n",
    "    .format(\"parquet\") \\\n",
    "    .option(\"path\", \"data/transaction\") \\\n",
    "    .option(\"checkpointLocation\", \"checkpoints/transaction\") \\\n",
    "    .start()\n"
   ]
  },
  {
   "cell_type": "code",
   "execution_count": 5,
   "id": "bf76b064",
   "metadata": {},
   "outputs": [
    {
     "name": "stdout",
     "output_type": "stream",
     "text": [
      "root\n",
      " |-- transaction_id: string (nullable = true)\n",
      " |-- user_id: string (nullable = true)\n",
      " |-- amount: float (nullable = true)\n",
      " |-- merchant: string (nullable = true)\n",
      " |-- currency: string (nullable = true)\n",
      " |-- timestamp: timestamp (nullable = true)\n",
      " |-- is_fraud: boolean (nullable = true)\n",
      "\n"
     ]
    },
    {
     "name": "stderr",
     "output_type": "stream",
     "text": [
      "                                                                                \r"
     ]
    }
   ],
   "source": [
    "parsed_transaction_df.printSchema() # Приводити типи не потрібно, вони вже існують"
   ]
  },
  {
   "cell_type": "code",
   "execution_count": 6,
   "id": "c86dfa86",
   "metadata": {},
   "outputs": [
    {
     "name": "stderr",
     "output_type": "stream",
     "text": [
      "25/09/06 18:24:18 WARN ResolveWriteToStream: spark.sql.adaptive.enabled is not supported in streaming DataFrames/Datasets and will be disabled.\n"
     ]
    }
   ],
   "source": [
    "# * Зчитуйте топік user_activity аналогічно.\n",
    "# * Проведіть базову класифікацію по event_type (click, add_to_cart, purchase) і побудуйте кількість подій по user_id у певний часовий період (10 хвилин).\n",
    "# * Використовуйте sliding window aggregation.\n",
    "\n",
    "activity_schema = StructType([\n",
    "    StructField(\"event_id\", StringType()),\n",
    "    StructField(\"user_id\", StringType()),\n",
    "    StructField(\"event_type\", StringType()),\n",
    "    StructField(\"device\", StringType()),\n",
    "    StructField(\"browser\", StringType()),\n",
    "    StructField(\"timestamp\", TimestampType())\n",
    "])\n",
    "\n",
    "df_activity = spark.readStream \\\n",
    "    .format(\"kafka\") \\\n",
    "    .option(\"kafka.bootstrap.servers\", KAFKA_BOOTSTRAP_SERVERS) \\\n",
    "    .option(\"subscribe\", ACTIVITY_TOPIC_NAME) \\\n",
    "    .load()\n",
    "\n",
    "string_activity_df = df_activity.selectExpr(\"CAST(value AS STRING) as message\")\n",
    "\n",
    "parsed_activity_df = string_activity_df.select(from_json(col(\"message\"), activity_schema).alias(\"data\")).select(\"data.*\")\n",
    "\n",
    "query_activity = parsed_activity_df.writeStream \\\n",
    "    .outputMode(\"append\") \\\n",
    "    .format(\"parquet\") \\\n",
    "    .option(\"path\", \"data/activity\") \\\n",
    "    .option(\"checkpointLocation\", \"checkpoints/activity\") \\\n",
    "    .start()"
   ]
  },
  {
   "cell_type": "code",
   "execution_count": null,
   "id": "16d2247a",
   "metadata": {},
   "outputs": [
    {
     "name": "stderr",
     "output_type": "stream",
     "text": [
      "25/09/06 18:25:05 WARN ResolveWriteToStream: Temporary checkpoint location created which is deleted normally when the query didn't fail: /private/var/folders/9p/qrvh0mgd1536kkkrlb27q41m0000gn/T/temporary-7e05d3e4-a9cb-409b-b4fc-040b6833d17e. If it's required to delete it under any circumstances, please set spark.sql.streaming.forceDeleteTempCheckpointLocation to true. Important to know deleting temp checkpoint folder is best effort.\n",
      "25/09/06 18:25:05 WARN ResolveWriteToStream: spark.sql.adaptive.enabled is not supported in streaming DataFrames/Datasets and will be disabled.\n",
      "25/09/06 18:25:05 WARN ResolveWriteToStream: spark.sql.adaptive.enabled is not supported in streaming DataFrames/Datasets and will be disabled.\n"
     ]
    },
    {
     "name": "stderr",
     "output_type": "stream",
     "text": [
      "                                                                                \r"
     ]
    },
    {
     "name": "stdout",
     "output_type": "stream",
     "text": [
      "-------------------------------------------\n",
      "Batch: 0\n",
      "-------------------------------------------\n",
      "+-------+----------+------+-----------+\n",
      "|user_id|event_type|window|event_count|\n",
      "+-------+----------+------+-----------+\n",
      "+-------+----------+------+-----------+\n",
      "\n"
     ]
    },
    {
     "name": "stderr",
     "output_type": "stream",
     "text": [
      "                                                                                \r"
     ]
    },
    {
     "name": "stdout",
     "output_type": "stream",
     "text": [
      "-------------------------------------------\n",
      "Batch: 1\n",
      "-------------------------------------------\n",
      "+------------------------------------+-----------+------------------------------------------+-----------+\n",
      "|user_id                             |event_type |window                                    |event_count|\n",
      "+------------------------------------+-----------+------------------------------------------+-----------+\n",
      "|7cb4ab7d-f3a9-4300-9926-4957005dcb50|add_to_cart|{2025-09-06 18:30:00, 2025-09-06 18:40:00}|1          |\n",
      "|7cb4ab7d-f3a9-4300-9926-4957005dcb50|add_to_cart|{2025-09-06 18:25:00, 2025-09-06 18:35:00}|1          |\n",
      "+------------------------------------+-----------+------------------------------------------+-----------+\n",
      "\n"
     ]
    },
    {
     "name": "stderr",
     "output_type": "stream",
     "text": [
      "                                                                                \r"
     ]
    },
    {
     "name": "stdout",
     "output_type": "stream",
     "text": [
      "-------------------------------------------\n",
      "Batch: 2\n",
      "-------------------------------------------\n",
      "+------------------------------------+----------+------------------------------------------+-----------+\n",
      "|user_id                             |event_type|window                                    |event_count|\n",
      "+------------------------------------+----------+------------------------------------------+-----------+\n",
      "|713efed3-59e9-4a39-a60d-88085554f63b|purchase  |{2025-09-06 18:20:00, 2025-09-06 18:30:00}|1          |\n",
      "|713efed3-59e9-4a39-a60d-88085554f63b|purchase  |{2025-09-06 18:25:00, 2025-09-06 18:35:00}|1          |\n",
      "+------------------------------------+----------+------------------------------------------+-----------+\n",
      "\n"
     ]
    },
    {
     "name": "stderr",
     "output_type": "stream",
     "text": [
      "                                                                                \r"
     ]
    },
    {
     "name": "stdout",
     "output_type": "stream",
     "text": [
      "-------------------------------------------\n",
      "Batch: 3\n",
      "-------------------------------------------\n",
      "+------------------------------------+----------+------------------------------------------+-----------+\n",
      "|user_id                             |event_type|window                                    |event_count|\n",
      "+------------------------------------+----------+------------------------------------------+-----------+\n",
      "|867bad30-a5ed-4601-b0fd-5341fae46d94|click     |{2025-09-06 18:20:00, 2025-09-06 18:30:00}|1          |\n",
      "|867bad30-a5ed-4601-b0fd-5341fae46d94|click     |{2025-09-06 18:25:00, 2025-09-06 18:35:00}|1          |\n",
      "+------------------------------------+----------+------------------------------------------+-----------+\n",
      "\n"
     ]
    },
    {
     "name": "stderr",
     "output_type": "stream",
     "text": [
      "                                                                                \r"
     ]
    },
    {
     "name": "stdout",
     "output_type": "stream",
     "text": [
      "-------------------------------------------\n",
      "Batch: 4\n",
      "-------------------------------------------\n",
      "+------------------------------------+----------+------------------------------------------+-----------+\n",
      "|user_id                             |event_type|window                                    |event_count|\n",
      "+------------------------------------+----------+------------------------------------------+-----------+\n",
      "|4121b838-f3f7-4e94-ba99-2bb46b0ee4db|click     |{2025-09-06 18:20:00, 2025-09-06 18:30:00}|1          |\n",
      "|4121b838-f3f7-4e94-ba99-2bb46b0ee4db|click     |{2025-09-06 18:25:00, 2025-09-06 18:35:00}|1          |\n",
      "+------------------------------------+----------+------------------------------------------+-----------+\n",
      "\n"
     ]
    },
    {
     "name": "stderr",
     "output_type": "stream",
     "text": [
      "                                                                                \r"
     ]
    },
    {
     "name": "stdout",
     "output_type": "stream",
     "text": [
      "-------------------------------------------\n",
      "Batch: 5\n",
      "-------------------------------------------\n",
      "+------------------------------------+----------+------------------------------------------+-----------+\n",
      "|user_id                             |event_type|window                                    |event_count|\n",
      "+------------------------------------+----------+------------------------------------------+-----------+\n",
      "|923356e0-69b6-4ea1-9c6b-4fec957b5e3e|purchase  |{2025-09-06 18:25:00, 2025-09-06 18:35:00}|1          |\n",
      "|923356e0-69b6-4ea1-9c6b-4fec957b5e3e|purchase  |{2025-09-06 18:20:00, 2025-09-06 18:30:00}|1          |\n",
      "+------------------------------------+----------+------------------------------------------+-----------+\n",
      "\n"
     ]
    },
    {
     "name": "stderr",
     "output_type": "stream",
     "text": [
      "                                                                                \r"
     ]
    },
    {
     "name": "stdout",
     "output_type": "stream",
     "text": [
      "-------------------------------------------\n",
      "Batch: 6\n",
      "-------------------------------------------\n",
      "+------------------------------------+----------+------------------------------------------+-----------+\n",
      "|user_id                             |event_type|window                                    |event_count|\n",
      "+------------------------------------+----------+------------------------------------------+-----------+\n",
      "|0e01e2e4-4f8f-479c-9644-a411dbd52f57|purchase  |{2025-09-06 18:25:00, 2025-09-06 18:35:00}|1          |\n",
      "|0e01e2e4-4f8f-479c-9644-a411dbd52f57|purchase  |{2025-09-06 18:20:00, 2025-09-06 18:30:00}|1          |\n",
      "+------------------------------------+----------+------------------------------------------+-----------+\n",
      "\n"
     ]
    },
    {
     "name": "stderr",
     "output_type": "stream",
     "text": [
      "                                                                                \r"
     ]
    },
    {
     "name": "stdout",
     "output_type": "stream",
     "text": [
      "-------------------------------------------\n",
      "Batch: 7\n",
      "-------------------------------------------\n",
      "+------------------------------------+----------+------------------------------------------+-----------+\n",
      "|user_id                             |event_type|window                                    |event_count|\n",
      "+------------------------------------+----------+------------------------------------------+-----------+\n",
      "|7153448e-9e34-463c-a647-fd83a605c626|purchase  |{2025-09-06 18:20:00, 2025-09-06 18:30:00}|1          |\n",
      "|7153448e-9e34-463c-a647-fd83a605c626|purchase  |{2025-09-06 18:25:00, 2025-09-06 18:35:00}|1          |\n",
      "+------------------------------------+----------+------------------------------------------+-----------+\n",
      "\n"
     ]
    },
    {
     "name": "stderr",
     "output_type": "stream",
     "text": [
      "                                                                                \r"
     ]
    },
    {
     "name": "stdout",
     "output_type": "stream",
     "text": [
      "-------------------------------------------\n",
      "Batch: 8\n",
      "-------------------------------------------\n",
      "+------------------------------------+----------+------------------------------------------+-----------+\n",
      "|user_id                             |event_type|window                                    |event_count|\n",
      "+------------------------------------+----------+------------------------------------------+-----------+\n",
      "|167f422b-d397-4ac9-90a8-3227eee87789|view      |{2025-09-06 18:25:00, 2025-09-06 18:35:00}|1          |\n",
      "|167f422b-d397-4ac9-90a8-3227eee87789|view      |{2025-09-06 18:30:00, 2025-09-06 18:40:00}|1          |\n",
      "+------------------------------------+----------+------------------------------------------+-----------+\n",
      "\n"
     ]
    },
    {
     "name": "stderr",
     "output_type": "stream",
     "text": [
      "                                                                                \r"
     ]
    },
    {
     "name": "stdout",
     "output_type": "stream",
     "text": [
      "-------------------------------------------\n",
      "Batch: 9\n",
      "-------------------------------------------\n",
      "+-------+----------+------+-----------+\n",
      "|user_id|event_type|window|event_count|\n",
      "+-------+----------+------+-----------+\n",
      "+-------+----------+------+-----------+\n",
      "\n"
     ]
    },
    {
     "name": "stderr",
     "output_type": "stream",
     "text": [
      "                                                                                \r"
     ]
    },
    {
     "name": "stdout",
     "output_type": "stream",
     "text": [
      "-------------------------------------------\n",
      "Batch: 10\n",
      "-------------------------------------------\n",
      "+------------------------------------+-----------+------------------------------------------+-----------+\n",
      "|user_id                             |event_type |window                                    |event_count|\n",
      "+------------------------------------+-----------+------------------------------------------+-----------+\n",
      "|d0e5b1ec-04cc-4ace-9609-a34e4e97a657|add_to_cart|{2025-09-06 18:20:00, 2025-09-06 18:30:00}|1          |\n",
      "|d0e5b1ec-04cc-4ace-9609-a34e4e97a657|add_to_cart|{2025-09-06 18:25:00, 2025-09-06 18:35:00}|1          |\n",
      "+------------------------------------+-----------+------------------------------------------+-----------+\n",
      "\n"
     ]
    },
    {
     "name": "stderr",
     "output_type": "stream",
     "text": [
      "                                                                                \r"
     ]
    },
    {
     "name": "stdout",
     "output_type": "stream",
     "text": [
      "-------------------------------------------\n",
      "Batch: 11\n",
      "-------------------------------------------\n",
      "+------------------------------------+-----------+------------------------------------------+-----------+\n",
      "|user_id                             |event_type |window                                    |event_count|\n",
      "+------------------------------------+-----------+------------------------------------------+-----------+\n",
      "|cc1e9350-32fe-46ea-aaad-b483f64b0c23|add_to_cart|{2025-09-06 18:30:00, 2025-09-06 18:40:00}|1          |\n",
      "|cc1e9350-32fe-46ea-aaad-b483f64b0c23|add_to_cart|{2025-09-06 18:25:00, 2025-09-06 18:35:00}|1          |\n",
      "+------------------------------------+-----------+------------------------------------------+-----------+\n",
      "\n"
     ]
    },
    {
     "name": "stderr",
     "output_type": "stream",
     "text": [
      "                                                                                \r"
     ]
    },
    {
     "name": "stdout",
     "output_type": "stream",
     "text": [
      "-------------------------------------------\n",
      "Batch: 12\n",
      "-------------------------------------------\n",
      "+-------+----------+------+-----------+\n",
      "|user_id|event_type|window|event_count|\n",
      "+-------+----------+------+-----------+\n",
      "+-------+----------+------+-----------+\n",
      "\n"
     ]
    },
    {
     "name": "stderr",
     "output_type": "stream",
     "text": [
      "                                                                                \r"
     ]
    },
    {
     "name": "stdout",
     "output_type": "stream",
     "text": [
      "-------------------------------------------\n",
      "Batch: 13\n",
      "-------------------------------------------\n",
      "+------------------------------------+----------+------------------------------------------+-----------+\n",
      "|user_id                             |event_type|window                                    |event_count|\n",
      "+------------------------------------+----------+------------------------------------------+-----------+\n",
      "|b92a7cf1-f355-4c5a-ac94-e539bb1c3baa|view      |{2025-09-06 18:15:00, 2025-09-06 18:25:00}|1          |\n",
      "|b92a7cf1-f355-4c5a-ac94-e539bb1c3baa|view      |{2025-09-06 18:20:00, 2025-09-06 18:30:00}|1          |\n",
      "+------------------------------------+----------+------------------------------------------+-----------+\n",
      "\n"
     ]
    },
    {
     "name": "stderr",
     "output_type": "stream",
     "text": [
      "                                                                                \r"
     ]
    },
    {
     "name": "stdout",
     "output_type": "stream",
     "text": [
      "-------------------------------------------\n",
      "Batch: 14\n",
      "-------------------------------------------\n",
      "+------------------------------------+-----------+------------------------------------------+-----------+\n",
      "|user_id                             |event_type |window                                    |event_count|\n",
      "+------------------------------------+-----------+------------------------------------------+-----------+\n",
      "|a7967808-b580-49c6-a183-0cbaafa67b03|add_to_cart|{2025-09-06 18:30:00, 2025-09-06 18:40:00}|1          |\n",
      "|a7967808-b580-49c6-a183-0cbaafa67b03|add_to_cart|{2025-09-06 18:25:00, 2025-09-06 18:35:00}|1          |\n",
      "+------------------------------------+-----------+------------------------------------------+-----------+\n",
      "\n"
     ]
    },
    {
     "name": "stderr",
     "output_type": "stream",
     "text": [
      "                                                                                \r"
     ]
    },
    {
     "name": "stdout",
     "output_type": "stream",
     "text": [
      "-------------------------------------------\n",
      "Batch: 15\n",
      "-------------------------------------------\n",
      "+-------+----------+------+-----------+\n",
      "|user_id|event_type|window|event_count|\n",
      "+-------+----------+------+-----------+\n",
      "+-------+----------+------+-----------+\n",
      "\n"
     ]
    },
    {
     "name": "stderr",
     "output_type": "stream",
     "text": [
      "                                                                                \r"
     ]
    },
    {
     "name": "stdout",
     "output_type": "stream",
     "text": [
      "-------------------------------------------\n",
      "Batch: 16\n",
      "-------------------------------------------\n",
      "+------------------------------------+-----------+------------------------------------------+-----------+\n",
      "|user_id                             |event_type |window                                    |event_count|\n",
      "+------------------------------------+-----------+------------------------------------------+-----------+\n",
      "|487cd075-e0e9-4c27-ba7b-9e065cf1503b|add_to_cart|{2025-09-06 18:25:00, 2025-09-06 18:35:00}|1          |\n",
      "|487cd075-e0e9-4c27-ba7b-9e065cf1503b|add_to_cart|{2025-09-06 18:30:00, 2025-09-06 18:40:00}|1          |\n",
      "+------------------------------------+-----------+------------------------------------------+-----------+\n",
      "\n"
     ]
    },
    {
     "name": "stderr",
     "output_type": "stream",
     "text": [
      "                                                                                \r"
     ]
    },
    {
     "name": "stdout",
     "output_type": "stream",
     "text": [
      "-------------------------------------------\n",
      "Batch: 17\n",
      "-------------------------------------------\n",
      "+------------------------------------+-----------+------------------------------------------+-----------+\n",
      "|user_id                             |event_type |window                                    |event_count|\n",
      "+------------------------------------+-----------+------------------------------------------+-----------+\n",
      "|758c8432-4e19-4c58-b004-e2d1e149fdca|add_to_cart|{2025-09-06 18:25:00, 2025-09-06 18:35:00}|1          |\n",
      "|758c8432-4e19-4c58-b004-e2d1e149fdca|add_to_cart|{2025-09-06 18:20:00, 2025-09-06 18:30:00}|1          |\n",
      "+------------------------------------+-----------+------------------------------------------+-----------+\n",
      "\n"
     ]
    },
    {
     "name": "stderr",
     "output_type": "stream",
     "text": [
      "                                                                                \r"
     ]
    },
    {
     "name": "stdout",
     "output_type": "stream",
     "text": [
      "-------------------------------------------\n",
      "Batch: 18\n",
      "-------------------------------------------\n",
      "+------------------------------------+-----------+------------------------------------------+-----------+\n",
      "|user_id                             |event_type |window                                    |event_count|\n",
      "+------------------------------------+-----------+------------------------------------------+-----------+\n",
      "|22e0961f-abd7-466b-91cb-6bcf121eaa69|add_to_cart|{2025-09-06 18:25:00, 2025-09-06 18:35:00}|1          |\n",
      "|22e0961f-abd7-466b-91cb-6bcf121eaa69|add_to_cart|{2025-09-06 18:20:00, 2025-09-06 18:30:00}|1          |\n",
      "+------------------------------------+-----------+------------------------------------------+-----------+\n",
      "\n"
     ]
    },
    {
     "name": "stderr",
     "output_type": "stream",
     "text": [
      "[Stage 134:============>(199 + 1) / 200][Stage 136:>              (0 + 9) / 200]\r"
     ]
    },
    {
     "name": "stdout",
     "output_type": "stream",
     "text": [
      "-------------------------------------------\n",
      "Batch: 19\n",
      "-------------------------------------------\n",
      "+------------------------------------+----------+------------------------------------------+-----------+\n",
      "|user_id                             |event_type|window                                    |event_count|\n",
      "+------------------------------------+----------+------------------------------------------+-----------+\n",
      "|522cfcb5-8c92-4bb0-9b66-0918b7766aa7|view      |{2025-09-06 18:25:00, 2025-09-06 18:35:00}|1          |\n",
      "|522cfcb5-8c92-4bb0-9b66-0918b7766aa7|view      |{2025-09-06 18:30:00, 2025-09-06 18:40:00}|1          |\n",
      "+------------------------------------+----------+------------------------------------------+-----------+\n",
      "\n"
     ]
    },
    {
     "name": "stderr",
     "output_type": "stream",
     "text": [
      "                                                                                \r"
     ]
    },
    {
     "name": "stdout",
     "output_type": "stream",
     "text": [
      "-------------------------------------------\n",
      "Batch: 20\n",
      "-------------------------------------------\n",
      "+------------------------------------+----------+------------------------------------------+-----------+\n",
      "|user_id                             |event_type|window                                    |event_count|\n",
      "+------------------------------------+----------+------------------------------------------+-----------+\n",
      "|02142079-22ba-41b3-8ae7-ccb03feefc87|purchase  |{2025-09-06 18:15:00, 2025-09-06 18:25:00}|1          |\n",
      "|02142079-22ba-41b3-8ae7-ccb03feefc87|purchase  |{2025-09-06 18:20:00, 2025-09-06 18:30:00}|1          |\n",
      "+------------------------------------+----------+------------------------------------------+-----------+\n",
      "\n"
     ]
    },
    {
     "name": "stderr",
     "output_type": "stream",
     "text": [
      "                                                                                \r"
     ]
    },
    {
     "name": "stdout",
     "output_type": "stream",
     "text": [
      "-------------------------------------------\n",
      "Batch: 21\n",
      "-------------------------------------------\n",
      "+------------------------------------+-----------+------------------------------------------+-----------+\n",
      "|user_id                             |event_type |window                                    |event_count|\n",
      "+------------------------------------+-----------+------------------------------------------+-----------+\n",
      "|a9e5319d-b2cb-4da8-89c9-20b89d3e8ccc|add_to_cart|{2025-09-06 18:25:00, 2025-09-06 18:35:00}|1          |\n",
      "|a9e5319d-b2cb-4da8-89c9-20b89d3e8ccc|add_to_cart|{2025-09-06 18:30:00, 2025-09-06 18:40:00}|1          |\n",
      "+------------------------------------+-----------+------------------------------------------+-----------+\n",
      "\n"
     ]
    },
    {
     "name": "stderr",
     "output_type": "stream",
     "text": [
      "                                                                                \r"
     ]
    },
    {
     "name": "stdout",
     "output_type": "stream",
     "text": [
      "-------------------------------------------\n",
      "Batch: 22\n",
      "-------------------------------------------\n",
      "+-------+----------+------+-----------+\n",
      "|user_id|event_type|window|event_count|\n",
      "+-------+----------+------+-----------+\n",
      "+-------+----------+------+-----------+\n",
      "\n"
     ]
    },
    {
     "name": "stderr",
     "output_type": "stream",
     "text": [
      "                                                                                \r"
     ]
    },
    {
     "name": "stdout",
     "output_type": "stream",
     "text": [
      "-------------------------------------------\n",
      "Batch: 23\n",
      "-------------------------------------------\n",
      "+------------------------------------+-----------+------------------------------------------+-----------+\n",
      "|user_id                             |event_type |window                                    |event_count|\n",
      "+------------------------------------+-----------+------------------------------------------+-----------+\n",
      "|f0fd1050-7983-4474-98ab-7829f251eba0|add_to_cart|{2025-09-06 18:30:00, 2025-09-06 18:40:00}|1          |\n",
      "|f0fd1050-7983-4474-98ab-7829f251eba0|add_to_cart|{2025-09-06 18:25:00, 2025-09-06 18:35:00}|1          |\n",
      "+------------------------------------+-----------+------------------------------------------+-----------+\n",
      "\n"
     ]
    },
    {
     "name": "stderr",
     "output_type": "stream",
     "text": [
      "                                                                                \r"
     ]
    },
    {
     "name": "stdout",
     "output_type": "stream",
     "text": [
      "-------------------------------------------\n",
      "Batch: 24\n",
      "-------------------------------------------\n",
      "+------------------------------------+----------+------------------------------------------+-----------+\n",
      "|user_id                             |event_type|window                                    |event_count|\n",
      "+------------------------------------+----------+------------------------------------------+-----------+\n",
      "|670f8d4c-52f8-44ee-853f-b19b1fea2dcc|view      |{2025-09-06 18:25:00, 2025-09-06 18:35:00}|1          |\n",
      "|670f8d4c-52f8-44ee-853f-b19b1fea2dcc|view      |{2025-09-06 18:20:00, 2025-09-06 18:30:00}|1          |\n",
      "+------------------------------------+----------+------------------------------------------+-----------+\n",
      "\n"
     ]
    },
    {
     "name": "stderr",
     "output_type": "stream",
     "text": [
      "                                                                                \r"
     ]
    },
    {
     "name": "stdout",
     "output_type": "stream",
     "text": [
      "-------------------------------------------\n",
      "Batch: 25\n",
      "-------------------------------------------\n",
      "+------------------------------------+----------+------------------------------------------+-----------+\n",
      "|user_id                             |event_type|window                                    |event_count|\n",
      "+------------------------------------+----------+------------------------------------------+-----------+\n",
      "|3287a460-9df8-46a6-a4f4-70553d393bdf|click     |{2025-09-06 18:20:00, 2025-09-06 18:30:00}|1          |\n",
      "|a1cf47cd-1218-430c-b502-d58e16a12a11|purchase  |{2025-09-06 18:25:00, 2025-09-06 18:35:00}|1          |\n",
      "|3287a460-9df8-46a6-a4f4-70553d393bdf|click     |{2025-09-06 18:15:00, 2025-09-06 18:25:00}|1          |\n",
      "|a1cf47cd-1218-430c-b502-d58e16a12a11|purchase  |{2025-09-06 18:20:00, 2025-09-06 18:30:00}|1          |\n",
      "+------------------------------------+----------+------------------------------------------+-----------+\n",
      "\n"
     ]
    },
    {
     "name": "stderr",
     "output_type": "stream",
     "text": [
      "                                                                                \r"
     ]
    },
    {
     "name": "stdout",
     "output_type": "stream",
     "text": [
      "-------------------------------------------\n",
      "Batch: 26\n",
      "-------------------------------------------\n",
      "+------------------------------------+-----------+------------------------------------------+-----------+\n",
      "|user_id                             |event_type |window                                    |event_count|\n",
      "+------------------------------------+-----------+------------------------------------------+-----------+\n",
      "|419ce698-7696-4f8d-9145-f4cd5b91577a|add_to_cart|{2025-09-06 18:20:00, 2025-09-06 18:30:00}|1          |\n",
      "|419ce698-7696-4f8d-9145-f4cd5b91577a|add_to_cart|{2025-09-06 18:25:00, 2025-09-06 18:35:00}|1          |\n",
      "+------------------------------------+-----------+------------------------------------------+-----------+\n",
      "\n"
     ]
    },
    {
     "name": "stderr",
     "output_type": "stream",
     "text": [
      "                                                                                \r"
     ]
    },
    {
     "name": "stdout",
     "output_type": "stream",
     "text": [
      "-------------------------------------------\n",
      "Batch: 27\n",
      "-------------------------------------------\n",
      "+------------------------------------+----------+------------------------------------------+-----------+\n",
      "|user_id                             |event_type|window                                    |event_count|\n",
      "+------------------------------------+----------+------------------------------------------+-----------+\n",
      "|a82d1648-abec-4f34-8cb3-d413697f207f|click     |{2025-09-06 18:25:00, 2025-09-06 18:35:00}|1          |\n",
      "|a82d1648-abec-4f34-8cb3-d413697f207f|click     |{2025-09-06 18:30:00, 2025-09-06 18:40:00}|1          |\n",
      "+------------------------------------+----------+------------------------------------------+-----------+\n",
      "\n"
     ]
    },
    {
     "name": "stderr",
     "output_type": "stream",
     "text": [
      "                                                                                \r"
     ]
    },
    {
     "name": "stdout",
     "output_type": "stream",
     "text": [
      "-------------------------------------------\n",
      "Batch: 28\n",
      "-------------------------------------------\n",
      "+------------------------------------+----------+------------------------------------------+-----------+\n",
      "|user_id                             |event_type|window                                    |event_count|\n",
      "+------------------------------------+----------+------------------------------------------+-----------+\n",
      "|3429ecf7-9390-403d-97d6-458dc750eea3|view      |{2025-09-06 18:15:00, 2025-09-06 18:25:00}|1          |\n",
      "|f7dfc031-1848-454f-9b0a-17efd0590298|click     |{2025-09-06 18:15:00, 2025-09-06 18:25:00}|1          |\n",
      "|3429ecf7-9390-403d-97d6-458dc750eea3|view      |{2025-09-06 18:20:00, 2025-09-06 18:30:00}|1          |\n",
      "|f7dfc031-1848-454f-9b0a-17efd0590298|click     |{2025-09-06 18:20:00, 2025-09-06 18:30:00}|1          |\n",
      "+------------------------------------+----------+------------------------------------------+-----------+\n",
      "\n"
     ]
    },
    {
     "name": "stderr",
     "output_type": "stream",
     "text": [
      "[Stage 191:==========> (180 + 10) / 200][Stage 194:>              (0 + 0) / 200]\r"
     ]
    },
    {
     "name": "stdout",
     "output_type": "stream",
     "text": [
      "-------------------------------------------\n",
      "Batch: 29\n",
      "-------------------------------------------\n",
      "+------------------------------------+----------+------------------------------------------+-----------+\n",
      "|user_id                             |event_type|window                                    |event_count|\n",
      "+------------------------------------+----------+------------------------------------------+-----------+\n",
      "|6bb7e09a-ac7a-4485-9ae4-a2250bdd1376|purchase  |{2025-09-06 18:15:00, 2025-09-06 18:25:00}|1          |\n",
      "|6bb7e09a-ac7a-4485-9ae4-a2250bdd1376|purchase  |{2025-09-06 18:20:00, 2025-09-06 18:30:00}|1          |\n",
      "+------------------------------------+----------+------------------------------------------+-----------+\n",
      "\n"
     ]
    },
    {
     "name": "stderr",
     "output_type": "stream",
     "text": [
      "                                                                                \r"
     ]
    },
    {
     "name": "stdout",
     "output_type": "stream",
     "text": [
      "-------------------------------------------\n",
      "Batch: 30\n",
      "-------------------------------------------\n",
      "+------------------------------------+----------+------------------------------------------+-----------+\n",
      "|user_id                             |event_type|window                                    |event_count|\n",
      "+------------------------------------+----------+------------------------------------------+-----------+\n",
      "|f8df17a5-d3b6-498e-badb-d0ac691f407e|click     |{2025-09-06 18:25:00, 2025-09-06 18:35:00}|1          |\n",
      "|f8df17a5-d3b6-498e-badb-d0ac691f407e|click     |{2025-09-06 18:20:00, 2025-09-06 18:30:00}|1          |\n",
      "+------------------------------------+----------+------------------------------------------+-----------+\n",
      "\n"
     ]
    },
    {
     "name": "stderr",
     "output_type": "stream",
     "text": [
      "                                                                                \r"
     ]
    },
    {
     "name": "stdout",
     "output_type": "stream",
     "text": [
      "-------------------------------------------\n",
      "Batch: 31\n",
      "-------------------------------------------\n",
      "+------------------------------------+----------+------------------------------------------+-----------+\n",
      "|user_id                             |event_type|window                                    |event_count|\n",
      "+------------------------------------+----------+------------------------------------------+-----------+\n",
      "|74b3c02b-6529-454c-8527-0ac604a175c0|click     |{2025-09-06 18:20:00, 2025-09-06 18:30:00}|1          |\n",
      "|63e9a75a-75c9-4d47-b1ed-ea26da723635|view      |{2025-09-06 18:25:00, 2025-09-06 18:35:00}|1          |\n",
      "|74b3c02b-6529-454c-8527-0ac604a175c0|click     |{2025-09-06 18:15:00, 2025-09-06 18:25:00}|1          |\n",
      "|63e9a75a-75c9-4d47-b1ed-ea26da723635|view      |{2025-09-06 18:20:00, 2025-09-06 18:30:00}|1          |\n",
      "+------------------------------------+----------+------------------------------------------+-----------+\n",
      "\n"
     ]
    },
    {
     "name": "stderr",
     "output_type": "stream",
     "text": [
      "                                                                                \r"
     ]
    },
    {
     "name": "stdout",
     "output_type": "stream",
     "text": [
      "-------------------------------------------\n",
      "Batch: 32\n",
      "-------------------------------------------\n",
      "+------------------------------------+----------+------------------------------------------+-----------+\n",
      "|user_id                             |event_type|window                                    |event_count|\n",
      "+------------------------------------+----------+------------------------------------------+-----------+\n",
      "|c723a9db-89cd-4ca9-9c38-2b23c1f36800|purchase  |{2025-09-06 18:15:00, 2025-09-06 18:25:00}|1          |\n",
      "|c723a9db-89cd-4ca9-9c38-2b23c1f36800|purchase  |{2025-09-06 18:20:00, 2025-09-06 18:30:00}|1          |\n",
      "+------------------------------------+----------+------------------------------------------+-----------+\n",
      "\n"
     ]
    },
    {
     "name": "stderr",
     "output_type": "stream",
     "text": [
      "                                                                                \r"
     ]
    },
    {
     "name": "stdout",
     "output_type": "stream",
     "text": [
      "-------------------------------------------\n",
      "Batch: 33\n",
      "-------------------------------------------\n",
      "+------------------------------------+----------+------------------------------------------+-----------+\n",
      "|user_id                             |event_type|window                                    |event_count|\n",
      "+------------------------------------+----------+------------------------------------------+-----------+\n",
      "|201079fb-2b16-48b9-9a4a-c960f132466d|purchase  |{2025-09-06 18:25:00, 2025-09-06 18:35:00}|1          |\n",
      "|201079fb-2b16-48b9-9a4a-c960f132466d|purchase  |{2025-09-06 18:30:00, 2025-09-06 18:40:00}|1          |\n",
      "+------------------------------------+----------+------------------------------------------+-----------+\n",
      "\n"
     ]
    },
    {
     "name": "stderr",
     "output_type": "stream",
     "text": [
      "                                                                                \r"
     ]
    },
    {
     "name": "stdout",
     "output_type": "stream",
     "text": [
      "-------------------------------------------\n",
      "Batch: 34\n",
      "-------------------------------------------\n",
      "+------------------------------------+-----------+------------------------------------------+-----------+\n",
      "|user_id                             |event_type |window                                    |event_count|\n",
      "+------------------------------------+-----------+------------------------------------------+-----------+\n",
      "|b8bbdb6c-11a8-46ea-b45f-ca63a1a363f3|add_to_cart|{2025-09-06 18:25:00, 2025-09-06 18:35:00}|1          |\n",
      "|32d46f04-e1aa-4160-9891-83207beeccab|purchase   |{2025-09-06 18:25:00, 2025-09-06 18:35:00}|1          |\n",
      "|b8bbdb6c-11a8-46ea-b45f-ca63a1a363f3|add_to_cart|{2025-09-06 18:20:00, 2025-09-06 18:30:00}|1          |\n",
      "|32d46f04-e1aa-4160-9891-83207beeccab|purchase   |{2025-09-06 18:20:00, 2025-09-06 18:30:00}|1          |\n",
      "+------------------------------------+-----------+------------------------------------------+-----------+\n",
      "\n"
     ]
    },
    {
     "name": "stderr",
     "output_type": "stream",
     "text": [
      "                                                                                \r"
     ]
    },
    {
     "name": "stdout",
     "output_type": "stream",
     "text": [
      "-------------------------------------------\n",
      "Batch: 35\n",
      "-------------------------------------------\n",
      "+------------------------------------+-----------+------------------------------------------+-----------+\n",
      "|user_id                             |event_type |window                                    |event_count|\n",
      "+------------------------------------+-----------+------------------------------------------+-----------+\n",
      "|d11dc546-e6cf-4609-8076-a2edabc49eeb|purchase   |{2025-09-06 18:25:00, 2025-09-06 18:35:00}|1          |\n",
      "|decfb8f7-aec9-41a9-9d23-65e9e37f1054|add_to_cart|{2025-09-06 18:20:00, 2025-09-06 18:30:00}|1          |\n",
      "|d11dc546-e6cf-4609-8076-a2edabc49eeb|purchase   |{2025-09-06 18:30:00, 2025-09-06 18:40:00}|1          |\n",
      "|decfb8f7-aec9-41a9-9d23-65e9e37f1054|add_to_cart|{2025-09-06 18:25:00, 2025-09-06 18:35:00}|1          |\n",
      "+------------------------------------+-----------+------------------------------------------+-----------+\n",
      "\n"
     ]
    },
    {
     "name": "stderr",
     "output_type": "stream",
     "text": [
      "                                                                                \r"
     ]
    },
    {
     "name": "stdout",
     "output_type": "stream",
     "text": [
      "-------------------------------------------\n",
      "Batch: 36\n",
      "-------------------------------------------\n",
      "+------------------------------------+----------+------------------------------------------+-----------+\n",
      "|user_id                             |event_type|window                                    |event_count|\n",
      "+------------------------------------+----------+------------------------------------------+-----------+\n",
      "|8daffd38-bf0f-4d26-8b66-c9fb260059fb|view      |{2025-09-06 18:15:00, 2025-09-06 18:25:00}|1          |\n",
      "|5e1d1683-e827-4242-997e-3c970c9b349d|click     |{2025-09-06 18:20:00, 2025-09-06 18:30:00}|1          |\n",
      "|8daffd38-bf0f-4d26-8b66-c9fb260059fb|view      |{2025-09-06 18:20:00, 2025-09-06 18:30:00}|1          |\n",
      "|5e1d1683-e827-4242-997e-3c970c9b349d|click     |{2025-09-06 18:15:00, 2025-09-06 18:25:00}|1          |\n",
      "+------------------------------------+----------+------------------------------------------+-----------+\n",
      "\n"
     ]
    },
    {
     "name": "stderr",
     "output_type": "stream",
     "text": [
      "                                                                                \r"
     ]
    },
    {
     "name": "stdout",
     "output_type": "stream",
     "text": [
      "-------------------------------------------\n",
      "Batch: 37\n",
      "-------------------------------------------\n",
      "+------------------------------------+----------+------------------------------------------+-----------+\n",
      "|user_id                             |event_type|window                                    |event_count|\n",
      "+------------------------------------+----------+------------------------------------------+-----------+\n",
      "|e5a377fb-eecf-40d5-b8b0-f66540022b9e|click     |{2025-09-06 18:25:00, 2025-09-06 18:35:00}|1          |\n",
      "|e5a377fb-eecf-40d5-b8b0-f66540022b9e|click     |{2025-09-06 18:20:00, 2025-09-06 18:30:00}|1          |\n",
      "+------------------------------------+----------+------------------------------------------+-----------+\n",
      "\n"
     ]
    },
    {
     "name": "stderr",
     "output_type": "stream",
     "text": [
      "                                                                                \r"
     ]
    },
    {
     "name": "stdout",
     "output_type": "stream",
     "text": [
      "-------------------------------------------\n",
      "Batch: 38\n",
      "-------------------------------------------\n",
      "+------------------------------------+----------+------------------------------------------+-----------+\n",
      "|user_id                             |event_type|window                                    |event_count|\n",
      "+------------------------------------+----------+------------------------------------------+-----------+\n",
      "|965b88b5-d8a5-4d78-b1e4-bcca04fa2471|click     |{2025-09-06 18:25:00, 2025-09-06 18:35:00}|1          |\n",
      "|965b88b5-d8a5-4d78-b1e4-bcca04fa2471|click     |{2025-09-06 18:20:00, 2025-09-06 18:30:00}|1          |\n",
      "+------------------------------------+----------+------------------------------------------+-----------+\n",
      "\n"
     ]
    },
    {
     "name": "stderr",
     "output_type": "stream",
     "text": [
      "                                                                                \r"
     ]
    },
    {
     "name": "stdout",
     "output_type": "stream",
     "text": [
      "-------------------------------------------\n",
      "Batch: 39\n",
      "-------------------------------------------\n",
      "+------------------------------------+----------+------------------------------------------+-----------+\n",
      "|user_id                             |event_type|window                                    |event_count|\n",
      "+------------------------------------+----------+------------------------------------------+-----------+\n",
      "|cf271e8a-1ad8-44bf-82d5-1825861fcf41|view      |{2025-09-06 18:25:00, 2025-09-06 18:35:00}|1          |\n",
      "|591b6a42-5136-4f56-9874-adc821dfc534|click     |{2025-09-06 18:25:00, 2025-09-06 18:35:00}|1          |\n",
      "|591b6a42-5136-4f56-9874-adc821dfc534|click     |{2025-09-06 18:20:00, 2025-09-06 18:30:00}|1          |\n",
      "|cf271e8a-1ad8-44bf-82d5-1825861fcf41|view      |{2025-09-06 18:20:00, 2025-09-06 18:30:00}|1          |\n",
      "+------------------------------------+----------+------------------------------------------+-----------+\n",
      "\n"
     ]
    },
    {
     "name": "stderr",
     "output_type": "stream",
     "text": [
      "                                                                                \r"
     ]
    },
    {
     "name": "stdout",
     "output_type": "stream",
     "text": [
      "-------------------------------------------\n",
      "Batch: 40\n",
      "-------------------------------------------\n",
      "+------------------------------------+-----------+------------------------------------------+-----------+\n",
      "|user_id                             |event_type |window                                    |event_count|\n",
      "+------------------------------------+-----------+------------------------------------------+-----------+\n",
      "|df5c5523-b2d4-4158-b8a4-0ef8f15729bf|add_to_cart|{2025-09-06 18:25:00, 2025-09-06 18:35:00}|1          |\n",
      "|df5c5523-b2d4-4158-b8a4-0ef8f15729bf|add_to_cart|{2025-09-06 18:20:00, 2025-09-06 18:30:00}|1          |\n",
      "+------------------------------------+-----------+------------------------------------------+-----------+\n",
      "\n"
     ]
    },
    {
     "name": "stderr",
     "output_type": "stream",
     "text": [
      "                                                                                \r"
     ]
    },
    {
     "name": "stdout",
     "output_type": "stream",
     "text": [
      "-------------------------------------------\n",
      "Batch: 41\n",
      "-------------------------------------------\n",
      "+------------------------------------+----------+------------------------------------------+-----------+\n",
      "|user_id                             |event_type|window                                    |event_count|\n",
      "+------------------------------------+----------+------------------------------------------+-----------+\n",
      "|fa3ee956-bd06-49fb-8976-f72cffd86027|purchase  |{2025-09-06 18:30:00, 2025-09-06 18:40:00}|1          |\n",
      "|fa3ee956-bd06-49fb-8976-f72cffd86027|purchase  |{2025-09-06 18:25:00, 2025-09-06 18:35:00}|1          |\n",
      "+------------------------------------+----------+------------------------------------------+-----------+\n",
      "\n"
     ]
    },
    {
     "name": "stderr",
     "output_type": "stream",
     "text": [
      "                                                                                \r"
     ]
    },
    {
     "name": "stdout",
     "output_type": "stream",
     "text": [
      "-------------------------------------------\n",
      "Batch: 42\n",
      "-------------------------------------------\n",
      "+------------------------------------+----------+------------------------------------------+-----------+\n",
      "|user_id                             |event_type|window                                    |event_count|\n",
      "+------------------------------------+----------+------------------------------------------+-----------+\n",
      "|ae4600ea-7155-4116-b316-e28c79299ac1|view      |{2025-09-06 18:30:00, 2025-09-06 18:40:00}|1          |\n",
      "|1d52e4df-0673-4ce0-b610-6ec472b08277|purchase  |{2025-09-06 18:20:00, 2025-09-06 18:30:00}|1          |\n",
      "|ae4600ea-7155-4116-b316-e28c79299ac1|view      |{2025-09-06 18:25:00, 2025-09-06 18:35:00}|1          |\n",
      "|1d52e4df-0673-4ce0-b610-6ec472b08277|purchase  |{2025-09-06 18:25:00, 2025-09-06 18:35:00}|1          |\n",
      "+------------------------------------+----------+------------------------------------------+-----------+\n",
      "\n"
     ]
    },
    {
     "name": "stderr",
     "output_type": "stream",
     "text": [
      "                                                                                \r"
     ]
    },
    {
     "name": "stdout",
     "output_type": "stream",
     "text": [
      "-------------------------------------------\n",
      "Batch: 43\n",
      "-------------------------------------------\n",
      "+------------------------------------+-----------+------------------------------------------+-----------+\n",
      "|user_id                             |event_type |window                                    |event_count|\n",
      "+------------------------------------+-----------+------------------------------------------+-----------+\n",
      "|b0e1428b-e8d2-4014-b913-925e6a0f4ebe|view       |{2025-09-06 18:20:00, 2025-09-06 18:30:00}|1          |\n",
      "|70e9dcb3-3dad-4e27-a959-b3dd5f333d57|add_to_cart|{2025-09-06 18:20:00, 2025-09-06 18:30:00}|1          |\n",
      "|70e9dcb3-3dad-4e27-a959-b3dd5f333d57|add_to_cart|{2025-09-06 18:25:00, 2025-09-06 18:35:00}|1          |\n",
      "|b0e1428b-e8d2-4014-b913-925e6a0f4ebe|view       |{2025-09-06 18:25:00, 2025-09-06 18:35:00}|1          |\n",
      "+------------------------------------+-----------+------------------------------------------+-----------+\n",
      "\n"
     ]
    },
    {
     "name": "stderr",
     "output_type": "stream",
     "text": [
      "[Stage 277:=======>    (133 + 10) / 200][Stage 278:>                (0 + 0) / 1]\r"
     ]
    }
   ],
   "source": [
    "from pyspark.sql.functions import window, count as s_count\n",
    "\n",
    "event_type_classification_df = (\n",
    "    parsed_activity_df.withWatermark(\"timestamp\", \"10 minutes\")\n",
    "    .groupBy(\n",
    "        col(\"user_id\"),\n",
    "        col(\"event_type\"),\n",
    "        window(col(\"timestamp\"), \"10 minutes\", \"5 minutes\")\n",
    "    ).agg(\n",
    "        s_count(\"*\").alias(\"event_count\")\n",
    "    )\n",
    ")\n",
    "\n",
    "# Debug\n",
    "console_event_query = event_type_classification_df.writeStream \\\n",
    "    .outputMode(\"update\") \\\n",
    "    .format(\"console\") \\\n",
    "    .option(\"truncate\", \"false\") \\\n",
    "    .start()\n",
    "\n",
    "# Save data\n",
    "parquet_event_query = event_type_classification_df.writeStream \\\n",
    "    .outputMode(\"append\") \\\n",
    "    .format(\"parquet\") \\\n",
    "    .option(\"path\", \"data/event_type\") \\\n",
    "    .option(\"checkpointLocation\", \"checkpoints/event_type\") \\\n",
    "    .start()"
   ]
  },
  {
   "cell_type": "code",
   "execution_count": 8,
   "id": "f7e2e73f",
   "metadata": {},
   "outputs": [
    {
     "name": "stderr",
     "output_type": "stream",
     "text": [
      "25/09/06 18:28:06 ERROR WriteToDataSourceV2Exec: Data source write support MicroBatchWrite[epoch: 48, writer: ConsoleWriter[numRows=20, truncate=false]] is aborting.\n",
      "25/09/06 18:28:06 ERROR WriteToDataSourceV2Exec: Data source write support MicroBatchWrite[epoch: 48, writer: ConsoleWriter[numRows=20, truncate=false]] aborted.\n",
      "25/09/06 18:28:08 WARN HDFSBackedStateStoreProvider: Error doing snapshots for HDFSStateStoreProvider[id = (op=0,part=124),dir = file:/private/var/folders/9p/qrvh0mgd1536kkkrlb27q41m0000gn/T/temporary-7e05d3e4-a9cb-409b-b4fc-040b6833d17e/state/0/124]\n",
      "java.lang.IllegalStateException: Unexpected list of delta files for version 47 for HDFSStateStoreProvider[id = (op=0,part=124),dir = file:/private/var/folders/9p/qrvh0mgd1536kkkrlb27q41m0000gn/T/temporary-7e05d3e4-a9cb-409b-b4fc-040b6833d17e/state/0/124]: List(StoreFile(34,file:/private/var/folders/9p/qrvh0mgd1536kkkrlb27q41m0000gn/T/temporary-7e05d3e4-a9cb-409b-b4fc-040b6833d17e/state/0/124/34.delta,false), StoreFile(36,file:/private/var/folders/9p/qrvh0mgd1536kkkrlb27q41m0000gn/T/temporary-7e05d3e4-a9cb-409b-b4fc-040b6833d17e/state/0/124/36.delta,false), StoreFile(38,file:/private/var/folders/9p/qrvh0mgd1536kkkrlb27q41m0000gn/T/temporary-7e05d3e4-a9cb-409b-b4fc-040b6833d17e/state/0/124/38.delta,false), StoreFile(39,file:/private/var/folders/9p/qrvh0mgd1536kkkrlb27q41m0000gn/T/temporary-7e05d3e4-a9cb-409b-b4fc-040b6833d17e/state/0/124/39.delta,false), StoreFile(40,file:/private/var/folders/9p/qrvh0mgd1536kkkrlb27q41m0000gn/T/temporary-7e05d3e4-a9cb-409b-b4fc-040b6833d17e/state/0/124/40.delta,false), StoreFile(41,file:/private/var/folders/9p/qrvh0mgd1536kkkrlb27q41m0000gn/T/temporary-7e05d3e4-a9cb-409b-b4fc-040b6833d17e/state/0/124/41.delta,false), StoreFile(42,file:/private/var/folders/9p/qrvh0mgd1536kkkrlb27q41m0000gn/T/temporary-7e05d3e4-a9cb-409b-b4fc-040b6833d17e/state/0/124/42.delta,false), StoreFile(43,file:/private/var/folders/9p/qrvh0mgd1536kkkrlb27q41m0000gn/T/temporary-7e05d3e4-a9cb-409b-b4fc-040b6833d17e/state/0/124/43.delta,false), StoreFile(44,file:/private/var/folders/9p/qrvh0mgd1536kkkrlb27q41m0000gn/T/temporary-7e05d3e4-a9cb-409b-b4fc-040b6833d17e/state/0/124/44.delta,false), StoreFile(45,file:/private/var/folders/9p/qrvh0mgd1536kkkrlb27q41m0000gn/T/temporary-7e05d3e4-a9cb-409b-b4fc-040b6833d17e/state/0/124/45.delta,false), StoreFile(46,file:/private/var/folders/9p/qrvh0mgd1536kkkrlb27q41m0000gn/T/temporary-7e05d3e4-a9cb-409b-b4fc-040b6833d17e/state/0/124/46.delta,false), StoreFile(47,file:/private/var/folders/9p/qrvh0mgd1536kkkrlb27q41m0000gn/T/temporary-7e05d3e4-a9cb-409b-b4fc-040b6833d17e/state/0/124/47.delta,false))\n",
      "\tat org.apache.spark.sql.execution.streaming.state.HDFSBackedStateStoreProvider.org$apache$spark$sql$execution$streaming$state$HDFSBackedStateStoreProvider$$verify(HDFSBackedStateStoreProvider.scala:912)\n",
      "\tat org.apache.spark.sql.execution.streaming.state.HDFSBackedStateStoreProvider.filesForVersion(HDFSBackedStateStoreProvider.scala:848)\n",
      "\tat org.apache.spark.sql.execution.streaming.state.HDFSBackedStateStoreProvider.doSnapshot(HDFSBackedStateStoreProvider.scala:781)\n",
      "\tat org.apache.spark.sql.execution.streaming.state.HDFSBackedStateStoreProvider.doMaintenance(HDFSBackedStateStoreProvider.scala:369)\n",
      "\tat org.apache.spark.sql.execution.streaming.state.StateStore$.$anonfun$doMaintenance$3(StateStore.scala:959)\n",
      "\tat java.base/java.util.concurrent.ThreadPoolExecutor.runWorker(ThreadPoolExecutor.java:1136)\n",
      "\tat java.base/java.util.concurrent.ThreadPoolExecutor$Worker.run(ThreadPoolExecutor.java:635)\n",
      "\tat java.base/java.lang.Thread.run(Thread.java:842)\n",
      "25/09/06 18:28:08 WARN DAGScheduler: Failed to cancel job group 8d99a970-fe1c-4dbd-a0cd-deeb9e1adf36. Cannot find active jobs for it.\n"
     ]
    },
    {
     "name": "stderr",
     "output_type": "stream",
     "text": [
      "                                                                                \r"
     ]
    }
   ],
   "source": [
    "console_event_query.stop() # end debug, just only parquet left"
   ]
  },
  {
   "cell_type": "code",
   "execution_count": 11,
   "id": "4565e82b",
   "metadata": {},
   "outputs": [
    {
     "name": "stderr",
     "output_type": "stream",
     "text": [
      "25/09/06 18:43:10 WARN ResolveWriteToStream: Temporary checkpoint location created which is deleted normally when the query didn't fail: /private/var/folders/9p/qrvh0mgd1536kkkrlb27q41m0000gn/T/temporary-68164981-6566-499d-9523-276974daea25. If it's required to delete it under any circumstances, please set spark.sql.streaming.forceDeleteTempCheckpointLocation to true. Important to know deleting temp checkpoint folder is best effort.\n",
      "25/09/06 18:43:10 WARN ResolveWriteToStream: spark.sql.adaptive.enabled is not supported in streaming DataFrames/Datasets and will be disabled.\n",
      "25/09/06 18:43:10 WARN ResolveWriteToStream: spark.sql.adaptive.enabled is not supported in streaming DataFrames/Datasets and will be disabled.\n",
      "[Stage 1458:========================================>          (160 + 10) / 200]\r"
     ]
    },
    {
     "name": "stderr",
     "output_type": "stream",
     "text": [
      "                                                                                \r"
     ]
    },
    {
     "name": "stdout",
     "output_type": "stream",
     "text": [
      "-------------------------------------------\n",
      "Batch: 0\n",
      "-------------------------------------------\n",
      "+--------------+-------+------+--------+--------+---------+--------+\n",
      "|transaction_id|user_id|amount|merchant|currency|timestamp|is_fraud|\n",
      "+--------------+-------+------+--------+--------+---------+--------+\n",
      "+--------------+-------+------+--------+--------+---------+--------+\n",
      "\n"
     ]
    },
    {
     "name": "stderr",
     "output_type": "stream",
     "text": [
      "                                                                                ]\r"
     ]
    },
    {
     "name": "stdout",
     "output_type": "stream",
     "text": [
      "-------------------------------------------\n",
      "Batch: 1\n",
      "-------------------------------------------\n",
      "+--------------+-------+------+--------+--------+---------+--------+\n",
      "|transaction_id|user_id|amount|merchant|currency|timestamp|is_fraud|\n",
      "+--------------+-------+------+--------+--------+---------+--------+\n",
      "+--------------+-------+------+--------+--------+---------+--------+\n",
      "\n"
     ]
    },
    {
     "name": "stderr",
     "output_type": "stream",
     "text": [
      "                                                                                ]\r"
     ]
    },
    {
     "name": "stdout",
     "output_type": "stream",
     "text": [
      "-------------------------------------------\n",
      "Batch: 2\n",
      "-------------------------------------------\n",
      "+--------------------+--------------------+------+--------+--------+--------------------+--------+\n",
      "|      transaction_id|             user_id|amount|merchant|currency|           timestamp|is_fraud|\n",
      "+--------------------+--------------------+------+--------+--------+--------------------+--------+\n",
      "|02be4e06-784d-495...|5620134c-ffec-435...|1161.1|  Paypal|     LBO|2025-09-06 18:44:...|    true|\n",
      "+--------------------+--------------------+------+--------+--------+--------------------+--------+\n",
      "\n"
     ]
    },
    {
     "name": "stderr",
     "output_type": "stream",
     "text": [
      "                                                                                \r"
     ]
    },
    {
     "name": "stdout",
     "output_type": "stream",
     "text": [
      "-------------------------------------------\n",
      "Batch: 3\n",
      "-------------------------------------------\n",
      "+--------------+-------+------+--------+--------+---------+--------+\n",
      "|transaction_id|user_id|amount|merchant|currency|timestamp|is_fraud|\n",
      "+--------------+-------+------+--------+--------+---------+--------+\n",
      "+--------------+-------+------+--------+--------+---------+--------+\n",
      "\n"
     ]
    },
    {
     "name": "stderr",
     "output_type": "stream",
     "text": [
      "                                                                                \r"
     ]
    }
   ],
   "source": [
    "# * Визначіть просту бізнес-логіку шахрайства:\n",
    "# * транзакції понад $1000\n",
    "# * merchant = “Amazon”\n",
    "# * is_fraud == true\n",
    "# * Запишіть результати локально.\n",
    "\n",
    "fraud_df = parsed_transaction_df.filter(\n",
    "    (col(\"amount\") > 1000) &\n",
    "    (col(\"merchant\").isin(\"Amazon\", \"Paypal\")) & # Amazon will be never happen, because our datagen don`t have it, so I added Paypal additional\n",
    "    # (col(\"currency\") == \"USD\") & # Comment this line, because it happens once a year, lets see on all currency\n",
    "    (col(\"is_fraud\") == True)\n",
    ")\n",
    "\n",
    "fraud_console_query = fraud_df.writeStream \\\n",
    "    .outputMode(\"append\") \\\n",
    "    .format(\"console\") \\\n",
    "    .start()\n",
    "\n",
    "fraud_parquet_query = fraud_df.writeStream \\\n",
    "    .outputMode(\"append\") \\\n",
    "    .format(\"parquet\") \\\n",
    "    .option(\"path\", \"data/suspicious_trans\") \\\n",
    "    .option(\"checkpointLocation\", \"checkpoints/suspicious_trans\") \\\n",
    "    .start()"
   ]
  },
  {
   "cell_type": "code",
   "execution_count": 12,
   "id": "ea5ef39f",
   "metadata": {},
   "outputs": [
    {
     "name": "stderr",
     "output_type": "stream",
     "text": [
      "25/09/06 18:43:26 WARN DAGScheduler: Failed to cancel job group e80b2461-e86a-41c1-8902-623e1d5675af. Cannot find active jobs for it.\n",
      "25/09/06 18:43:26 WARN DAGScheduler: Failed to cancel job group e80b2461-e86a-41c1-8902-623e1d5675af. Cannot find active jobs for it.\n"
     ]
    },
    {
     "name": "stderr",
     "output_type": "stream",
     "text": [
      "                                                                                ]\r"
     ]
    }
   ],
   "source": [
    "fraud_console_query.stop()"
   ]
  },
  {
   "cell_type": "code",
   "execution_count": null,
   "id": "fbfc84bd",
   "metadata": {},
   "outputs": [
    {
     "name": "stderr",
     "output_type": "stream",
     "text": [
      "25/09/06 18:51:14 WARN ResolveWriteToStream: Temporary checkpoint location created which is deleted normally when the query didn't fail: /private/var/folders/9p/qrvh0mgd1536kkkrlb27q41m0000gn/T/temporary-644d63a1-d8ee-47bf-a7a2-015562d71026. If it's required to delete it under any circumstances, please set spark.sql.streaming.forceDeleteTempCheckpointLocation to true. Important to know deleting temp checkpoint folder is best effort.\n",
      "25/09/06 18:51:14 WARN ResolveWriteToStream: spark.sql.adaptive.enabled is not supported in streaming DataFrames/Datasets and will be disabled.\n",
      "25/09/06 18:51:15 WARN ResolveWriteToStream: spark.sql.adaptive.enabled is not supported in streaming DataFrames/Datasets and will be disabled.\n"
     ]
    },
    {
     "name": "stderr",
     "output_type": "stream",
     "text": [
      "                                                                                ]\r"
     ]
    },
    {
     "name": "stdout",
     "output_type": "stream",
     "text": [
      "-------------------------------------------\n",
      "Batch: 0\n",
      "-------------------------------------------\n",
      "+--------------+-------+------+--------+--------+---------+--------+--------+-------+----------+------+-------+---------+\n",
      "|transaction_id|user_id|amount|merchant|currency|timestamp|is_fraud|event_id|user_id|event_type|device|browser|timestamp|\n",
      "+--------------+-------+------+--------+--------+---------+--------+--------+-------+----------+------+-------+---------+\n",
      "+--------------+-------+------+--------+--------+---------+--------+--------+-------+----------+------+-------+---------+\n",
      "\n"
     ]
    },
    {
     "name": "stderr",
     "output_type": "stream",
     "text": [
      "                                                                                1]\r"
     ]
    },
    {
     "name": "stdout",
     "output_type": "stream",
     "text": [
      "-------------------------------------------\n",
      "Batch: 1\n",
      "-------------------------------------------\n",
      "+--------------+-------+------+--------+--------+---------+--------+--------+-------+----------+------+-------+---------+\n",
      "|transaction_id|user_id|amount|merchant|currency|timestamp|is_fraud|event_id|user_id|event_type|device|browser|timestamp|\n",
      "+--------------+-------+------+--------+--------+---------+--------+--------+-------+----------+------+-------+---------+\n",
      "+--------------+-------+------+--------+--------+---------+--------+--------+-------+----------+------+-------+---------+\n",
      "\n"
     ]
    },
    {
     "name": "stderr",
     "output_type": "stream",
     "text": [
      "                                                                                ]\r"
     ]
    },
    {
     "name": "stdout",
     "output_type": "stream",
     "text": [
      "-------------------------------------------\n",
      "Batch: 2\n",
      "-------------------------------------------\n",
      "+--------------+-------+------+--------+--------+---------+--------+--------+-------+----------+------+-------+---------+\n",
      "|transaction_id|user_id|amount|merchant|currency|timestamp|is_fraud|event_id|user_id|event_type|device|browser|timestamp|\n",
      "+--------------+-------+------+--------+--------+---------+--------+--------+-------+----------+------+-------+---------+\n",
      "+--------------+-------+------+--------+--------+---------+--------+--------+-------+----------+------+-------+---------+\n",
      "\n"
     ]
    },
    {
     "name": "stderr",
     "output_type": "stream",
     "text": [
      "[Stage 2205:(188 + 10) / 200][Stage 2210:(0 + 0) / 200][Stage 2211:> (0 + 0) / 1]\r"
     ]
    }
   ],
   "source": [
    "# * Реалізуйте join між transactions_df та user_activity_df по user_id (використовуйте результат 2 та 3 кроків)\n",
    "# * Застосуйте time-range join (joinExpr має враховувати timestamp ±5 хвилин).\n",
    "# * Не забувайте використати watermark-и на обох потоках.\n",
    "# * Запишіть результат локально.\n",
    "from pyspark.sql.functions import expr\n",
    "\n",
    "transactions_wm_df = parsed_transaction_df.withWatermark(\"timestamp\", \"10 minutes\")\n",
    "user_activity_wm_df = parsed_activity_df.withWatermark(\"timestamp\", \"10 minutes\")\n",
    "\n",
    "unioned_df = transactions_wm_df.join(\n",
    "    user_activity_wm_df,\n",
    "    on=(\n",
    "        (transactions_wm_df.user_id == user_activity_wm_df.user_id) &\n",
    "        (user_activity_wm_df.timestamp.between(\n",
    "            transactions_wm_df.timestamp - expr(\"INTERVAL 5 MINUTES\"),\n",
    "            transactions_wm_df.timestamp + expr(\"INTERVAL 5 MINUTES\")\n",
    "        ))\n",
    "    ),\n",
    "    how=\"inner\"\n",
    ")\n",
    "\n",
    "unioned_console_query = unioned_df.writeStream \\\n",
    "    .outputMode(\"append\") \\\n",
    "    .format(\"console\") \\\n",
    "    .start()\n",
    "\n",
    "unioned_parquet_query = unioned_df.writeStream \\\n",
    "    .outputMode(\"append\") \\\n",
    "    .format(\"parquet\") \\\n",
    "    .option(\"path\", \"data/denormalized\") \\\n",
    "    .option(\"checkpointLocation\", \"checkpoints/denormalized\") \\\n",
    "    .start()"
   ]
  },
  {
   "cell_type": "code",
   "execution_count": 14,
   "id": "b7d81201",
   "metadata": {},
   "outputs": [
    {
     "name": "stderr",
     "output_type": "stream",
     "text": [
      "25/09/06 18:52:38 ERROR WriteToDataSourceV2Exec: Data source write support MicroBatchWrite[epoch: 4, writer: ConsoleWriter[numRows=20, truncate=true]] is aborting.\n",
      "25/09/06 18:52:38 ERROR WriteToDataSourceV2Exec: Data source write support MicroBatchWrite[epoch: 4, writer: ConsoleWriter[numRows=20, truncate=true]] aborted.\n",
      "25/09/06 18:52:40 WARN DAGScheduler: Failed to cancel job group 5a31e0ce-ddbc-4ca5-bda2-d992ceffeeb7. Cannot find active jobs for it.\n"
     ]
    },
    {
     "name": "stderr",
     "output_type": "stream",
     "text": [
      "                                                                                ]]\r"
     ]
    }
   ],
   "source": [
    "unioned_console_query.stop()"
   ]
  },
  {
   "cell_type": "code",
   "execution_count": 15,
   "id": "4ca24664",
   "metadata": {},
   "outputs": [
    {
     "name": "stderr",
     "output_type": "stream",
     "text": [
      "25/09/06 19:01:00 WARN ResolveWriteToStream: spark.sql.adaptive.enabled is not supported in streaming DataFrames/Datasets and will be disabled.\n",
      "[Stage 2601:(135 + 10) / 200][Stage 2605:(0 + 0) / 200][Stage 2607:> (0 + 0) / 1]\r"
     ]
    },
    {
     "name": "stderr",
     "output_type": "stream",
     "text": [
      "[Stage 2646:(114 + 10) / 200][Stage 2649:(0 + 0) / 200][Stage 2650:> (0 + 0) / 1]]\r"
     ]
    }
   ],
   "source": [
    "# Для потоку user_activity використайте dropDuplicates([\"event_id\"]), щоб уникнути повторів.\n",
    "\n",
    "deduplicated_user_activity_df = parsed_activity_df.withWatermark(\"timestamp\", \"1 hour\").dropDuplicates([\"event_id\"]) # Use bigger watermark cause of deduplication strategy\n",
    "\n",
    "\n",
    "deduplicated_user_activity_parquet_query = deduplicated_user_activity_df.writeStream \\\n",
    "    .outputMode(\"append\") \\\n",
    "    .format(\"parquet\") \\\n",
    "    .option(\"path\", \"data/deduplicated\") \\\n",
    "    .option(\"checkpointLocation\", \"checkpoints/deduplicated\") \\\n",
    "    .start()"
   ]
  }
 ],
 "metadata": {
  "kernelspec": {
   "display_name": ".venv",
   "language": "python",
   "name": "python3"
  },
  "language_info": {
   "codemirror_mode": {
    "name": "ipython",
    "version": 3
   },
   "file_extension": ".py",
   "mimetype": "text/x-python",
   "name": "python",
   "nbconvert_exporter": "python",
   "pygments_lexer": "ipython3",
   "version": "3.11.13"
  }
 },
 "nbformat": 4,
 "nbformat_minor": 5
}
