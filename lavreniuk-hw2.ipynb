{
 "cells": [
  {
   "cell_type": "markdown",
   "metadata": {
    "application/vnd.databricks.v1+cell": {
     "cellMetadata": {
      "byteLimit": 2048000,
      "rowLimit": 10000
     },
     "inputWidgets": {},
     "nuid": "e6fe7904-342c-42e8-9633-c8495b67f72a",
     "showTitle": false,
     "tableResultSettingsMap": {},
     "title": ""
    }
   },
   "source": [
    "\n",
    "1. Налаштування Unity Catalog:\n",
    "  * Створіть метастор (metastore), якщо його ще не існує.\n",
    "  * Підключіть метастор до робочого простору.\n",
    "  * Створіть:\n",
    "    * Каталог <ім’я прізвище студента>_nyc_catalog\n",
    "    * Схему trips_schema\n",
    "    * Таблицю raw_trips\n",
    "\n",
    "✅ Завдання 2: Імпорт, уніфікація та об’єднання\n",
    "\n",
    "1. Імпорт даних:\n",
    "  * Зчитайте yellow_tripdata_*.csv і green_tripdata_*.csv у Spark DataFrame.\n",
    "\n",
    "2. Уніфікація схем:\n",
    "  * Уніфікуйте назви колонок та типи даних.\n",
    "  * Додайте колонку taxi_type зі значеннями yellow або green.\n",
    "\n",
    "3. Фільтрація аномалій:\n",
    "  * Видаліть записи:\n",
    "    * Відстань < 0.1 км\n",
    "    * Тариф < \\$2\n",
    "    * Тривалість < 1 хв\n",
    "\n",
    "4. Збагачення колонками:\n",
    "  * Додайте колонки:\n",
    "    * pickup_hour\n",
    "    * pickup_day_of_week\n",
    "    * duration_min\n",
    "\n",
    "5. JOIN з taxi_zone_lookup:\n",
    "  * Додайте pickup_zone та dropoff_zone через join.\n",
    "\n",
    "6. Збереження в Delta Lake:\n",
    "* Запишіть результат у Unity Catalog:\n",
    "* Формат: Delta Lake\n",
    "\n",
    "✅ Завдання 3: Зведена аналітика zone_summary\n",
    "\n",
    "1. Агрегація zone_summary:\n",
    "  * Створіть датафрейм з колонками:\n",
    "    * pickup_zone\n",
    "    * total_trips\n",
    "    * avg_trip_distance\n",
    "    * avg_total_amount\n",
    "    * avg_tip_amount\n",
    "    * yellow_share / green_share\n",
    "    * max_trip_distance\n",
    "    * min_tip_amount\n",
    "    * total_trip\\amount\n",
    "\n",
    "2. Збереження результатів:\n",
    "  * Формат: Delta\n",
    "  * Таблиця: zone_summary\n",
    "  * Розміщення: Unity Catalog + S3 шлях (як external location або managed)\n",
    "\n",
    "✅ Завдання 4: Додаткові аналітичні розрахунки\n",
    "\n",
    "1. Агрегація по днях тижня:\n",
    "  * Використайте raw_trips або zone_summary\n",
    "  * Розрахуйте:\n",
    "    * Total_trips_per_day\n",
    "    * Avg_duration_per_zone\n",
    "    * high_fare_share (fare > $30)\n",
    "\n",
    "2. Збереження результату:\n",
    "  * Таблиця: zone_days_summary\n",
    "  * Формат: Delta\n",
    "  * Розміщення: Unity Catalog + S3 шлях (як external location або managed)"
   ]
  },
  {
   "cell_type": "code",
   "execution_count": 0,
   "metadata": {
    "application/vnd.databricks.v1+cell": {
     "cellMetadata": {
      "byteLimit": 2048000,
      "rowLimit": 10000
     },
     "inputWidgets": {},
     "nuid": "ffbc457c-d0da-43a2-b25f-d2900fe5e875",
     "showTitle": false,
     "tableResultSettingsMap": {},
     "title": ""
    }
   },
   "outputs": [
    {
     "output_type": "execute_result",
     "data": {
      "text/plain": [
       "'3.5.2'"
      ]
     },
     "execution_count": 1,
     "metadata": {},
     "output_type": "execute_result"
    }
   ],
   "source": [
    "spark.version"
   ]
  },
  {
   "cell_type": "code",
   "execution_count": 0,
   "metadata": {
    "application/vnd.databricks.v1+cell": {
     "cellMetadata": {
      "byteLimit": 2048000,
      "rowLimit": 10000
     },
     "inputWidgets": {},
     "nuid": "cadf0f56-969a-427a-be64-23068302d7cc",
     "showTitle": false,
     "tableResultSettingsMap": {},
     "title": ""
    }
   },
   "outputs": [],
   "source": [
    "sc = spark.sparkContext"
   ]
  },
  {
   "cell_type": "code",
   "execution_count": 0,
   "metadata": {
    "application/vnd.databricks.v1+cell": {
     "cellMetadata": {
      "byteLimit": 2048000,
      "rowLimit": 10000
     },
     "inputWidgets": {},
     "nuid": "08339a44-d325-4ccb-84e9-5f078acf364b",
     "showTitle": false,
     "tableResultSettingsMap": {},
     "title": ""
    }
   },
   "outputs": [],
   "source": [
    "from enum import Enum\n",
    "\n",
    "\n",
    "class TaxiColors(str, Enum):\n",
    "    GREEN = \"green\"\n",
    "    YELLOW = \"yellow\""
   ]
  },
  {
   "cell_type": "code",
   "execution_count": 0,
   "metadata": {
    "application/vnd.databricks.v1+cell": {
     "cellMetadata": {
      "byteLimit": 2048000,
      "rowLimit": 10000
     },
     "inputWidgets": {},
     "nuid": "92fc7883-f331-4aa9-8fd4-30dc479d76d9",
     "showTitle": false,
     "tableResultSettingsMap": {},
     "title": ""
    }
   },
   "outputs": [],
   "source": [
    "import os\n",
    "\n",
    "TAXI_DIR_PATH = \"s3a://robot-dreams-source-data/home-work-1-unified/nyc_taxi/\"\n",
    "YELLOW_TAXI_DIR_PATH = os.path.join(TAXI_DIR_PATH, TaxiColors.YELLOW)\n",
    "GREEN_TAXI_DIR_PATH = os.path.join(TAXI_DIR_PATH, TaxiColors.GREEN)"
   ]
  },
  {
   "cell_type": "code",
   "execution_count": 0,
   "metadata": {
    "application/vnd.databricks.v1+cell": {
     "cellMetadata": {
      "byteLimit": 2048000,
      "rowLimit": 10000
     },
     "inputWidgets": {},
     "nuid": "dd5e3fab-0e36-4ee8-b934-cdcb389c0958",
     "showTitle": false,
     "tableResultSettingsMap": {},
     "title": ""
    }
   },
   "outputs": [
    {
     "output_type": "stream",
     "name": "stdout",
     "output_type": "stream",
     "text": [
      "/mnt/lavreniuk/yellow_taxi has been unmounted.\n/mnt/lavreniuk/green_taxi has been unmounted.\n"
     ]
    },
    {
     "output_type": "execute_result",
     "data": {
      "text/plain": [
       "True"
      ]
     },
     "execution_count": 5,
     "metadata": {},
     "output_type": "execute_result"
    }
   ],
   "source": [
    "dbutils.fs.unmount(\n",
    "  \"/mnt/lavreniuk/yellow_taxi\",\n",
    ")\n",
    "\n",
    "dbutils.fs.unmount(\n",
    "  \"/mnt/lavreniuk/green_taxi\",\n",
    ")"
   ]
  },
  {
   "cell_type": "code",
   "execution_count": 0,
   "metadata": {
    "application/vnd.databricks.v1+cell": {
     "cellMetadata": {
      "byteLimit": 2048000,
      "rowLimit": 10000
     },
     "inputWidgets": {},
     "nuid": "ce2c4f5c-bb2b-4e2e-8b3d-df2d1e5f0ddd",
     "showTitle": false,
     "tableResultSettingsMap": {},
     "title": ""
    }
   },
   "outputs": [
    {
     "output_type": "execute_result",
     "data": {
      "text/plain": [
       "True"
      ]
     },
     "execution_count": 6,
     "metadata": {},
     "output_type": "execute_result"
    }
   ],
   "source": [
    "dbutils.fs.mount(\n",
    "  YELLOW_TAXI_DIR_PATH,\n",
    "  \"/mnt/lavreniuk/yellow_taxi\",\n",
    ")"
   ]
  },
  {
   "cell_type": "code",
   "execution_count": 0,
   "metadata": {
    "application/vnd.databricks.v1+cell": {
     "cellMetadata": {
      "byteLimit": 2048000,
      "rowLimit": 10000
     },
     "inputWidgets": {},
     "nuid": "634de783-dc09-4693-ab20-6c06b322ee09",
     "showTitle": false,
     "tableResultSettingsMap": {},
     "title": ""
    }
   },
   "outputs": [
    {
     "output_type": "execute_result",
     "data": {
      "text/plain": [
       "True"
      ]
     },
     "execution_count": 7,
     "metadata": {},
     "output_type": "execute_result"
    }
   ],
   "source": [
    "dbutils.fs.mount(\n",
    " GREEN_TAXI_DIR_PATH,\n",
    "  \"/mnt/lavreniuk/green_taxi\",\n",
    ")"
   ]
  },
  {
   "cell_type": "code",
   "execution_count": 0,
   "metadata": {
    "application/vnd.databricks.v1+cell": {
     "cellMetadata": {
      "byteLimit": 2048000,
      "rowLimit": 10000
     },
     "inputWidgets": {},
     "nuid": "b7fe1e39-b069-4e02-9acc-f516d8192753",
     "showTitle": false,
     "tableResultSettingsMap": {},
     "title": ""
    }
   },
   "outputs": [
    {
     "output_type": "display_data",
     "data": {
      "text/html": [
       "<style scoped>\n",
       "  .table-result-container {\n",
       "    max-height: 300px;\n",
       "    overflow: auto;\n",
       "  }\n",
       "  table, th, td {\n",
       "    border: 1px solid black;\n",
       "    border-collapse: collapse;\n",
       "  }\n",
       "  th, td {\n",
       "    padding: 5px;\n",
       "  }\n",
       "  th {\n",
       "    text-align: left;\n",
       "  }\n",
       "</style><div class='table-result-container'><table class='table-result'><thead style='background-color: white'><tr><th>path</th><th>name</th><th>size</th><th>modificationTime</th></tr></thead><tbody><tr><td>dbfs:/mnt/lavreniuk/green_taxi/</td><td>green_taxi/</td><td>0</td><td>0</td></tr><tr><td>dbfs:/mnt/lavreniuk/taxi_zone_lookup.csv/</td><td>taxi_zone_lookup.csv/</td><td>0</td><td>0</td></tr><tr><td>dbfs:/mnt/lavreniuk/yellow_taxi/</td><td>yellow_taxi/</td><td>0</td><td>0</td></tr></tbody></table></div>"
      ]
     },
     "metadata": {
      "application/vnd.databricks.v1+output": {
       "addedWidgets": {},
       "aggData": [],
       "aggError": "",
       "aggOverflow": false,
       "aggSchema": [],
       "aggSeriesLimitReached": false,
       "aggType": "",
       "arguments": {},
       "columnCustomDisplayInfos": {},
       "data": [
        [
         "dbfs:/mnt/lavreniuk/green_taxi/",
         "green_taxi/",
         0,
         0
        ],
        [
         "dbfs:/mnt/lavreniuk/taxi_zone_lookup.csv/",
         "taxi_zone_lookup.csv/",
         0,
         0
        ],
        [
         "dbfs:/mnt/lavreniuk/yellow_taxi/",
         "yellow_taxi/",
         0,
         0
        ]
       ],
       "datasetInfos": [],
       "dbfsResultPath": null,
       "isJsonSchema": true,
       "metadata": {},
       "overflow": false,
       "plotOptions": {
        "customPlotOptions": {},
        "displayType": "table",
        "pivotAggregation": null,
        "pivotColumns": null,
        "xColumns": null,
        "yColumns": null
       },
       "removedWidgets": [],
       "schema": [
        {
         "metadata": "{}",
         "name": "path",
         "type": "\"string\""
        },
        {
         "metadata": "{}",
         "name": "name",
         "type": "\"string\""
        },
        {
         "metadata": "{}",
         "name": "size",
         "type": "\"long\""
        },
        {
         "metadata": "{}",
         "name": "modificationTime",
         "type": "\"long\""
        }
       ],
       "type": "table"
      }
     },
     "output_type": "display_data"
    }
   ],
   "source": [
    "display(dbutils.fs.ls(\"/mnt/lavreniuk/\"))"
   ]
  },
  {
   "cell_type": "code",
   "execution_count": 0,
   "metadata": {
    "application/vnd.databricks.v1+cell": {
     "cellMetadata": {
      "byteLimit": 2048000,
      "rowLimit": 10000
     },
     "inputWidgets": {},
     "nuid": "0e719a83-a2cc-4c3b-af55-837da5194f8b",
     "showTitle": false,
     "tableResultSettingsMap": {},
     "title": ""
    }
   },
   "outputs": [],
   "source": [
    "# Creating schemas and read whole dataframes\n",
    "\n",
    "from pyspark.sql.types import StructType, StructField, StringType, DoubleType, LongType, TimestampNTZType, IntegerType\n",
    "from pyspark.sql.functions import col\n",
    "\n",
    "df_yellow = (\n",
    "    spark.read.options(\n",
    "        mergeSchema=\"true\",\n",
    "        recursiveFileLookup=\"true\",\n",
    "    )\n",
    "    .parquet(\"/mnt/lavreniuk/yellow_taxi\")\n",
    "    .withColumnRenamed(\"tpep_pickup_datetime\", \"pickup_datetime\")\n",
    "    .withColumnRenamed(\"tpep_dropoff_datetime\", \"dropoff_datetime\")\n",
    "    .withColumnRenamed(\"airport_fee\", \"fee\")\n",
    ")\n",
    "\n",
    "df_green = (\n",
    "    spark.read.options(\n",
    "        mergeSchema=\"true\",\n",
    "        recursiveFileLookup=\"true\",\n",
    "    )\n",
    "    .parquet(\"/mnt/lavreniuk/green_taxi\")\n",
    "    .withColumnRenamed(\"lpep_pickup_datetime\", \"pickup_datetime\")\n",
    "    .withColumnRenamed(\"lpep_dropoff_datetime\",\"dropoff_datetime\")\n",
    "    .withColumnRenamed(\"Airport_fee\", \"fee\")\n",
    "    .drop(\"tpep_pickup_datetime\", \"tpep_dropoff_datetime\") \n",
    ")"
   ]
  },
  {
   "cell_type": "code",
   "execution_count": 0,
   "metadata": {
    "application/vnd.databricks.v1+cell": {
     "cellMetadata": {
      "byteLimit": 2048000,
      "rowLimit": 10000
     },
     "inputWidgets": {},
     "nuid": "4941dc74-422a-45ba-be15-514646ea0838",
     "showTitle": false,
     "tableResultSettingsMap": {},
     "title": ""
    }
   },
   "outputs": [],
   "source": [
    "from pyspark.sql.functions import lit\n",
    "\n",
    "\n",
    "df_green = df_green.withColumn(\"taxi_type\", lit(TaxiColors.GREEN))\n",
    "df_yellow = df_yellow.withColumn(\"taxi_type\", lit(TaxiColors.YELLOW))"
   ]
  },
  {
   "cell_type": "code",
   "execution_count": 0,
   "metadata": {
    "application/vnd.databricks.v1+cell": {
     "cellMetadata": {
      "byteLimit": 2048000,
      "rowLimit": 10000
     },
     "inputWidgets": {},
     "nuid": "036890fc-cf00-4e81-aa36-1a698266f24a",
     "showTitle": false,
     "tableResultSettingsMap": {},
     "title": ""
    }
   },
   "outputs": [
    {
     "output_type": "stream",
     "name": "stdout",
     "output_type": "stream",
     "text": [
      "True 823006231\n"
     ]
    }
   ],
   "source": [
    "# Use unioning by name, I dont sure col positions are equal\n",
    "\n",
    "raw_trips_df = df_yellow.unionByName(df_green)\n",
    "print(df_green.count() + df_yellow.count() == raw_trips_df.count(), raw_trips_df.count())"
   ]
  },
  {
   "cell_type": "code",
   "execution_count": 0,
   "metadata": {
    "application/vnd.databricks.v1+cell": {
     "cellMetadata": {
      "byteLimit": 2048000,
      "rowLimit": 10000
     },
     "inputWidgets": {},
     "nuid": "9a1c52a1-4823-4831-a24d-154fc82027bb",
     "showTitle": false,
     "tableResultSettingsMap": {},
     "title": ""
    }
   },
   "outputs": [
    {
     "output_type": "stream",
     "name": "stdout",
     "output_type": "stream",
     "text": [
      "VendorID\npassenger_count\ntrip_distance\nRatecodeID\nstore_and_fwd_flag\nPULocationID\nDOLocationID\npayment_type\nfare_amount\nextra\nmta_tax\ntip_amount\ntolls_amount\nimprovement_surcharge\ntotal_amount\ncongestion_surcharge\npickup_datetime\ndropoff_datetime\nfee\ntaxi_type\n"
     ]
    }
   ],
   "source": [
    "for _col in raw_trips_df.columns:\n",
    "    print(_col)\n",
    "    try:\n",
    "        raw_trips_df.filter(col(_col).isNotNull()).select(_col).count()\n",
    "    except Exception as e:\n",
    "        print(e)"
   ]
  },
  {
   "cell_type": "code",
   "execution_count": 0,
   "metadata": {
    "application/vnd.databricks.v1+cell": {
     "cellMetadata": {
      "byteLimit": 2048000,
      "rowLimit": 10000
     },
     "inputWidgets": {},
     "nuid": "bd678488-806d-4e67-a97a-70add866c734",
     "showTitle": false,
     "tableResultSettingsMap": {},
     "title": ""
    }
   },
   "outputs": [],
   "source": [
    "RAW_TRIPS_TABLE_PATH = \"s3a://lavreniuk-hw2/data/raw-trips/\"\n",
    "\n",
    "raw_trips_df.write \\\n",
    "  .format(\"parquet\") \\\n",
    "  .mode(\"overwrite\") \\\n",
    "  .option(\"path\", RAW_TRIPS_TABLE_PATH) \\\n",
    "  .saveAsTable(\"dima_lavreniuk_nyc_catalog.trips_schema.raw_trips\")"
   ]
  },
  {
   "cell_type": "code",
   "execution_count": 0,
   "metadata": {
    "application/vnd.databricks.v1+cell": {
     "cellMetadata": {
      "byteLimit": 2048000,
      "rowLimit": 10000
     },
     "inputWidgets": {},
     "nuid": "a54e750f-2750-40b7-a947-b61710c70c0a",
     "showTitle": false,
     "tableResultSettingsMap": {},
     "title": ""
    }
   },
   "outputs": [],
   "source": [
    "raw_trips_table_df = spark.table(\"dima_lavreniuk_nyc_catalog.trips_schema.raw_trips\")"
   ]
  },
  {
   "cell_type": "code",
   "execution_count": 0,
   "metadata": {
    "application/vnd.databricks.v1+cell": {
     "cellMetadata": {
      "byteLimit": 2048000,
      "rowLimit": 10000
     },
     "inputWidgets": {},
     "nuid": "af1d7034-c33b-44b4-8545-3bb104837d76",
     "showTitle": false,
     "tableResultSettingsMap": {},
     "title": ""
    }
   },
   "outputs": [
    {
     "output_type": "execute_result",
     "data": {
      "text/plain": [
       "750062658"
      ]
     },
     "execution_count": 45,
     "metadata": {},
     "output_type": "execute_result"
    }
   ],
   "source": [
    "# Вилучити поїздки з відстанню < 0.1 км, тарифом < $2, тривалістю < 1 хв.\n",
    "\n",
    "from pyspark.sql.functions import unix_timestamp, dayofweek, date_trunc, hour\n",
    "from pyspark.sql.functions import round as sp_round\n",
    "\n",
    "raw_trips_df_filtered = raw_trips_table_df.withColumns({\n",
    "    \"pickup_hour\": hour(\"pickup_datetime\"),\n",
    "    \"pickup_day_of_week\": dayofweek(col(\"pickup_datetime\")),\n",
    "    \"duration_min\": sp_round(\n",
    "        (unix_timestamp(col(\"dropoff_datetime\")) - unix_timestamp(col(\"pickup_datetime\"))) / 60,\n",
    "        4\n",
    "    ) # long casting doesnt work with not-tz\n",
    "}).filter(\n",
    "    (col(\"trip_distance\") >= 0.1) &\n",
    "    (col(\"total_amount\") >= 2) &\n",
    "    (col(\"duration_min\") >= 1 )\n",
    ")\n",
    "\n",
    "raw_trips_df_filtered.count()"
   ]
  },
  {
   "cell_type": "code",
   "execution_count": 0,
   "metadata": {
    "application/vnd.databricks.v1+cell": {
     "cellMetadata": {
      "byteLimit": 2048000,
      "rowLimit": 10000
     },
     "inputWidgets": {},
     "nuid": "85ec4c99-f41c-4c67-acdc-acd7217831ff",
     "showTitle": false,
     "tableResultSettingsMap": {},
     "title": ""
    }
   },
   "outputs": [
    {
     "output_type": "stream",
     "name": "stdout",
     "output_type": "stream",
     "text": [
      "/mnt/lavreniuk/taxi_zone_lookup.csv has been unmounted.\n"
     ]
    },
    {
     "output_type": "execute_result",
     "data": {
      "text/plain": [
       "True"
      ]
     },
     "execution_count": 38,
     "metadata": {},
     "output_type": "execute_result"
    }
   ],
   "source": [
    "TAXI_ZONE_LOOKUP_URL = os.path.join(TAXI_DIR_PATH, \"taxi_zone_lookup.csv\")\n",
    "dbutils.fs.unmount(\"/mnt/lavreniuk/taxi_zone_lookup.csv\")\n",
    "dbutils.fs.mount(\n",
    "  TAXI_ZONE_LOOKUP_URL,\n",
    "  \"/mnt/lavreniuk/taxi_zone_lookup.csv\",\n",
    ")"
   ]
  },
  {
   "cell_type": "code",
   "execution_count": 0,
   "metadata": {
    "application/vnd.databricks.v1+cell": {
     "cellMetadata": {
      "byteLimit": 2048000,
      "rowLimit": 10000
     },
     "inputWidgets": {},
     "nuid": "9dc03451-6f5e-4aa0-8557-3064f250e697",
     "showTitle": false,
     "tableResultSettingsMap": {},
     "title": ""
    }
   },
   "outputs": [
    {
     "output_type": "stream",
     "name": "stdout",
     "output_type": "stream",
     "text": [
      "+----------+-------------+--------------------+------------+\n|LocationID|      Borough|                Zone|service_zone|\n+----------+-------------+--------------------+------------+\n|         1|          EWR|      Newark Airport|         EWR|\n|         2|       Queens|         Jamaica Bay|   Boro Zone|\n|         3|        Bronx|Allerton/Pelham G...|   Boro Zone|\n|         4|    Manhattan|       Alphabet City| Yellow Zone|\n|         5|Staten Island|       Arden Heights|   Boro Zone|\n+----------+-------------+--------------------+------------+\nonly showing top 5 rows\n"
     ]
    }
   ],
   "source": [
    "taxi_zone_df = spark.read.csv(TAXI_ZONE_LOOKUP_URL, header=True)\n",
    "taxi_zone_df.show(5)"
   ]
  },
  {
   "cell_type": "code",
   "execution_count": 0,
   "metadata": {
    "application/vnd.databricks.v1+cell": {
     "cellMetadata": {
      "byteLimit": 2048000,
      "rowLimit": 10000
     },
     "inputWidgets": {},
     "nuid": "3a4375ff-0621-4367-9238-3a99604d7f47",
     "showTitle": false,
     "tableResultSettingsMap": {},
     "title": ""
    }
   },
   "outputs": [
    {
     "output_type": "stream",
     "name": "stdout",
     "output_type": "stream",
     "text": [
      "+------------+------------+--------+---------------+-------------+----------+------------------+------------+-----------+-----+-------+----------+------------+---------------------+------------+--------------------+-------------------+-------------------+----+---------+-----------+------------------+------------+--------------------+----------------+\n|DOLocationID|PULocationID|VendorID|passenger_count|trip_distance|RatecodeID|store_and_fwd_flag|payment_type|fare_amount|extra|mta_tax|tip_amount|tolls_amount|improvement_surcharge|total_amount|congestion_surcharge|    pickup_datetime|   dropoff_datetime| fee|taxi_type|pickup_hour|pickup_day_of_week|duration_min|         pickup_zone|    dropoff_zone|\n+------------+------------+--------+---------------+-------------+----------+------------------+------------+-----------+-----+-------+----------+------------+---------------------+------------+--------------------+-------------------+-------------------+----+---------+-----------+------------------+------------+--------------------+----------------+\n|         198|          80|       1|              1|          2.3|         1|                 N|           2|        9.5|  0.5|    0.5|       0.0|         0.0|                 NULL|        10.5|                NULL|2014-09-01 00:00:58|2014-09-01 00:09:17|NULL|   yellow|          0|                 2|      8.3167|   East Williamsburg|       Ridgewood|\n|         162|         229|       1|              1|          0.4|         1|                 N|           1|        4.5|  0.5|    0.5|       1.0|         0.0|                 NULL|         6.5|                NULL|2014-09-01 00:56:23|2014-09-01 00:59:41|NULL|   yellow|          0|                 2|         3.3|Sutton Place/Turt...|    Midtown East|\n|         234|         249|       1|              1|          1.3|         1|                 N|           1|        8.0|  0.5|    0.5|      2.25|         0.0|                 NULL|       11.25|                NULL|2014-09-01 00:39:41|2014-09-01 00:48:20|NULL|   yellow|          0|                 2|        8.65|        West Village|        Union Sq|\n|         164|         163|       1|              1|          1.5|         1|                 N|           2|        7.0|  0.5|    0.5|       0.0|         0.0|                 NULL|         8.0|                NULL|2014-09-01 00:10:14|2014-09-01 00:17:00|NULL|   yellow|          0|                 2|      6.7667|       Midtown North|   Midtown South|\n|         100|         246|       1|              3|          1.1|         1|                 N|           1|        7.0|  0.5|    0.5|       1.6|         0.0|                 NULL|         9.6|                NULL|2014-09-01 00:08:16|2014-09-01 00:15:40|NULL|   yellow|          0|                 2|         7.4|West Chelsea/Huds...|Garment District|\n+------------+------------+--------+---------------+-------------+----------+------------------+------------+-----------+-----+-------+----------+------------+---------------------+------------+--------------------+-------------------+-------------------+----+---------+-----------+------------------+------------+--------------------+----------------+\nonly showing top 5 rows\n"
     ]
    }
   ],
   "source": [
    "# Виконати JOIN з taxi_zone_lookup.csv, додавши поля pickup_zone, dropoff_zone.\n",
    "from pyspark.sql.functions import broadcast\n",
    "\n",
    "trips_df_joined = raw_trips_df_filtered.join(\n",
    "        broadcast(\n",
    "            taxi_zone_df.select(\n",
    "                col(\"Zone\").alias(\"pickup_zone\"),\n",
    "                col(\"LocationID\").alias(\"PULocationID\"),\n",
    "            )\n",
    "        ),\n",
    "        how=\"left\",\n",
    "        on=\"PULocationID\"\n",
    "    ).join(\n",
    "        broadcast(\n",
    "            taxi_zone_df.select(\n",
    "                col(\"Zone\").alias(\"dropoff_zone\"),\n",
    "                col(\"LocationID\").alias(\"DOLocationID\"),\n",
    "            )\n",
    "        ),\n",
    "        how=\"left\",\n",
    "        on=\"DOLocationID\" \n",
    "    )\n",
    "\n",
    "trips_df_joined.show(5)"
   ]
  },
  {
   "cell_type": "code",
   "execution_count": 0,
   "metadata": {
    "application/vnd.databricks.v1+cell": {
     "cellMetadata": {
      "byteLimit": 2048000,
      "rowLimit": 10000
     },
     "inputWidgets": {},
     "nuid": "97c6d1d4-7420-4313-b09a-5ed93d0a8dc8",
     "showTitle": false,
     "tableResultSettingsMap": {},
     "title": ""
    }
   },
   "outputs": [],
   "source": [
    "EXTENTED_TRIPS_TABLE_PATH = \"s3a://lavreniuk-hw2/data/extended-trips/\"\n",
    "\n",
    "trips_df_joined.write \\\n",
    "  .format(\"parquet\") \\\n",
    "  .mode(\"overwrite\") \\\n",
    "  .option(\"path\", EXTENTED_TRIPS_TABLE_PATH) \\\n",
    "  .saveAsTable(\"dima_lavreniuk_nyc_catalog.trips_schema.extended_trips\")"
   ]
  },
  {
   "cell_type": "code",
   "execution_count": 0,
   "metadata": {
    "application/vnd.databricks.v1+cell": {
     "cellMetadata": {
      "byteLimit": 2048000,
      "rowLimit": 10000
     },
     "inputWidgets": {},
     "nuid": "7de5e4d2-f19c-4667-86bb-6e6289d7279c",
     "showTitle": false,
     "tableResultSettingsMap": {},
     "title": ""
    }
   },
   "outputs": [],
   "source": [
    "extended_trips_table = spark.table(\"dima_lavreniuk_nyc_catalog.trips_schema.extended_trips\")"
   ]
  },
  {
   "cell_type": "code",
   "execution_count": 0,
   "metadata": {
    "application/vnd.databricks.v1+cell": {
     "cellMetadata": {
      "byteLimit": 2048000,
      "rowLimit": 10000
     },
     "inputWidgets": {},
     "nuid": "146d91b2-e1b7-4c7d-8e96-f68d82424447",
     "showTitle": false,
     "tableResultSettingsMap": {},
     "title": ""
    }
   },
   "outputs": [
    {
     "output_type": "stream",
     "name": "stdout",
     "output_type": "stream",
     "text": [
      "+--------------------+-----------+------------------+------------------+------------------+------------------+------------------+-----------------+--------------+\n|         pickup_zone|total_trips| avg_trip_distance|  avg_total_amount|    avg_tip_amount|      yellow_share|       green_share|max_trip_distance|min_tip_amount|\n+--------------------+-----------+------------------+------------------+------------------+------------------+------------------+-----------------+--------------+\n|Governor's Island...|       1867| 3.901039100160685| 18.74173004820567|1.9904392072844128|             100.0|               0.0|             29.1|           0.0|\n|           Homecrest|      34190| 30.87262386662754| 25.87658847616139|0.7470394852295992| 36.75636150921322| 63.24363849078678|        235036.33|           0.0|\n|              Corona|      64329|24.972252327876866|28.682097343342683|1.7341660837258468|49.284148673226696| 50.71585132677331|        250984.47|           0.0|\n|    Bensonhurst West|      34719| 55.11959993087384|29.322031740544546|0.8070805610760681| 39.74768858550073|60.252311414499275|        350696.98|           0.0|\n|         Westerleigh|        801| 9.987215980024969| 44.46600499375781|2.9903245942571783| 76.02996254681648|23.970037453183522|            124.4|           0.0|\n+--------------------+-----------+------------------+------------------+------------------+------------------+------------------+-----------------+--------------+\nonly showing top 5 rows\n"
     ]
    }
   ],
   "source": [
    "from pyspark.sql.functions import count, avg, col\n",
    "from pyspark.sql.functions import max as sp_max, min as sp_min, sum as sp_sum\n",
    "\n",
    "zone_summary = (\n",
    "    extended_trips_table.groupBy(\"pickup_zone\").agg(\n",
    "        count(\"*\").alias(\"total_trips\"),\n",
    "        avg(\"trip_distance\").alias(\"avg_trip_distance\"),\n",
    "        avg(\"total_amount\").alias(\"avg_total_amount\"),\n",
    "        avg(\"tip_amount\").alias(\"avg_tip_amount\"),\n",
    "        (avg((col(\"taxi_type\") == \"yellow\").cast(\"int\")) * 100).alias(\"yellow_share\"),\n",
    "        (avg((col(\"taxi_type\") == \"green\").cast(\"int\")) * 100).alias(\"green_share\"),\n",
    "        sp_max(\"trip_distance\").alias(\"max_trip_distance\"),\n",
    "        sp_min(\"tip_amount\").alias(\"min_tip_amount\"),\n",
    "    )\n",
    ")\n",
    "\n",
    "zone_summary.show(5)"
   ]
  },
  {
   "cell_type": "code",
   "execution_count": 0,
   "metadata": {
    "application/vnd.databricks.v1+cell": {
     "cellMetadata": {
      "byteLimit": 2048000,
      "implicitDf": true,
      "rowLimit": 10000
     },
     "inputWidgets": {},
     "nuid": "142ab530-495f-48ac-9160-7ba9c7c9a9ab",
     "showTitle": false,
     "tableResultSettingsMap": {},
     "title": ""
    }
   },
   "outputs": [],
   "source": [
    "%sql\n",
    "-- Випадково створив не той формат\n",
    "DROP TABLE `dima_lavreniuk_nyc_catalog`.`trips_schema`.`zone_summary`;\n",
    "DROP TABLE `dima_lavreniuk_nyc_catalog`.`trips_schema`.`zone_days_summary`;"
   ]
  },
  {
   "cell_type": "code",
   "execution_count": 0,
   "metadata": {
    "application/vnd.databricks.v1+cell": {
     "cellMetadata": {
      "byteLimit": 2048000,
      "rowLimit": 10000
     },
     "inputWidgets": {},
     "nuid": "2b493d7f-507d-4332-bce5-962ef53270ae",
     "showTitle": false,
     "tableResultSettingsMap": {},
     "title": ""
    }
   },
   "outputs": [],
   "source": [
    "ZONE_SUMMARY_TABLE_PATH = \"s3a://lavreniuk-hw2/data/zone-summary/\"\n",
    "\n",
    "zone_summary.write \\\n",
    "  .format(\"delta\") \\\n",
    "  .mode(\"overwrite\") \\\n",
    "  .option(\"path\", ZONE_SUMMARY_TABLE_PATH) \\\n",
    "  .saveAsTable(\"dima_lavreniuk_nyc_catalog.trips_schema.zone_summary\")"
   ]
  },
  {
   "cell_type": "code",
   "execution_count": 0,
   "metadata": {
    "application/vnd.databricks.v1+cell": {
     "cellMetadata": {
      "byteLimit": 2048000,
      "rowLimit": 10000
     },
     "inputWidgets": {},
     "nuid": "18425186-6d4a-4af5-8b03-0d9ea954be2a",
     "showTitle": false,
     "tableResultSettingsMap": {},
     "title": ""
    }
   },
   "outputs": [
    {
     "output_type": "stream",
     "name": "stdout",
     "output_type": "stream",
     "text": [
      "+------------------+-------------------+-----------+------------------+\n|pickup_day_of_week|        pickup_zone|total_trips|   high_fare_share|\n+------------------+-------------------+-----------+------------------+\n|           Tuesday|   Prospect Heights|      30788| 7.571131609718072|\n|           Tuesday|      Dyker Heights|       2402|27.352206494587843|\n|           Tuesday|  Crotona Park East|       2641|22.832260507383566|\n|         Wednesday|Lincoln Square East|    3208239| 2.859387969537182|\n|         Wednesday|  Crotona Park East|       2633|21.800227876946447|\n+------------------+-------------------+-----------+------------------+\nonly showing top 5 rows\n"
     ]
    }
   ],
   "source": [
    "from pyspark.sql.functions import when, col\n",
    "\n",
    "zone_days_statstic_df = (\n",
    "    extended_trips_table.groupBy(\"pickup_day_of_week\", \"pickup_zone\").agg(\n",
    "        count(\"*\").alias(\"total_trips\"),\n",
    "        (avg((col(\"fare_amount\") > 30).cast(\"int\")) * 100).alias(\"high_fare_share\"),\n",
    "    ).withColumn(\n",
    "        \"pickup_day_of_week\", \n",
    "        (when(col(\"pickup_day_of_week\") == 1, \"Sunday\")\n",
    "            .when(col(\"pickup_day_of_week\") == 2, \"Monday\")\n",
    "            .when(col(\"pickup_day_of_week\") == 3, \"Tuesday\")\n",
    "            .when(col(\"pickup_day_of_week\") == 4, \"Wednesday\")\n",
    "            .when(col(\"pickup_day_of_week\") == 5, \"Thursday\")\n",
    "            .when(col(\"pickup_day_of_week\") == 6, \"Friday\")\n",
    "            .when(col(\"pickup_day_of_week\") == 7, \"Saturday\")\n",
    "        )\n",
    "    )\n",
    ")\n",
    "\n",
    "zone_days_statstic_df.show(5)"
   ]
  },
  {
   "cell_type": "code",
   "execution_count": 0,
   "metadata": {
    "application/vnd.databricks.v1+cell": {
     "cellMetadata": {
      "byteLimit": 2048000,
      "rowLimit": 10000
     },
     "inputWidgets": {},
     "nuid": "af9502cb-217d-48fd-9dfb-2d19fa7f97fd",
     "showTitle": false,
     "tableResultSettingsMap": {},
     "title": ""
    }
   },
   "outputs": [],
   "source": [
    "ZONE_DAYS_SUMMARY_TABLE_PATH = \"s3a://lavreniuk-hw2/data/zone-days-summary/\"\n",
    "\n",
    "zone_days_statstic_df.write \\\n",
    "  .format(\"delta\") \\\n",
    "  .mode(\"overwrite\") \\\n",
    "  .option(\"path\", ZONE_DAYS_SUMMARY_TABLE_PATH) \\\n",
    "  .saveAsTable(\"dima_lavreniuk_nyc_catalog.trips_schema.zone_days_summary\")"
   ]
  },
  {
   "cell_type": "code",
   "execution_count": 0,
   "metadata": {
    "application/vnd.databricks.v1+cell": {
     "cellMetadata": {
      "byteLimit": 2048000,
      "implicitDf": true,
      "rowLimit": 10000
     },
     "inputWidgets": {},
     "nuid": "c90e9249-67be-4344-8674-3286bf3ca484",
     "showTitle": false,
     "tableResultSettingsMap": {},
     "title": ""
    }
   },
   "outputs": [
    {
     "output_type": "display_data",
     "data": {
      "text/html": [
       "<style scoped>\n",
       "  .table-result-container {\n",
       "    max-height: 300px;\n",
       "    overflow: auto;\n",
       "  }\n",
       "  table, th, td {\n",
       "    border: 1px solid black;\n",
       "    border-collapse: collapse;\n",
       "  }\n",
       "  th, td {\n",
       "    padding: 5px;\n",
       "  }\n",
       "  th {\n",
       "    text-align: left;\n",
       "  }\n",
       "</style><div class='table-result-container'><table class='table-result'><thead style='background-color: white'><tr><th>pickup_zone</th><th>total_trips</th><th>avg_trip_distance</th><th>avg_total_amount</th><th>avg_tip_amount</th><th>yellow_share</th><th>green_share</th><th>max_trip_distance</th><th>min_tip_amount</th></tr></thead><tbody><tr><td>Governor's Island/Ellis Island/Liberty Island</td><td>1867</td><td>3.901039100160685</td><td>18.74173004820567</td><td>1.9904392072844128</td><td>100.0</td><td>0.0</td><td>29.1</td><td>0.0</td></tr><tr><td>Homecrest</td><td>34190</td><td>30.87262386662754</td><td>25.87658847616139</td><td>0.7470394852295992</td><td>36.75636150921322</td><td>63.24363849078678</td><td>235036.33</td><td>0.0</td></tr><tr><td>Corona</td><td>64329</td><td>24.972252327876866</td><td>28.682097343342683</td><td>1.7341660837258468</td><td>49.284148673226696</td><td>50.71585132677331</td><td>250984.47</td><td>0.0</td></tr><tr><td>Bensonhurst West</td><td>34719</td><td>55.11959993087384</td><td>29.322031740544546</td><td>0.8070805610760681</td><td>39.74768858550073</td><td>60.252311414499275</td><td>350696.98</td><td>0.0</td></tr><tr><td>Westerleigh</td><td>801</td><td>9.987215980024969</td><td>44.46600499375781</td><td>2.9903245942571783</td><td>76.02996254681648</td><td>23.970037453183522</td><td>124.4</td><td>0.0</td></tr></tbody></table></div>"
      ]
     },
     "metadata": {
      "application/vnd.databricks.v1+output": {
       "addedWidgets": {},
       "aggData": [],
       "aggError": "",
       "aggOverflow": false,
       "aggSchema": [],
       "aggSeriesLimitReached": false,
       "aggType": "",
       "arguments": {},
       "columnCustomDisplayInfos": {},
       "data": [
        [
         "Governor's Island/Ellis Island/Liberty Island",
         1867,
         3.901039100160685,
         18.74173004820567,
         1.9904392072844128,
         100.0,
         0.0,
         29.1,
         0.0
        ],
        [
         "Homecrest",
         34190,
         30.87262386662754,
         25.87658847616139,
         0.7470394852295992,
         36.75636150921322,
         63.24363849078678,
         235036.33,
         0.0
        ],
        [
         "Corona",
         64329,
         24.972252327876866,
         28.682097343342683,
         1.7341660837258468,
         49.284148673226696,
         50.71585132677331,
         250984.47,
         0.0
        ],
        [
         "Bensonhurst West",
         34719,
         55.11959993087384,
         29.322031740544546,
         0.8070805610760681,
         39.74768858550073,
         60.252311414499275,
         350696.98,
         0.0
        ],
        [
         "Westerleigh",
         801,
         9.987215980024969,
         44.46600499375781,
         2.9903245942571783,
         76.02996254681648,
         23.970037453183522,
         124.4,
         0.0
        ]
       ],
       "datasetInfos": [
        {
         "name": "_sqldf",
         "schema": {
          "fields": [
           {
            "metadata": {},
            "name": "pickup_zone",
            "nullable": true,
            "type": "string"
           },
           {
            "metadata": {},
            "name": "total_trips",
            "nullable": true,
            "type": "long"
           },
           {
            "metadata": {},
            "name": "avg_trip_distance",
            "nullable": true,
            "type": "double"
           },
           {
            "metadata": {},
            "name": "avg_total_amount",
            "nullable": true,
            "type": "double"
           },
           {
            "metadata": {},
            "name": "avg_tip_amount",
            "nullable": true,
            "type": "double"
           },
           {
            "metadata": {},
            "name": "yellow_share",
            "nullable": true,
            "type": "double"
           },
           {
            "metadata": {},
            "name": "green_share",
            "nullable": true,
            "type": "double"
           },
           {
            "metadata": {},
            "name": "max_trip_distance",
            "nullable": true,
            "type": "double"
           },
           {
            "metadata": {},
            "name": "min_tip_amount",
            "nullable": true,
            "type": "double"
           }
          ],
          "type": "struct"
         },
         "tableIdentifier": null,
         "typeStr": "pyspark.sql.dataframe.DataFrame"
        }
       ],
       "dbfsResultPath": null,
       "isJsonSchema": true,
       "metadata": {
        "createTempViewForImplicitDf": true,
        "dataframeName": "_sqldf",
        "executionCount": 14
       },
       "overflow": false,
       "plotOptions": {
        "customPlotOptions": {},
        "displayType": "table",
        "pivotAggregation": null,
        "pivotColumns": null,
        "xColumns": null,
        "yColumns": null
       },
       "removedWidgets": [],
       "schema": [
        {
         "metadata": "{}",
         "name": "pickup_zone",
         "type": "\"string\""
        },
        {
         "metadata": "{}",
         "name": "total_trips",
         "type": "\"long\""
        },
        {
         "metadata": "{}",
         "name": "avg_trip_distance",
         "type": "\"double\""
        },
        {
         "metadata": "{}",
         "name": "avg_total_amount",
         "type": "\"double\""
        },
        {
         "metadata": "{}",
         "name": "avg_tip_amount",
         "type": "\"double\""
        },
        {
         "metadata": "{}",
         "name": "yellow_share",
         "type": "\"double\""
        },
        {
         "metadata": "{}",
         "name": "green_share",
         "type": "\"double\""
        },
        {
         "metadata": "{}",
         "name": "max_trip_distance",
         "type": "\"double\""
        },
        {
         "metadata": "{}",
         "name": "min_tip_amount",
         "type": "\"double\""
        }
       ],
       "type": "table"
      }
     },
     "output_type": "display_data"
    }
   ],
   "source": [
    "%sql\n",
    "\n",
    "select * from dima_lavreniuk_nyc_catalog.trips_schema.zone_summary limit 5;"
   ]
  },
  {
   "cell_type": "code",
   "execution_count": 0,
   "metadata": {
    "application/vnd.databricks.v1+cell": {
     "cellMetadata": {
      "byteLimit": 2048000,
      "implicitDf": true,
      "rowLimit": 10000
     },
     "inputWidgets": {},
     "nuid": "e108cbbf-bb5f-4408-ab97-4274b79338fa",
     "showTitle": false,
     "tableResultSettingsMap": {},
     "title": ""
    }
   },
   "outputs": [],
   "source": [
    "%sql\n",
    "\n",
    "GRANT ALL PRIVILEGES ON CATALOG `dima_lavreniuk_nyc_catalog` TO `deniskulemza1@gmail.com`;"
   ]
  }
 ],
 "metadata": {
  "application/vnd.databricks.v1+notebook": {
   "computePreferences": null,
   "dashboards": [],
   "environmentMetadata": {
    "base_environment": "",
    "environment_version": "2"
   },
   "inputWidgetPreferences": null,
   "language": "python",
   "notebookMetadata": {
    "mostRecentlyExecutedCommandWithImplicitDF": {
     "commandId": 6976635624275390,
     "dataframes": [
      "_sqldf"
     ]
    },
    "pythonIndentUnit": 4
   },
   "notebookName": "hw2-lavreniuk",
   "widgets": {}
  },
  "language_info": {
   "name": "python"
  }
 },
 "nbformat": 4,
 "nbformat_minor": 0
}